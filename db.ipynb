{
 "cells": [
  {
   "cell_type": "code",
   "execution_count": 26,
   "id": "initial_id",
   "metadata": {
    "collapsed": true,
    "ExecuteTime": {
     "end_time": "2024-03-20T02:39:50.268233800Z",
     "start_time": "2024-03-20T02:39:49.702040700Z"
    }
   },
   "outputs": [],
   "source": [
    "import pandas as pd\n",
    "\n",
    "prof_df = pd.read_csv('prof_dat.csv')\n",
    "comments_df = pd.read_csv('all_comments.csv')\n",
    "\n",
    "prof_df.rename(columns={'Quality Rating': 'Prof Quality Rating'}, inplace=True)\n",
    "comments_df.drop(columns=['Link', 'Unnamed: 0'], inplace=True)\n",
    "comments_df.rename(columns={'Quality Rating': 'Comment Quality Rating'}, inplace=True)"
   ]
  },
  {
   "cell_type": "code",
   "execution_count": 27,
   "outputs": [
    {
     "name": "stderr",
     "output_type": "stream",
     "text": [
      "4576it [03:59, 19.14it/s]"
     ]
    },
    {
     "name": "stdout",
     "output_type": "stream",
     "text": [
      "Number of matches -  4126\n"
     ]
    },
    {
     "name": "stderr",
     "output_type": "stream",
     "text": [
      "\n"
     ]
    }
   ],
   "source": [
    "import fuzzywuzzy\n",
    "from fuzzywuzzy import fuzz\n",
    "import re\n",
    "from tqdm import tqdm\n",
    "\n",
    "registrar_df = pd.read_csv('registrar_data.csv')\n",
    "\n",
    "course_df = pd.read_csv('ucdavis_courses.csv')\n",
    "course_df['Subject Name'] = [re.sub(r'\\(\\w+\\)', '', sub_name) for sub_name in course_df['Subject Name']]\n",
    "\n",
    "registrar_course_df = pd.merge(registrar_df, course_df, left_on='CourseId', right_on='Course Code', how='left')\n",
    "\n",
    "prerequisites_df = pd.DataFrame(columns=['Course Code', 'Prerequisite Code'])\n",
    "c=0\n",
    "\n",
    "dep_map = {}\n",
    "\n",
    "\n",
    "for index, rows in tqdm(registrar_course_df.iterrows()):\n",
    "    registrar_prof_name = rows['ProfName']\n",
    "    match_scores_name = [(fuzzywuzzy.fuzz.token_set_ratio(registrar_prof_name, profName), profName, depName) for profName, depName in\n",
    "                         set(zip(prof_df['Name'], prof_df['Department']))]\n",
    "    match_scores_dep = [(fuzzywuzzy.fuzz.token_set_ratio(rows['Subject Name'], depName), depName) for depName in set(prof_df['Department'])]\n",
    "    match_scores_name.sort(reverse=True)\n",
    "    match_scores_dep.sort(reverse=True)\n",
    "    \n",
    "    if match_scores_name[0][0] < 70:\n",
    "        if match_scores_name[0][0] + match_scores_dep[0][0] <= 140 or match_scores_name[0][0] < 65:\n",
    "            # print(registrar_prof_name, ':', match_scores_name[0][1], match_scores_name[0][0])\n",
    "            # print(rows['Subject Name'], ':', match_scores_dep[0][1], match_scores_dep[0][0])\n",
    "            # print()\n",
    "            continue\n",
    "\n",
    "    registrar_course_df.at[index, 'ProfName'] = match_scores_name[0][1]\n",
    "    registrar_course_df.at[index, 'Subject Name'] = rows['Subject Name']\n",
    "    if fuzzywuzzy.fuzz.token_set_ratio(rows['Subject Name'], match_scores_name[0][2]) > fuzzywuzzy.fuzz.token_set_ratio(match_scores_name[0][2], dep_map[match_scores_name[0][2]] \n",
    "    if match_scores_name[0][2] in dep_map else ''):\n",
    "        dep_map[match_scores_name[0][2]] = rows['Subject Name']\n",
    "    course_units = rows['Course Units'].strip()\n",
    "    course_units = re.sub(r' unit[s]*', '', course_units)\n",
    "    course_units = re.sub(r'\\d+-', '', course_units)\n",
    "    registrar_course_df.at[index, 'Course Units'] = course_units\n",
    "    prerequisites = re.findall(r'(\\w+ \\d+[A-Z]*)', str(rows['Prerequisites']))\n",
    "    for pr in prerequisites:\n",
    "        prerequisites_df.loc[len(prerequisites_df)] = [rows['Course Code'], pr]\n",
    "    c+=1\n",
    "\n",
    "print('Number of matches - ', c)"
   ],
   "metadata": {
    "collapsed": false,
    "ExecuteTime": {
     "end_time": "2024-03-20T02:43:51.801019Z",
     "start_time": "2024-03-20T02:39:52.415273900Z"
    }
   },
   "id": "75b0e4f5db5672eb"
  },
  {
   "cell_type": "code",
   "execution_count": 29,
   "outputs": [],
   "source": [
    "for index, rows in prof_df.iterrows():\n",
    "    if rows['Department'] in dep_map:\n",
    "        prof_df.at[index, 'Department'] = dep_map[rows['Department']]"
   ],
   "metadata": {
    "collapsed": false,
    "ExecuteTime": {
     "end_time": "2024-03-20T02:44:46.224646500Z",
     "start_time": "2024-03-20T02:44:45.837977200Z"
    }
   },
   "id": "e6c8e239e40b831f"
  },
  {
   "cell_type": "code",
   "execution_count": 34,
   "outputs": [
    {
     "ename": "KeyError",
     "evalue": "'Course Name'",
     "output_type": "error",
     "traceback": [
      "\u001B[1;31m---------------------------------------------------------------------------\u001B[0m",
      "\u001B[1;31mKeyError\u001B[0m                                  Traceback (most recent call last)",
      "File \u001B[1;32m~\\Downloads\\SmartAggie\\venv\\Lib\\site-packages\\pandas\\core\\indexes\\base.py:3805\u001B[0m, in \u001B[0;36mIndex.get_loc\u001B[1;34m(self, key)\u001B[0m\n\u001B[0;32m   3804\u001B[0m \u001B[38;5;28;01mtry\u001B[39;00m:\n\u001B[1;32m-> 3805\u001B[0m     \u001B[38;5;28;01mreturn\u001B[39;00m \u001B[38;5;28;43mself\u001B[39;49m\u001B[38;5;241;43m.\u001B[39;49m\u001B[43m_engine\u001B[49m\u001B[38;5;241;43m.\u001B[39;49m\u001B[43mget_loc\u001B[49m\u001B[43m(\u001B[49m\u001B[43mcasted_key\u001B[49m\u001B[43m)\u001B[49m\n\u001B[0;32m   3806\u001B[0m \u001B[38;5;28;01mexcept\u001B[39;00m \u001B[38;5;167;01mKeyError\u001B[39;00m \u001B[38;5;28;01mas\u001B[39;00m err:\n",
      "File \u001B[1;32mindex.pyx:167\u001B[0m, in \u001B[0;36mpandas._libs.index.IndexEngine.get_loc\u001B[1;34m()\u001B[0m\n",
      "File \u001B[1;32mindex.pyx:196\u001B[0m, in \u001B[0;36mpandas._libs.index.IndexEngine.get_loc\u001B[1;34m()\u001B[0m\n",
      "File \u001B[1;32mpandas\\\\_libs\\\\hashtable_class_helper.pxi:7081\u001B[0m, in \u001B[0;36mpandas._libs.hashtable.PyObjectHashTable.get_item\u001B[1;34m()\u001B[0m\n",
      "File \u001B[1;32mpandas\\\\_libs\\\\hashtable_class_helper.pxi:7089\u001B[0m, in \u001B[0;36mpandas._libs.hashtable.PyObjectHashTable.get_item\u001B[1;34m()\u001B[0m\n",
      "\u001B[1;31mKeyError\u001B[0m: 'Course Name'",
      "\nThe above exception was the direct cause of the following exception:\n",
      "\u001B[1;31mKeyError\u001B[0m                                  Traceback (most recent call last)",
      "Cell \u001B[1;32mIn[34], line 2\u001B[0m\n\u001B[0;32m      1\u001B[0m registrar_course_df[\u001B[38;5;124m'\u001B[39m\u001B[38;5;124mCourse Description\u001B[39m\u001B[38;5;124m'\u001B[39m] \u001B[38;5;241m=\u001B[39m [first \u001B[38;5;241m+\u001B[39m \u001B[38;5;124m'\u001B[39m\u001B[38;5;124m: \u001B[39m\u001B[38;5;124m'\u001B[39m \u001B[38;5;241m+\u001B[39m last \n\u001B[1;32m----> 2\u001B[0m                                              \u001B[38;5;28;01mfor\u001B[39;00m first, last \u001B[38;5;129;01min\u001B[39;00m \u001B[38;5;28mzip\u001B[39m(\u001B[38;5;28mlist\u001B[39m(\u001B[43mregistrar_course_df\u001B[49m\u001B[43m[\u001B[49m\u001B[38;5;124;43m'\u001B[39;49m\u001B[38;5;124;43mCourse Name\u001B[39;49m\u001B[38;5;124;43m'\u001B[39;49m\u001B[43m]\u001B[49m), \u001B[38;5;28mlist\u001B[39m(registrar_course_df[\u001B[38;5;124m'\u001B[39m\u001B[38;5;124mCourse Description\u001B[39m\u001B[38;5;124m'\u001B[39m]))]\n\u001B[0;32m      3\u001B[0m registrar_course_df[\u001B[38;5;124m'\u001B[39m\u001B[38;5;124mCourse Units\u001B[39m\u001B[38;5;124m'\u001B[39m] \u001B[38;5;241m=\u001B[39m [units\u001B[38;5;241m.\u001B[39mreplace(\u001B[38;5;124m'\u001B[39m\u001B[38;5;124m units\u001B[39m\u001B[38;5;124m'\u001B[39m, \u001B[38;5;124m'\u001B[39m\u001B[38;5;124m'\u001B[39m) \u001B[38;5;28;01mfor\u001B[39;00m units \u001B[38;5;129;01min\u001B[39;00m registrar_course_df[\u001B[38;5;124m'\u001B[39m\u001B[38;5;124mCourse Units\u001B[39m\u001B[38;5;124m'\u001B[39m]]\n\u001B[0;32m      4\u001B[0m registrar_course_df\u001B[38;5;241m.\u001B[39mdrop(columns\u001B[38;5;241m=\u001B[39m[\u001B[38;5;124m'\u001B[39m\u001B[38;5;124mPrerequisites\u001B[39m\u001B[38;5;124m'\u001B[39m, \u001B[38;5;124m'\u001B[39m\u001B[38;5;124mCourseId\u001B[39m\u001B[38;5;124m'\u001B[39m, \u001B[38;5;124m'\u001B[39m\u001B[38;5;124mCourse Name\u001B[39m\u001B[38;5;124m'\u001B[39m, \u001B[38;5;124m'\u001B[39m\u001B[38;5;124mSubject Code\u001B[39m\u001B[38;5;124m'\u001B[39m], inplace\u001B[38;5;241m=\u001B[39m\u001B[38;5;28;01mTrue\u001B[39;00m)\n",
      "File \u001B[1;32m~\\Downloads\\SmartAggie\\venv\\Lib\\site-packages\\pandas\\core\\frame.py:4090\u001B[0m, in \u001B[0;36mDataFrame.__getitem__\u001B[1;34m(self, key)\u001B[0m\n\u001B[0;32m   4088\u001B[0m \u001B[38;5;28;01mif\u001B[39;00m \u001B[38;5;28mself\u001B[39m\u001B[38;5;241m.\u001B[39mcolumns\u001B[38;5;241m.\u001B[39mnlevels \u001B[38;5;241m>\u001B[39m \u001B[38;5;241m1\u001B[39m:\n\u001B[0;32m   4089\u001B[0m     \u001B[38;5;28;01mreturn\u001B[39;00m \u001B[38;5;28mself\u001B[39m\u001B[38;5;241m.\u001B[39m_getitem_multilevel(key)\n\u001B[1;32m-> 4090\u001B[0m indexer \u001B[38;5;241m=\u001B[39m \u001B[38;5;28;43mself\u001B[39;49m\u001B[38;5;241;43m.\u001B[39;49m\u001B[43mcolumns\u001B[49m\u001B[38;5;241;43m.\u001B[39;49m\u001B[43mget_loc\u001B[49m\u001B[43m(\u001B[49m\u001B[43mkey\u001B[49m\u001B[43m)\u001B[49m\n\u001B[0;32m   4091\u001B[0m \u001B[38;5;28;01mif\u001B[39;00m is_integer(indexer):\n\u001B[0;32m   4092\u001B[0m     indexer \u001B[38;5;241m=\u001B[39m [indexer]\n",
      "File \u001B[1;32m~\\Downloads\\SmartAggie\\venv\\Lib\\site-packages\\pandas\\core\\indexes\\base.py:3812\u001B[0m, in \u001B[0;36mIndex.get_loc\u001B[1;34m(self, key)\u001B[0m\n\u001B[0;32m   3807\u001B[0m     \u001B[38;5;28;01mif\u001B[39;00m \u001B[38;5;28misinstance\u001B[39m(casted_key, \u001B[38;5;28mslice\u001B[39m) \u001B[38;5;129;01mor\u001B[39;00m (\n\u001B[0;32m   3808\u001B[0m         \u001B[38;5;28misinstance\u001B[39m(casted_key, abc\u001B[38;5;241m.\u001B[39mIterable)\n\u001B[0;32m   3809\u001B[0m         \u001B[38;5;129;01mand\u001B[39;00m \u001B[38;5;28many\u001B[39m(\u001B[38;5;28misinstance\u001B[39m(x, \u001B[38;5;28mslice\u001B[39m) \u001B[38;5;28;01mfor\u001B[39;00m x \u001B[38;5;129;01min\u001B[39;00m casted_key)\n\u001B[0;32m   3810\u001B[0m     ):\n\u001B[0;32m   3811\u001B[0m         \u001B[38;5;28;01mraise\u001B[39;00m InvalidIndexError(key)\n\u001B[1;32m-> 3812\u001B[0m     \u001B[38;5;28;01mraise\u001B[39;00m \u001B[38;5;167;01mKeyError\u001B[39;00m(key) \u001B[38;5;28;01mfrom\u001B[39;00m \u001B[38;5;21;01merr\u001B[39;00m\n\u001B[0;32m   3813\u001B[0m \u001B[38;5;28;01mexcept\u001B[39;00m \u001B[38;5;167;01mTypeError\u001B[39;00m:\n\u001B[0;32m   3814\u001B[0m     \u001B[38;5;66;03m# If we have a listlike key, _check_indexing_error will raise\u001B[39;00m\n\u001B[0;32m   3815\u001B[0m     \u001B[38;5;66;03m#  InvalidIndexError. Otherwise we fall through and re-raise\u001B[39;00m\n\u001B[0;32m   3816\u001B[0m     \u001B[38;5;66;03m#  the TypeError.\u001B[39;00m\n\u001B[0;32m   3817\u001B[0m     \u001B[38;5;28mself\u001B[39m\u001B[38;5;241m.\u001B[39m_check_indexing_error(key)\n",
      "\u001B[1;31mKeyError\u001B[0m: 'Course Name'"
     ]
    }
   ],
   "source": [
    "registrar_course_df['Course Description'] = [first + ': ' + last \n",
    "                                             for first, last in zip(list(registrar_course_df['Course Name']), list(registrar_course_df['Course Description']))]\n",
    "registrar_course_df['Course Units'] = [units.replace(' units', '') for units in registrar_course_df['Course Units']]\n",
    "registrar_course_df.drop(columns=['Prerequisites', 'CourseId', 'Course Name', 'Subject Code'], inplace=True)\n",
    "registrar_course_df = registrar_course_df.convert_dtypes()\n",
    "registrar_course_df.drop_duplicates(subset=['CRN', 'Quarter'], ignore_index=True, inplace=True)\n",
    "registrar_course_df"
   ],
   "metadata": {
    "collapsed": false,
    "ExecuteTime": {
     "end_time": "2024-03-20T03:25:34.970552300Z",
     "start_time": "2024-03-20T03:25:33.604159100Z"
    }
   },
   "id": "41aa8044a0d14a3a"
  },
  {
   "cell_type": "code",
   "execution_count": 38,
   "outputs": [
    {
     "data": {
      "text/plain": "4568"
     },
     "execution_count": 38,
     "metadata": {},
     "output_type": "execute_result"
    }
   ],
   "source": [
    "import sqlite3\n",
    "\n",
    "conn = sqlite3.connect('smartAggie.sqlite')\n",
    "# course_info\n",
    "registrar_course_df.to_sql(name='Courses', index=False, con=conn)\n",
    "# prerequisites\n",
    "# prerequisites_df.to_sql(name='Prerequisites', index=False, con=conn)\n",
    "# prof_df\n",
    "# prof_df.to_sql(name='Professors', index=False, con=conn)\n",
    "# comments_df\n",
    "# comments_df.to_sql(name='Comments', index=False, con=conn)"
   ],
   "metadata": {
    "collapsed": false,
    "ExecuteTime": {
     "end_time": "2024-03-20T03:27:17.991860Z",
     "start_time": "2024-03-20T03:27:17.957605800Z"
    }
   },
   "id": "808bcec3120b59c1"
  }
 ],
 "metadata": {
  "kernelspec": {
   "display_name": "Python 3",
   "language": "python",
   "name": "python3"
  },
  "language_info": {
   "codemirror_mode": {
    "name": "ipython",
    "version": 2
   },
   "file_extension": ".py",
   "mimetype": "text/x-python",
   "name": "python",
   "nbconvert_exporter": "python",
   "pygments_lexer": "ipython2",
   "version": "2.7.6"
  }
 },
 "nbformat": 4,
 "nbformat_minor": 5
}
