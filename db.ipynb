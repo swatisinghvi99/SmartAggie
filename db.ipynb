{
 "cells": [
  {
   "cell_type": "code",
   "execution_count": 1,
   "id": "initial_id",
   "metadata": {
    "collapsed": true,
    "ExecuteTime": {
     "end_time": "2024-03-19T04:33:58.221972100Z",
     "start_time": "2024-03-19T04:33:57.257160100Z"
    }
   },
   "outputs": [],
   "source": [
    "import pandas as pd\n",
    "\n",
    "prof_df = pd.read_csv('prof_dat.csv')\n",
    "comments_df = pd.read_csv('all_comments.csv')\n",
    "\n",
    "prof_df.rename(columns={'Quality Rating': 'Prof Quality Rating'}, inplace=True)\n",
    "comments_df.drop(columns=['Link', 'Unnamed: 0'], inplace=True)\n",
    "comments_df.rename(columns={'Quality Rating': 'Comment Quality Rating'}, inplace=True)"
   ]
  },
  {
   "cell_type": "code",
   "execution_count": 47,
   "outputs": [
    {
     "name": "stderr",
     "output_type": "stream",
     "text": [
      "4576it [03:47, 20.12it/s]"
     ]
    },
    {
     "name": "stdout",
     "output_type": "stream",
     "text": [
      "Number of matches -  4126\n"
     ]
    },
    {
     "name": "stderr",
     "output_type": "stream",
     "text": [
      "\n"
     ]
    }
   ],
   "source": [
    "import fuzzywuzzy\n",
    "from fuzzywuzzy import fuzz\n",
    "import re\n",
    "from tqdm import tqdm\n",
    "\n",
    "registrar_df = pd.read_csv('registrar_data.csv')\n",
    "\n",
    "course_df = pd.read_csv('ucdavis_courses.csv')\n",
    "course_df['Subject Name'] = [re.sub(r'\\(\\w+\\)', '', sub_name) for sub_name in course_df['Subject Name']]\n",
    "\n",
    "registrar_course_df = pd.merge(registrar_df, course_df, left_on='CourseId', right_on='Course Code', how='left')\n",
    "\n",
    "prerequisites_df = pd.DataFrame(columns=['Course Code', 'Prerequisite Code'])\n",
    "c=0\n",
    "\n",
    "\n",
    "for index, rows in tqdm(registrar_course_df.iterrows()):\n",
    "    registrar_prof_name = rows['ProfName']\n",
    "    match_scores_name = [(fuzzywuzzy.fuzz.token_set_ratio(registrar_prof_name, profName), profName) for profName in set(prof_df['Name'])]\n",
    "    match_scores_dep = [(fuzzywuzzy.fuzz.token_set_ratio(rows['Subject Name'], depName), depName) for depName in set(prof_df['Department'])]\n",
    "    match_scores_name.sort(reverse=True)\n",
    "    match_scores_dep.sort(reverse=True)\n",
    "    \n",
    "    if match_scores_name[0][0] < 70:\n",
    "        if match_scores_name[0][0] + match_scores_dep[0][0] <= 140 or match_scores_name[0][0] < 65:\n",
    "            # print(registrar_prof_name, ':', match_scores_name[0][1], match_scores_name[0][0])\n",
    "            # print(rows['Subject Name'], ':', match_scores_dep[0][1], match_scores_dep[0][0])\n",
    "            # print()\n",
    "            continue\n",
    "\n",
    "    registrar_course_df.at[index, 'ProfName'] = match_scores_name[0][1]\n",
    "    registrar_course_df.at[index, 'Subject Name'] = match_scores_dep[0][1]\n",
    "    course_units = rows['Course Units'].strip()\n",
    "    course_units = re.sub(r' unit[s]*', '', course_units)\n",
    "    course_units = re.sub(r'\\d+-', '', course_units)\n",
    "    registrar_course_df.at[index, 'Course Units'] = course_units\n",
    "    prerequisites = re.findall(r'(\\w+ \\d+[A-Z]*)', str(rows['Prerequisites']))\n",
    "    for pr in prerequisites:\n",
    "        prerequisites_df.loc[len(prerequisites_df)] = [rows['Course Code'], pr]\n",
    "    c+=1\n",
    "\n",
    "print('Number of matches - ', c)"
   ],
   "metadata": {
    "collapsed": false,
    "ExecuteTime": {
     "end_time": "2024-03-19T06:18:26.177691300Z",
     "start_time": "2024-03-19T06:14:38.649003300Z"
    }
   },
   "id": "75b0e4f5db5672eb"
  },
  {
   "cell_type": "code",
   "execution_count": 48,
   "outputs": [
    {
     "data": {
      "text/plain": "                  ProfName  Quarter    CRN             Subject Name  \\\n0     Moradewun Adejunmobi   202401  44239         American Studies   \n1          Bettina Ng'Weno   202401  10001         American Studies   \n2              Elisa White   202401  10003         American Studies   \n3        Elizabeth Mukiibi   202401  44240         American Studies   \n4              Elisa White   202401  10011         American Studies   \n...                    ...      ...    ...                      ...   \n4571       Joseph Mitchell   202410  43203                  Physics   \n4572            Brie Tripp   202410  40252  Neurobiology & Behavior   \n4573           Armela Keqi   202401  36967                  Physics   \n4574       Andrew McElrone   202410  49118    Viticulture & Enology   \n4575      Christiana Drake   202410  48121               Statistics   \n\n     Course Code                                 Course Description  \\\n0        AAS 017  Women in African Societies: Gender relations i...   \n1        AAS 018  Introduction to Caribbean Studies: Introductio...   \n2        AAS 050  Black Popular Culture: Survey of the African A...   \n3        AAS 101  Introduction to Research in the Afro-American ...   \n4       AAS 107B  African Descent Communities & Culture in North...   \n...          ...                                                ...   \n4571    PHY 001A  Principles of Physics: Mechanics. Introduction...   \n4572     NPB 143  Neurobiology & Pathophysiology of Mental Illne...   \n4573    PHY 007B         General Physics: Continuation of PHY 007A.   \n4574     VEN 290                                  Seminar: Seminar.   \n4575     STA 104  Applied Statistical Methods: Nonparametric Sta...   \n\n     Course Units  \n0               4  \n1               4  \n2               4  \n3               4  \n4               4  \n...           ...  \n4571            3  \n4572            3  \n4573            4  \n4574            1  \n4575            4  \n\n[4576 rows x 7 columns]",
      "text/html": "<div>\n<style scoped>\n    .dataframe tbody tr th:only-of-type {\n        vertical-align: middle;\n    }\n\n    .dataframe tbody tr th {\n        vertical-align: top;\n    }\n\n    .dataframe thead th {\n        text-align: right;\n    }\n</style>\n<table border=\"1\" class=\"dataframe\">\n  <thead>\n    <tr style=\"text-align: right;\">\n      <th></th>\n      <th>ProfName</th>\n      <th>Quarter</th>\n      <th>CRN</th>\n      <th>Subject Name</th>\n      <th>Course Code</th>\n      <th>Course Description</th>\n      <th>Course Units</th>\n    </tr>\n  </thead>\n  <tbody>\n    <tr>\n      <th>0</th>\n      <td>Moradewun Adejunmobi</td>\n      <td>202401</td>\n      <td>44239</td>\n      <td>American Studies</td>\n      <td>AAS 017</td>\n      <td>Women in African Societies: Gender relations i...</td>\n      <td>4</td>\n    </tr>\n    <tr>\n      <th>1</th>\n      <td>Bettina Ng'Weno</td>\n      <td>202401</td>\n      <td>10001</td>\n      <td>American Studies</td>\n      <td>AAS 018</td>\n      <td>Introduction to Caribbean Studies: Introductio...</td>\n      <td>4</td>\n    </tr>\n    <tr>\n      <th>2</th>\n      <td>Elisa White</td>\n      <td>202401</td>\n      <td>10003</td>\n      <td>American Studies</td>\n      <td>AAS 050</td>\n      <td>Black Popular Culture: Survey of the African A...</td>\n      <td>4</td>\n    </tr>\n    <tr>\n      <th>3</th>\n      <td>Elizabeth Mukiibi</td>\n      <td>202401</td>\n      <td>44240</td>\n      <td>American Studies</td>\n      <td>AAS 101</td>\n      <td>Introduction to Research in the Afro-American ...</td>\n      <td>4</td>\n    </tr>\n    <tr>\n      <th>4</th>\n      <td>Elisa White</td>\n      <td>202401</td>\n      <td>10011</td>\n      <td>American Studies</td>\n      <td>AAS 107B</td>\n      <td>African Descent Communities &amp; Culture in North...</td>\n      <td>4</td>\n    </tr>\n    <tr>\n      <th>...</th>\n      <td>...</td>\n      <td>...</td>\n      <td>...</td>\n      <td>...</td>\n      <td>...</td>\n      <td>...</td>\n      <td>...</td>\n    </tr>\n    <tr>\n      <th>4571</th>\n      <td>Joseph Mitchell</td>\n      <td>202410</td>\n      <td>43203</td>\n      <td>Physics</td>\n      <td>PHY 001A</td>\n      <td>Principles of Physics: Mechanics. Introduction...</td>\n      <td>3</td>\n    </tr>\n    <tr>\n      <th>4572</th>\n      <td>Brie Tripp</td>\n      <td>202410</td>\n      <td>40252</td>\n      <td>Neurobiology &amp; Behavior</td>\n      <td>NPB 143</td>\n      <td>Neurobiology &amp; Pathophysiology of Mental Illne...</td>\n      <td>3</td>\n    </tr>\n    <tr>\n      <th>4573</th>\n      <td>Armela Keqi</td>\n      <td>202401</td>\n      <td>36967</td>\n      <td>Physics</td>\n      <td>PHY 007B</td>\n      <td>General Physics: Continuation of PHY 007A.</td>\n      <td>4</td>\n    </tr>\n    <tr>\n      <th>4574</th>\n      <td>Andrew McElrone</td>\n      <td>202410</td>\n      <td>49118</td>\n      <td>Viticulture &amp; Enology</td>\n      <td>VEN 290</td>\n      <td>Seminar: Seminar.</td>\n      <td>1</td>\n    </tr>\n    <tr>\n      <th>4575</th>\n      <td>Christiana Drake</td>\n      <td>202410</td>\n      <td>48121</td>\n      <td>Statistics</td>\n      <td>STA 104</td>\n      <td>Applied Statistical Methods: Nonparametric Sta...</td>\n      <td>4</td>\n    </tr>\n  </tbody>\n</table>\n<p>4576 rows × 7 columns</p>\n</div>"
     },
     "execution_count": 48,
     "metadata": {},
     "output_type": "execute_result"
    }
   ],
   "source": [
    "registrar_course_df['Course Description'] = [first + ': ' + last \n",
    "                                             for first, last in zip(list(registrar_course_df['Course Name']), list(registrar_course_df['Course Description']))]\n",
    "registrar_course_df['Course Units'] = [units.replace(' units', '') for units in registrar_course_df['Course Units']]\n",
    "registrar_course_df.drop(columns=['Prerequisites', 'CourseId', 'Course Name', 'Subject Code'], inplace=True)\n",
    "registrar_course_df = registrar_course_df.convert_dtypes()\n",
    "registrar_course_df"
   ],
   "metadata": {
    "collapsed": false,
    "ExecuteTime": {
     "end_time": "2024-03-19T06:18:35.411712900Z",
     "start_time": "2024-03-19T06:18:35.377881500Z"
    }
   },
   "id": "41aa8044a0d14a3a"
  },
  {
   "cell_type": "code",
   "execution_count": 50,
   "outputs": [
    {
     "name": "stdout",
     "output_type": "stream",
     "text": [
      "4568\n"
     ]
    }
   ],
   "source": [
    "print(len(set(zip(list(registrar_course_df['CRN']), list(registrar_course_df['Quarter'])))))"
   ],
   "metadata": {
    "collapsed": false,
    "ExecuteTime": {
     "end_time": "2024-03-19T06:25:50.304511200Z",
     "start_time": "2024-03-19T06:25:50.274919900Z"
    }
   },
   "id": "e537ae5b5936efe1"
  },
  {
   "cell_type": "code",
   "execution_count": 49,
   "outputs": [
    {
     "data": {
      "text/plain": "4576"
     },
     "execution_count": 49,
     "metadata": {},
     "output_type": "execute_result"
    }
   ],
   "source": [
    "import sqlite3\n",
    "\n",
    "conn = sqlite3.connect('smartAggie.sqlite')\n",
    "# course_info\n",
    "registrar_course_df.to_sql(name='Courses', index=False, con=conn)\n",
    "# prerequisites\n",
    "# prerequisites_df.to_sql(name='Prerequisites', index=False, con=conn)\n",
    "# prof_df\n",
    "# prof_df.to_sql(name='Professors', index=False, con=conn)\n",
    "# comments_df\n",
    "# comments_df.to_sql(name='Comments', index=False, con=conn)"
   ],
   "metadata": {
    "collapsed": false,
    "ExecuteTime": {
     "end_time": "2024-03-19T06:21:17.454529100Z",
     "start_time": "2024-03-19T06:21:17.420053100Z"
    }
   },
   "id": "808bcec3120b59c1"
  }
 ],
 "metadata": {
  "kernelspec": {
   "display_name": "Python 3",
   "language": "python",
   "name": "python3"
  },
  "language_info": {
   "codemirror_mode": {
    "name": "ipython",
    "version": 2
   },
   "file_extension": ".py",
   "mimetype": "text/x-python",
   "name": "python",
   "nbconvert_exporter": "python",
   "pygments_lexer": "ipython2",
   "version": "2.7.6"
  }
 },
 "nbformat": 4,
 "nbformat_minor": 5
}
