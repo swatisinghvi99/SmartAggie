{
 "cells": [
  {
   "cell_type": "code",
   "execution_count": 40,
   "id": "initial_id",
   "metadata": {
    "collapsed": true,
    "ExecuteTime": {
     "end_time": "2024-03-18T23:58:06.649839Z",
     "start_time": "2024-03-18T23:58:06.501573800Z"
    }
   },
   "outputs": [],
   "source": [
    "import pandas as pd\n",
    "\n",
    "courses = pd.read_csv('ucdavis_courses.csv')\n",
    "registrar_table = pd.DataFrame(columns=['CourseId', 'ProfName', 'Quarter', 'CRN'])\n",
    "registrar_dict = {}\n",
    "start = 0"
   ]
  },
  {
   "cell_type": "code",
   "execution_count": 38,
   "outputs": [
    {
     "name": "stdout",
     "output_type": "stream",
     "text": [
      "202401 9750\n",
      "202403 9750\n",
      "202410 9750\n"
     ]
    }
   ],
   "source": [
    "import requests\n",
    "import requests_cache\n",
    "from datetime import timedelta\n",
    "from ratelimit import limits, sleep_and_retry\n",
    "import warnings\n",
    "import re\n",
    "\n",
    "warnings.filterwarnings(\"ignore\")\n",
    "\n",
    "# Enable caching\n",
    "requests_cache.install_cache(\"registrar\")\n",
    "\n",
    "headers = {\n",
    "    'Accept': '*/*',\n",
    "    'Content-Type': 'application/x-www-form-urlencoded; charset=UTF-8'\n",
    "}\n",
    "\n",
    "\n",
    "term_codes = ['202401', '202403', '202410']\n",
    "data = {\n",
    "    'termCode': '',\n",
    "    'course_number': '',\n",
    "    'multiCourse': '',\n",
    "    'course_title': '',\n",
    "    'instructor': '',\n",
    "    'subject': '-',\n",
    "    'course_start_eval': '-',\n",
    "    'course_start_time': '-',\n",
    "    'course_end_eval': '-',\n",
    "    'course_end_time': '-',\n",
    "    'course_status': '-',\n",
    "    'course_level': '-',\n",
    "    'course_units': '-',\n",
    "    'virtual': '-',\n",
    "    'runMe': '1',\n",
    "    'clearMe': '1',\n",
    "    'reorder': '',\n",
    "    'gettingResults': '0',\n",
    "}\n",
    "\n",
    "@sleep_and_retry\n",
    "@limits(calls=10, period=timedelta(seconds=10).total_seconds())\n",
    "def extract():\n",
    "    global registrar_table, data, start\n",
    "    course_list = list(courses['Course Code'])\n",
    "    for i in range(start, len(course_list), 250):\n",
    "        search_text = ','.join(course_list[i:i+250])\n",
    "        data['multiCourse'] = search_text\n",
    "        for term in term_codes:\n",
    "            try:\n",
    "                data['termCode'] = term\n",
    "                with requests.post(\n",
    "                        'https://registrar-apps.ucdavis.edu/courses/search/course_search_results.cfm',\n",
    "                        headers=headers,\n",
    "                        data=data,\n",
    "                        stream=True) as response:\n",
    "                    search_df = pd.read_html(response.text)[0]\n",
    "                    search_df = search_df.iloc[4:]\n",
    "                    search_df.columns = ['0', '1', '2', '3', '4', '5', '6']\n",
    "                    search_df.drop(columns=['0', '2', '3', '6'], inplace=True)\n",
    "                    search_df.rename(columns={'1': 'CourseId', '4': 'ProfName', '5': 'CRN'}, inplace=True)\n",
    "                    search_df['Quarter'] = [term for _ in range(search_df.shape[0])]\n",
    "                    search_df['CRN'] = [crn.replace('view ', '') for crn in search_df['CRN']]\n",
    "                    courses_list = [re.findall(r'(\\w+ \\d+[A-Z]*)', cid) for cid in search_df['CourseId']]\n",
    "                    search_df['CourseId'] = [cid[0] if len(cid) != 0 else '' for cid in courses_list]\n",
    "                    \n",
    "                    registrar_table = pd.concat([registrar_table, search_df], ignore_index=True)\n",
    "                    for index, rows in search_df.iterrows():\n",
    "                        if rows['CourseId'] in registrar_dict:\n",
    "                            if (term not in registrar_dict[rows['CourseId']] \n",
    "                                    or registrar_dict[rows['CourseId']][term] == ''):\n",
    "                                crn = re.findall(r'(\\d+)', rows['CRN'])\n",
    "                                registrar_dict[rows['CourseId']][term] = crn[0] if len(crn) != 0 else ''\n",
    "                        else:\n",
    "                            registrar_dict[rows['CourseId']] = {}\n",
    "                            crn = re.findall(r'(\\d+)', rows['CRN'])\n",
    "                            registrar_dict[rows['CourseId']][term] = crn[0] if len(crn) != 0 else ''\n",
    "                    \n",
    "                    print(term, i)\n",
    "                    start = i\n",
    "            except Exception as e:\n",
    "                print(data, e)\n",
    "\n",
    "extract()"
   ],
   "metadata": {
    "collapsed": false,
    "ExecuteTime": {
     "end_time": "2024-03-18T23:48:01.755123800Z",
     "start_time": "2024-03-18T23:47:48.186348Z"
    }
   },
   "id": "a636d8597015908a"
  },
  {
   "cell_type": "code",
   "execution_count": 108,
   "outputs": [],
   "source": [
    "exclude_list = []"
   ],
   "metadata": {
    "collapsed": false,
    "ExecuteTime": {
     "end_time": "2024-03-19T04:21:49.200912200Z",
     "start_time": "2024-03-19T04:21:49.196217200Z"
    }
   },
   "id": "1ae4eec6222db601"
  },
  {
   "cell_type": "code",
   "execution_count": 110,
   "outputs": [
    {
     "data": {
      "text/plain": "Prof name extraction progress:   0%|          | 0/6 [00:00<?, ?it/s]",
      "application/vnd.jupyter.widget-view+json": {
       "version_major": 2,
       "version_minor": 0,
       "model_id": "242f53742772460d9ef324d80bb72da7"
      }
     },
     "metadata": {},
     "output_type": "display_data"
    }
   ],
   "source": [
    "from tqdm.notebook import tqdm_notebook\n",
    "\n",
    "@sleep_and_retry\n",
    "@limits(calls=50, period=timedelta(seconds=10).total_seconds())\n",
    "def extract_prof_names():\n",
    "    crns = set()\n",
    "    \n",
    "    global exclude_list\n",
    "\n",
    "    for course, term_dict in registrar_dict.items():\n",
    "        for term, crn in term_dict.items():\n",
    "            if crn != '':\n",
    "                crns.add((crn, term, course))\n",
    "    progress = tqdm_notebook(range(registrar_table.shape[0] + len(exclude_list), len(crns)), \"Prof name extraction progress\")\n",
    "    for crn, term, course in crns:\n",
    "        if (crn, term) not in zip(list(registrar_table['CRN']), list(registrar_table['Quarter'])) and crn not in exclude_list:\n",
    "            try:\n",
    "                # print({\"crn\": crn, \"termCode\": term})\n",
    "                course_response = requests.post(\n",
    "                    'https://registrar-apps.ucdavis.edu/courses/search/course.cfm',\n",
    "                    headers=headers,\n",
    "                    data={\n",
    "                        \"crn\": crn,\n",
    "                        \"termCode\": term\n",
    "                    },\n",
    "                )\n",
    "            \n",
    "                table = pd.read_html(course_response.text)\n",
    "                prof_name = table[0].iloc[4, 0].replace('Instructor:', '').strip()\n",
    "                if len(prof_name) != 0:\n",
    "                    registrar_table.loc[len(registrar_table)] = [course, prof_name, term, crn]\n",
    "                else:\n",
    "                    exclude_list.append(crn)\n",
    "                progress.update(1)\n",
    "            except Exception as e:\n",
    "                print({\"crn\": crn, \"termCode\": term})\n",
    "                raise e\n",
    "    registrar_table.drop_duplicates(inplace=True)\n",
    "\n",
    "extract_prof_names()"
   ],
   "metadata": {
    "collapsed": false,
    "ExecuteTime": {
     "end_time": "2024-03-19T04:30:26.149466200Z",
     "start_time": "2024-03-19T04:30:11.795368200Z"
    }
   },
   "id": "b1ec4b49e4ed2ad0"
  },
  {
   "cell_type": "code",
   "execution_count": 112,
   "outputs": [],
   "source": [
    "registrar_table.to_csv('registrar_data.csv', index=False)"
   ],
   "metadata": {
    "collapsed": false,
    "ExecuteTime": {
     "end_time": "2024-03-19T04:30:55.971104400Z",
     "start_time": "2024-03-19T04:30:55.942913500Z"
    }
   },
   "id": "1f52829c4877e3e"
  },
  {
   "cell_type": "code",
   "execution_count": 63,
   "outputs": [
    {
     "name": "stdout",
     "output_type": "stream",
     "text": [
      "4723\n"
     ]
    }
   ],
   "source": [
    "crns1 = set()\n",
    "\n",
    "            \n",
    "print(len(crns1))"
   ],
   "metadata": {
    "collapsed": false,
    "ExecuteTime": {
     "end_time": "2024-03-19T02:46:50.162806300Z",
     "start_time": "2024-03-19T02:46:50.149675700Z"
    }
   },
   "id": "1327c59c9b1602d2"
  },
  {
   "cell_type": "code",
   "execution_count": 39,
   "outputs": [
    {
     "name": "stdout",
     "output_type": "stream",
     "text": [
      "** TOPIC: TO BE ANNOUNCED **\n",
      "** TOPIC: TO BE ANNOUNCED **\n",
      "** TOPIC: TO BE ANNOUNCED **\n",
      "** TOPIC: FINAL FANTASY VII: JRPGS, ECO-CRITICISMAND ADAPTION **\n",
      "** TOPIC: FINAL FANTASY VII: JRPGS, ECO-CRITICISMAND ADAPTION **\n",
      "** TOPIC: LATINA/O/X LITERATURE & MEDIA **\n",
      "** TOPIC: LATINA/O/X LITERATURE & MEDIA **\n",
      "** TOPIC: EMPIRE, RACIAL CAPITALISM, AND LITERATURESOF SPECULATION **\n"
     ]
    }
   ],
   "source": [
    "import re\n",
    "prof_dict = {}\n",
    "quarter_dict = {}\n",
    "\n",
    "for index, rows in registrar_table.iterrows():\n",
    "    prof_name = rows['ProfName']\n",
    "    if not '@ Denotes' in prof_name and not 'The Staff' in prof_name:\n",
    "        try:\n",
    "            prof_name = re.sub(r'\\d+.\\d+', '', prof_name)\n",
    "            course_code = rows['CourseId']\n",
    "            if course_code not in prof_dict:\n",
    "                prof_dict[course_code] = prof_name\n",
    "            if course_code not in quarter_dict:\n",
    "                quarter_dict[course_code] = rows['Quarter']   \n",
    "        except Exception as e:\n",
    "            print(rows['CourseId'])\n",
    "            # raise e"
   ],
   "metadata": {
    "collapsed": false,
    "ExecuteTime": {
     "end_time": "2024-03-18T05:07:06.291919400Z",
     "start_time": "2024-03-18T05:07:04.628566300Z"
    }
   },
   "id": "1247b2a6ae709ace"
  },
  {
   "cell_type": "code",
   "execution_count": 43,
   "outputs": [],
   "source": [
    "registrar_table = pd.DataFrame([\n",
    "    [course_code, prof_name, quarter] for course_code, prof_name, quarter in \n",
    "    zip(list(prof_dict.keys()), list(prof_dict.values()), list(quarter_dict.values()))\n",
    "], columns=['CourseId', 'ProfName', 'Quarter'])"
   ],
   "metadata": {
    "collapsed": false,
    "ExecuteTime": {
     "end_time": "2024-03-18T05:26:05.299678900Z",
     "start_time": "2024-03-18T05:26:05.278184700Z"
    }
   },
   "id": "62ee67e5ca5f8acd"
  },
  {
   "cell_type": "code",
   "execution_count": 95,
   "outputs": [],
   "source": [
    "registrar_table.to_csv('registrar_data.csv', index=False)"
   ],
   "metadata": {
    "collapsed": false,
    "ExecuteTime": {
     "end_time": "2024-03-19T04:00:11.914926200Z",
     "start_time": "2024-03-19T04:00:11.848621600Z"
    }
   },
   "id": "aabf2d552b42ff41"
  },
  {
   "cell_type": "code",
   "execution_count": 3,
   "outputs": [
    {
     "name": "stdout",
     "output_type": "stream",
     "text": [
      "Number of unique professors -  1957\n"
     ]
    }
   ],
   "source": [
    "print('Number of unique professors - ', len(set(list(registrar_table['ProfName']))))"
   ],
   "metadata": {
    "collapsed": false,
    "ExecuteTime": {
     "end_time": "2024-03-18T06:31:23.230669800Z",
     "start_time": "2024-03-18T06:31:23.200129100Z"
    }
   },
   "id": "5d8a3e2ef5360c04"
  }
 ],
 "metadata": {
  "kernelspec": {
   "display_name": "Python 3",
   "language": "python",
   "name": "python3"
  },
  "language_info": {
   "codemirror_mode": {
    "name": "ipython",
    "version": 2
   },
   "file_extension": ".py",
   "mimetype": "text/x-python",
   "name": "python",
   "nbconvert_exporter": "python",
   "pygments_lexer": "ipython2",
   "version": "2.7.6"
  }
 },
 "nbformat": 4,
 "nbformat_minor": 5
}
