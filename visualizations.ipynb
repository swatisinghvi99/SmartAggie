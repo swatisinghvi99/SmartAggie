{
 "cells": [
  {
   "cell_type": "code",
   "execution_count": 11,
   "id": "initial_id",
   "metadata": {
    "collapsed": true,
    "ExecuteTime": {
     "end_time": "2024-03-19T20:49:17.059450100Z",
     "start_time": "2024-03-19T20:49:17.028696100Z"
    }
   },
   "outputs": [],
   "source": [
    "import pandas as pd\n",
    "import plotly.express as px\n",
    "import plotly.graph_objects as go\n",
    "import sqlite3\n",
    "\n",
    "conn = sqlite3.connect('smartAggie.sqlite')"
   ]
  },
  {
   "cell_type": "code",
   "execution_count": 28,
   "outputs": [],
   "source": [
    "# Professors vs comment quality rating\n",
    "\n",
    "professors_df = pd.read_sql_query('SELECT Name, Department, `Prof Quality Rating`, `Level of Difficulty`, `Would Take Again`, `Total Ratings` from Professors', con=conn)"
   ],
   "metadata": {
    "collapsed": false,
    "ExecuteTime": {
     "end_time": "2024-03-19T21:12:33.573501200Z",
     "start_time": "2024-03-19T21:12:33.475922100Z"
    }
   },
   "id": "24d85624a73bd818"
  },
  {
   "cell_type": "code",
   "execution_count": 29,
   "outputs": [
    {
     "data": {
      "application/vnd.plotly.v1+json": {
       "data": [
        {
         "coloraxis": "coloraxis",
         "name": "0",
         "texttemplate": "%{z}",
         "x": [
          "Prof Quality Rating",
          "Level of Difficulty",
          "Would Take Again"
         ],
         "y": [
          "Prof Quality Rating",
          "Level of Difficulty",
          "Would Take Again"
         ],
         "z": [
          [
           1.0,
           0.028293675682470078,
           0.44268791599015006
          ],
          [
           0.028293675682470078,
           1.0,
           0.06646361420892033
          ],
          [
           0.44268791599015006,
           0.06646361420892033,
           1.0
          ]
         ],
         "type": "heatmap",
         "xaxis": "x",
         "yaxis": "y",
         "hovertemplate": "x: %{x}<br>y: %{y}<br>Correlation: %{z}<extra></extra>"
        }
       ],
       "layout": {
        "template": {
         "data": {
          "histogram2dcontour": [
           {
            "type": "histogram2dcontour",
            "colorbar": {
             "outlinewidth": 0,
             "ticks": ""
            },
            "colorscale": [
             [
              0.0,
              "#0d0887"
             ],
             [
              0.1111111111111111,
              "#46039f"
             ],
             [
              0.2222222222222222,
              "#7201a8"
             ],
             [
              0.3333333333333333,
              "#9c179e"
             ],
             [
              0.4444444444444444,
              "#bd3786"
             ],
             [
              0.5555555555555556,
              "#d8576b"
             ],
             [
              0.6666666666666666,
              "#ed7953"
             ],
             [
              0.7777777777777778,
              "#fb9f3a"
             ],
             [
              0.8888888888888888,
              "#fdca26"
             ],
             [
              1.0,
              "#f0f921"
             ]
            ]
           }
          ],
          "choropleth": [
           {
            "type": "choropleth",
            "colorbar": {
             "outlinewidth": 0,
             "ticks": ""
            }
           }
          ],
          "histogram2d": [
           {
            "type": "histogram2d",
            "colorbar": {
             "outlinewidth": 0,
             "ticks": ""
            },
            "colorscale": [
             [
              0.0,
              "#0d0887"
             ],
             [
              0.1111111111111111,
              "#46039f"
             ],
             [
              0.2222222222222222,
              "#7201a8"
             ],
             [
              0.3333333333333333,
              "#9c179e"
             ],
             [
              0.4444444444444444,
              "#bd3786"
             ],
             [
              0.5555555555555556,
              "#d8576b"
             ],
             [
              0.6666666666666666,
              "#ed7953"
             ],
             [
              0.7777777777777778,
              "#fb9f3a"
             ],
             [
              0.8888888888888888,
              "#fdca26"
             ],
             [
              1.0,
              "#f0f921"
             ]
            ]
           }
          ],
          "heatmap": [
           {
            "type": "heatmap",
            "colorbar": {
             "outlinewidth": 0,
             "ticks": ""
            },
            "colorscale": [
             [
              0.0,
              "#0d0887"
             ],
             [
              0.1111111111111111,
              "#46039f"
             ],
             [
              0.2222222222222222,
              "#7201a8"
             ],
             [
              0.3333333333333333,
              "#9c179e"
             ],
             [
              0.4444444444444444,
              "#bd3786"
             ],
             [
              0.5555555555555556,
              "#d8576b"
             ],
             [
              0.6666666666666666,
              "#ed7953"
             ],
             [
              0.7777777777777778,
              "#fb9f3a"
             ],
             [
              0.8888888888888888,
              "#fdca26"
             ],
             [
              1.0,
              "#f0f921"
             ]
            ]
           }
          ],
          "heatmapgl": [
           {
            "type": "heatmapgl",
            "colorbar": {
             "outlinewidth": 0,
             "ticks": ""
            },
            "colorscale": [
             [
              0.0,
              "#0d0887"
             ],
             [
              0.1111111111111111,
              "#46039f"
             ],
             [
              0.2222222222222222,
              "#7201a8"
             ],
             [
              0.3333333333333333,
              "#9c179e"
             ],
             [
              0.4444444444444444,
              "#bd3786"
             ],
             [
              0.5555555555555556,
              "#d8576b"
             ],
             [
              0.6666666666666666,
              "#ed7953"
             ],
             [
              0.7777777777777778,
              "#fb9f3a"
             ],
             [
              0.8888888888888888,
              "#fdca26"
             ],
             [
              1.0,
              "#f0f921"
             ]
            ]
           }
          ],
          "contourcarpet": [
           {
            "type": "contourcarpet",
            "colorbar": {
             "outlinewidth": 0,
             "ticks": ""
            }
           }
          ],
          "contour": [
           {
            "type": "contour",
            "colorbar": {
             "outlinewidth": 0,
             "ticks": ""
            },
            "colorscale": [
             [
              0.0,
              "#0d0887"
             ],
             [
              0.1111111111111111,
              "#46039f"
             ],
             [
              0.2222222222222222,
              "#7201a8"
             ],
             [
              0.3333333333333333,
              "#9c179e"
             ],
             [
              0.4444444444444444,
              "#bd3786"
             ],
             [
              0.5555555555555556,
              "#d8576b"
             ],
             [
              0.6666666666666666,
              "#ed7953"
             ],
             [
              0.7777777777777778,
              "#fb9f3a"
             ],
             [
              0.8888888888888888,
              "#fdca26"
             ],
             [
              1.0,
              "#f0f921"
             ]
            ]
           }
          ],
          "surface": [
           {
            "type": "surface",
            "colorbar": {
             "outlinewidth": 0,
             "ticks": ""
            },
            "colorscale": [
             [
              0.0,
              "#0d0887"
             ],
             [
              0.1111111111111111,
              "#46039f"
             ],
             [
              0.2222222222222222,
              "#7201a8"
             ],
             [
              0.3333333333333333,
              "#9c179e"
             ],
             [
              0.4444444444444444,
              "#bd3786"
             ],
             [
              0.5555555555555556,
              "#d8576b"
             ],
             [
              0.6666666666666666,
              "#ed7953"
             ],
             [
              0.7777777777777778,
              "#fb9f3a"
             ],
             [
              0.8888888888888888,
              "#fdca26"
             ],
             [
              1.0,
              "#f0f921"
             ]
            ]
           }
          ],
          "mesh3d": [
           {
            "type": "mesh3d",
            "colorbar": {
             "outlinewidth": 0,
             "ticks": ""
            }
           }
          ],
          "scatter": [
           {
            "marker": {
             "line": {
              "color": "#283442"
             }
            },
            "type": "scatter"
           }
          ],
          "parcoords": [
           {
            "type": "parcoords",
            "line": {
             "colorbar": {
              "outlinewidth": 0,
              "ticks": ""
             }
            }
           }
          ],
          "scatterpolargl": [
           {
            "type": "scatterpolargl",
            "marker": {
             "colorbar": {
              "outlinewidth": 0,
              "ticks": ""
             }
            }
           }
          ],
          "bar": [
           {
            "error_x": {
             "color": "#f2f5fa"
            },
            "error_y": {
             "color": "#f2f5fa"
            },
            "marker": {
             "line": {
              "color": "rgb(17,17,17)",
              "width": 0.5
             },
             "pattern": {
              "fillmode": "overlay",
              "size": 10,
              "solidity": 0.2
             }
            },
            "type": "bar"
           }
          ],
          "scattergeo": [
           {
            "type": "scattergeo",
            "marker": {
             "colorbar": {
              "outlinewidth": 0,
              "ticks": ""
             }
            }
           }
          ],
          "scatterpolar": [
           {
            "type": "scatterpolar",
            "marker": {
             "colorbar": {
              "outlinewidth": 0,
              "ticks": ""
             }
            }
           }
          ],
          "histogram": [
           {
            "marker": {
             "pattern": {
              "fillmode": "overlay",
              "size": 10,
              "solidity": 0.2
             }
            },
            "type": "histogram"
           }
          ],
          "scattergl": [
           {
            "marker": {
             "line": {
              "color": "#283442"
             }
            },
            "type": "scattergl"
           }
          ],
          "scatter3d": [
           {
            "type": "scatter3d",
            "line": {
             "colorbar": {
              "outlinewidth": 0,
              "ticks": ""
             }
            },
            "marker": {
             "colorbar": {
              "outlinewidth": 0,
              "ticks": ""
             }
            }
           }
          ],
          "scattermapbox": [
           {
            "type": "scattermapbox",
            "marker": {
             "colorbar": {
              "outlinewidth": 0,
              "ticks": ""
             }
            }
           }
          ],
          "scatterternary": [
           {
            "type": "scatterternary",
            "marker": {
             "colorbar": {
              "outlinewidth": 0,
              "ticks": ""
             }
            }
           }
          ],
          "scattercarpet": [
           {
            "type": "scattercarpet",
            "marker": {
             "colorbar": {
              "outlinewidth": 0,
              "ticks": ""
             }
            }
           }
          ],
          "carpet": [
           {
            "aaxis": {
             "endlinecolor": "#A2B1C6",
             "gridcolor": "#506784",
             "linecolor": "#506784",
             "minorgridcolor": "#506784",
             "startlinecolor": "#A2B1C6"
            },
            "baxis": {
             "endlinecolor": "#A2B1C6",
             "gridcolor": "#506784",
             "linecolor": "#506784",
             "minorgridcolor": "#506784",
             "startlinecolor": "#A2B1C6"
            },
            "type": "carpet"
           }
          ],
          "table": [
           {
            "cells": {
             "fill": {
              "color": "#506784"
             },
             "line": {
              "color": "rgb(17,17,17)"
             }
            },
            "header": {
             "fill": {
              "color": "#2a3f5f"
             },
             "line": {
              "color": "rgb(17,17,17)"
             }
            },
            "type": "table"
           }
          ],
          "barpolar": [
           {
            "marker": {
             "line": {
              "color": "rgb(17,17,17)",
              "width": 0.5
             },
             "pattern": {
              "fillmode": "overlay",
              "size": 10,
              "solidity": 0.2
             }
            },
            "type": "barpolar"
           }
          ],
          "pie": [
           {
            "automargin": true,
            "type": "pie"
           }
          ]
         },
         "layout": {
          "autotypenumbers": "strict",
          "colorway": [
           "#636efa",
           "#EF553B",
           "#00cc96",
           "#ab63fa",
           "#FFA15A",
           "#19d3f3",
           "#FF6692",
           "#B6E880",
           "#FF97FF",
           "#FECB52"
          ],
          "font": {
           "color": "#f2f5fa"
          },
          "hovermode": "closest",
          "hoverlabel": {
           "align": "left"
          },
          "paper_bgcolor": "rgb(17,17,17)",
          "plot_bgcolor": "rgb(17,17,17)",
          "polar": {
           "bgcolor": "rgb(17,17,17)",
           "angularaxis": {
            "gridcolor": "#506784",
            "linecolor": "#506784",
            "ticks": ""
           },
           "radialaxis": {
            "gridcolor": "#506784",
            "linecolor": "#506784",
            "ticks": ""
           }
          },
          "ternary": {
           "bgcolor": "rgb(17,17,17)",
           "aaxis": {
            "gridcolor": "#506784",
            "linecolor": "#506784",
            "ticks": ""
           },
           "baxis": {
            "gridcolor": "#506784",
            "linecolor": "#506784",
            "ticks": ""
           },
           "caxis": {
            "gridcolor": "#506784",
            "linecolor": "#506784",
            "ticks": ""
           }
          },
          "coloraxis": {
           "colorbar": {
            "outlinewidth": 0,
            "ticks": ""
           }
          },
          "colorscale": {
           "sequential": [
            [
             0.0,
             "#0d0887"
            ],
            [
             0.1111111111111111,
             "#46039f"
            ],
            [
             0.2222222222222222,
             "#7201a8"
            ],
            [
             0.3333333333333333,
             "#9c179e"
            ],
            [
             0.4444444444444444,
             "#bd3786"
            ],
            [
             0.5555555555555556,
             "#d8576b"
            ],
            [
             0.6666666666666666,
             "#ed7953"
            ],
            [
             0.7777777777777778,
             "#fb9f3a"
            ],
            [
             0.8888888888888888,
             "#fdca26"
            ],
            [
             1.0,
             "#f0f921"
            ]
           ],
           "sequentialminus": [
            [
             0.0,
             "#0d0887"
            ],
            [
             0.1111111111111111,
             "#46039f"
            ],
            [
             0.2222222222222222,
             "#7201a8"
            ],
            [
             0.3333333333333333,
             "#9c179e"
            ],
            [
             0.4444444444444444,
             "#bd3786"
            ],
            [
             0.5555555555555556,
             "#d8576b"
            ],
            [
             0.6666666666666666,
             "#ed7953"
            ],
            [
             0.7777777777777778,
             "#fb9f3a"
            ],
            [
             0.8888888888888888,
             "#fdca26"
            ],
            [
             1.0,
             "#f0f921"
            ]
           ],
           "diverging": [
            [
             0,
             "#8e0152"
            ],
            [
             0.1,
             "#c51b7d"
            ],
            [
             0.2,
             "#de77ae"
            ],
            [
             0.3,
             "#f1b6da"
            ],
            [
             0.4,
             "#fde0ef"
            ],
            [
             0.5,
             "#f7f7f7"
            ],
            [
             0.6,
             "#e6f5d0"
            ],
            [
             0.7,
             "#b8e186"
            ],
            [
             0.8,
             "#7fbc41"
            ],
            [
             0.9,
             "#4d9221"
            ],
            [
             1,
             "#276419"
            ]
           ]
          },
          "xaxis": {
           "gridcolor": "#283442",
           "linecolor": "#506784",
           "ticks": "",
           "title": {
            "standoff": 15
           },
           "zerolinecolor": "#283442",
           "automargin": true,
           "zerolinewidth": 2
          },
          "yaxis": {
           "gridcolor": "#283442",
           "linecolor": "#506784",
           "ticks": "",
           "title": {
            "standoff": 15
           },
           "zerolinecolor": "#283442",
           "automargin": true,
           "zerolinewidth": 2
          },
          "scene": {
           "xaxis": {
            "backgroundcolor": "rgb(17,17,17)",
            "gridcolor": "#506784",
            "linecolor": "#506784",
            "showbackground": true,
            "ticks": "",
            "zerolinecolor": "#C8D4E3",
            "gridwidth": 2
           },
           "yaxis": {
            "backgroundcolor": "rgb(17,17,17)",
            "gridcolor": "#506784",
            "linecolor": "#506784",
            "showbackground": true,
            "ticks": "",
            "zerolinecolor": "#C8D4E3",
            "gridwidth": 2
           },
           "zaxis": {
            "backgroundcolor": "rgb(17,17,17)",
            "gridcolor": "#506784",
            "linecolor": "#506784",
            "showbackground": true,
            "ticks": "",
            "zerolinecolor": "#C8D4E3",
            "gridwidth": 2
           }
          },
          "shapedefaults": {
           "line": {
            "color": "#f2f5fa"
           }
          },
          "annotationdefaults": {
           "arrowcolor": "#f2f5fa",
           "arrowhead": 0,
           "arrowwidth": 1
          },
          "geo": {
           "bgcolor": "rgb(17,17,17)",
           "landcolor": "rgb(17,17,17)",
           "subunitcolor": "#506784",
           "showland": true,
           "showlakes": true,
           "lakecolor": "rgb(17,17,17)"
          },
          "title": {
           "x": 0.05
          },
          "updatemenudefaults": {
           "bgcolor": "#506784",
           "borderwidth": 0
          },
          "sliderdefaults": {
           "bgcolor": "#C8D4E3",
           "borderwidth": 1,
           "bordercolor": "rgb(17,17,17)",
           "tickwidth": 0
          },
          "mapbox": {
           "style": "dark"
          }
         }
        },
        "xaxis": {
         "anchor": "y",
         "domain": [
          0.0,
          1.0
         ],
         "scaleanchor": "y",
         "constrain": "domain"
        },
        "yaxis": {
         "anchor": "x",
         "domain": [
          0.0,
          1.0
         ],
         "autorange": "reversed",
         "constrain": "domain"
        },
        "coloraxis": {
         "colorbar": {
          "title": {
           "text": "Correlation"
          }
         },
         "colorscale": [
          [
           0.0,
           "rgb(209, 238, 234)"
          ],
          [
           0.16666666666666666,
           "rgb(168, 219, 217)"
          ],
          [
           0.3333333333333333,
           "rgb(133, 196, 201)"
          ],
          [
           0.5,
           "rgb(104, 171, 184)"
          ],
          [
           0.6666666666666666,
           "rgb(79, 144, 166)"
          ],
          [
           0.8333333333333334,
           "rgb(59, 115, 143)"
          ],
          [
           1.0,
           "rgb(42, 86, 116)"
          ]
         ]
        },
        "title": {
         "text": "Professors correlation matrix"
        }
       },
       "config": {
        "plotlyServerURL": "https://plot.ly"
       }
      },
      "text/html": "<div>                            <div id=\"9ffc4bc3-223e-4232-bdc1-ac6a720c382a\" class=\"plotly-graph-div\" style=\"height:525px; width:100%;\"></div>            <script type=\"text/javascript\">                require([\"plotly\"], function(Plotly) {                    window.PLOTLYENV=window.PLOTLYENV || {};                                    if (document.getElementById(\"9ffc4bc3-223e-4232-bdc1-ac6a720c382a\")) {                    Plotly.newPlot(                        \"9ffc4bc3-223e-4232-bdc1-ac6a720c382a\",                        [{\"coloraxis\":\"coloraxis\",\"name\":\"0\",\"texttemplate\":\"%{z}\",\"x\":[\"Prof Quality Rating\",\"Level of Difficulty\",\"Would Take Again\"],\"y\":[\"Prof Quality Rating\",\"Level of Difficulty\",\"Would Take Again\"],\"z\":[[1.0,0.028293675682470078,0.44268791599015006],[0.028293675682470078,1.0,0.06646361420892033],[0.44268791599015006,0.06646361420892033,1.0]],\"type\":\"heatmap\",\"xaxis\":\"x\",\"yaxis\":\"y\",\"hovertemplate\":\"x: %{x}\\u003cbr\\u003ey: %{y}\\u003cbr\\u003eCorrelation: %{z}\\u003cextra\\u003e\\u003c\\u002fextra\\u003e\"}],                        {\"template\":{\"data\":{\"histogram2dcontour\":[{\"type\":\"histogram2dcontour\",\"colorbar\":{\"outlinewidth\":0,\"ticks\":\"\"},\"colorscale\":[[0.0,\"#0d0887\"],[0.1111111111111111,\"#46039f\"],[0.2222222222222222,\"#7201a8\"],[0.3333333333333333,\"#9c179e\"],[0.4444444444444444,\"#bd3786\"],[0.5555555555555556,\"#d8576b\"],[0.6666666666666666,\"#ed7953\"],[0.7777777777777778,\"#fb9f3a\"],[0.8888888888888888,\"#fdca26\"],[1.0,\"#f0f921\"]]}],\"choropleth\":[{\"type\":\"choropleth\",\"colorbar\":{\"outlinewidth\":0,\"ticks\":\"\"}}],\"histogram2d\":[{\"type\":\"histogram2d\",\"colorbar\":{\"outlinewidth\":0,\"ticks\":\"\"},\"colorscale\":[[0.0,\"#0d0887\"],[0.1111111111111111,\"#46039f\"],[0.2222222222222222,\"#7201a8\"],[0.3333333333333333,\"#9c179e\"],[0.4444444444444444,\"#bd3786\"],[0.5555555555555556,\"#d8576b\"],[0.6666666666666666,\"#ed7953\"],[0.7777777777777778,\"#fb9f3a\"],[0.8888888888888888,\"#fdca26\"],[1.0,\"#f0f921\"]]}],\"heatmap\":[{\"type\":\"heatmap\",\"colorbar\":{\"outlinewidth\":0,\"ticks\":\"\"},\"colorscale\":[[0.0,\"#0d0887\"],[0.1111111111111111,\"#46039f\"],[0.2222222222222222,\"#7201a8\"],[0.3333333333333333,\"#9c179e\"],[0.4444444444444444,\"#bd3786\"],[0.5555555555555556,\"#d8576b\"],[0.6666666666666666,\"#ed7953\"],[0.7777777777777778,\"#fb9f3a\"],[0.8888888888888888,\"#fdca26\"],[1.0,\"#f0f921\"]]}],\"heatmapgl\":[{\"type\":\"heatmapgl\",\"colorbar\":{\"outlinewidth\":0,\"ticks\":\"\"},\"colorscale\":[[0.0,\"#0d0887\"],[0.1111111111111111,\"#46039f\"],[0.2222222222222222,\"#7201a8\"],[0.3333333333333333,\"#9c179e\"],[0.4444444444444444,\"#bd3786\"],[0.5555555555555556,\"#d8576b\"],[0.6666666666666666,\"#ed7953\"],[0.7777777777777778,\"#fb9f3a\"],[0.8888888888888888,\"#fdca26\"],[1.0,\"#f0f921\"]]}],\"contourcarpet\":[{\"type\":\"contourcarpet\",\"colorbar\":{\"outlinewidth\":0,\"ticks\":\"\"}}],\"contour\":[{\"type\":\"contour\",\"colorbar\":{\"outlinewidth\":0,\"ticks\":\"\"},\"colorscale\":[[0.0,\"#0d0887\"],[0.1111111111111111,\"#46039f\"],[0.2222222222222222,\"#7201a8\"],[0.3333333333333333,\"#9c179e\"],[0.4444444444444444,\"#bd3786\"],[0.5555555555555556,\"#d8576b\"],[0.6666666666666666,\"#ed7953\"],[0.7777777777777778,\"#fb9f3a\"],[0.8888888888888888,\"#fdca26\"],[1.0,\"#f0f921\"]]}],\"surface\":[{\"type\":\"surface\",\"colorbar\":{\"outlinewidth\":0,\"ticks\":\"\"},\"colorscale\":[[0.0,\"#0d0887\"],[0.1111111111111111,\"#46039f\"],[0.2222222222222222,\"#7201a8\"],[0.3333333333333333,\"#9c179e\"],[0.4444444444444444,\"#bd3786\"],[0.5555555555555556,\"#d8576b\"],[0.6666666666666666,\"#ed7953\"],[0.7777777777777778,\"#fb9f3a\"],[0.8888888888888888,\"#fdca26\"],[1.0,\"#f0f921\"]]}],\"mesh3d\":[{\"type\":\"mesh3d\",\"colorbar\":{\"outlinewidth\":0,\"ticks\":\"\"}}],\"scatter\":[{\"marker\":{\"line\":{\"color\":\"#283442\"}},\"type\":\"scatter\"}],\"parcoords\":[{\"type\":\"parcoords\",\"line\":{\"colorbar\":{\"outlinewidth\":0,\"ticks\":\"\"}}}],\"scatterpolargl\":[{\"type\":\"scatterpolargl\",\"marker\":{\"colorbar\":{\"outlinewidth\":0,\"ticks\":\"\"}}}],\"bar\":[{\"error_x\":{\"color\":\"#f2f5fa\"},\"error_y\":{\"color\":\"#f2f5fa\"},\"marker\":{\"line\":{\"color\":\"rgb(17,17,17)\",\"width\":0.5},\"pattern\":{\"fillmode\":\"overlay\",\"size\":10,\"solidity\":0.2}},\"type\":\"bar\"}],\"scattergeo\":[{\"type\":\"scattergeo\",\"marker\":{\"colorbar\":{\"outlinewidth\":0,\"ticks\":\"\"}}}],\"scatterpolar\":[{\"type\":\"scatterpolar\",\"marker\":{\"colorbar\":{\"outlinewidth\":0,\"ticks\":\"\"}}}],\"histogram\":[{\"marker\":{\"pattern\":{\"fillmode\":\"overlay\",\"size\":10,\"solidity\":0.2}},\"type\":\"histogram\"}],\"scattergl\":[{\"marker\":{\"line\":{\"color\":\"#283442\"}},\"type\":\"scattergl\"}],\"scatter3d\":[{\"type\":\"scatter3d\",\"line\":{\"colorbar\":{\"outlinewidth\":0,\"ticks\":\"\"}},\"marker\":{\"colorbar\":{\"outlinewidth\":0,\"ticks\":\"\"}}}],\"scattermapbox\":[{\"type\":\"scattermapbox\",\"marker\":{\"colorbar\":{\"outlinewidth\":0,\"ticks\":\"\"}}}],\"scatterternary\":[{\"type\":\"scatterternary\",\"marker\":{\"colorbar\":{\"outlinewidth\":0,\"ticks\":\"\"}}}],\"scattercarpet\":[{\"type\":\"scattercarpet\",\"marker\":{\"colorbar\":{\"outlinewidth\":0,\"ticks\":\"\"}}}],\"carpet\":[{\"aaxis\":{\"endlinecolor\":\"#A2B1C6\",\"gridcolor\":\"#506784\",\"linecolor\":\"#506784\",\"minorgridcolor\":\"#506784\",\"startlinecolor\":\"#A2B1C6\"},\"baxis\":{\"endlinecolor\":\"#A2B1C6\",\"gridcolor\":\"#506784\",\"linecolor\":\"#506784\",\"minorgridcolor\":\"#506784\",\"startlinecolor\":\"#A2B1C6\"},\"type\":\"carpet\"}],\"table\":[{\"cells\":{\"fill\":{\"color\":\"#506784\"},\"line\":{\"color\":\"rgb(17,17,17)\"}},\"header\":{\"fill\":{\"color\":\"#2a3f5f\"},\"line\":{\"color\":\"rgb(17,17,17)\"}},\"type\":\"table\"}],\"barpolar\":[{\"marker\":{\"line\":{\"color\":\"rgb(17,17,17)\",\"width\":0.5},\"pattern\":{\"fillmode\":\"overlay\",\"size\":10,\"solidity\":0.2}},\"type\":\"barpolar\"}],\"pie\":[{\"automargin\":true,\"type\":\"pie\"}]},\"layout\":{\"autotypenumbers\":\"strict\",\"colorway\":[\"#636efa\",\"#EF553B\",\"#00cc96\",\"#ab63fa\",\"#FFA15A\",\"#19d3f3\",\"#FF6692\",\"#B6E880\",\"#FF97FF\",\"#FECB52\"],\"font\":{\"color\":\"#f2f5fa\"},\"hovermode\":\"closest\",\"hoverlabel\":{\"align\":\"left\"},\"paper_bgcolor\":\"rgb(17,17,17)\",\"plot_bgcolor\":\"rgb(17,17,17)\",\"polar\":{\"bgcolor\":\"rgb(17,17,17)\",\"angularaxis\":{\"gridcolor\":\"#506784\",\"linecolor\":\"#506784\",\"ticks\":\"\"},\"radialaxis\":{\"gridcolor\":\"#506784\",\"linecolor\":\"#506784\",\"ticks\":\"\"}},\"ternary\":{\"bgcolor\":\"rgb(17,17,17)\",\"aaxis\":{\"gridcolor\":\"#506784\",\"linecolor\":\"#506784\",\"ticks\":\"\"},\"baxis\":{\"gridcolor\":\"#506784\",\"linecolor\":\"#506784\",\"ticks\":\"\"},\"caxis\":{\"gridcolor\":\"#506784\",\"linecolor\":\"#506784\",\"ticks\":\"\"}},\"coloraxis\":{\"colorbar\":{\"outlinewidth\":0,\"ticks\":\"\"}},\"colorscale\":{\"sequential\":[[0.0,\"#0d0887\"],[0.1111111111111111,\"#46039f\"],[0.2222222222222222,\"#7201a8\"],[0.3333333333333333,\"#9c179e\"],[0.4444444444444444,\"#bd3786\"],[0.5555555555555556,\"#d8576b\"],[0.6666666666666666,\"#ed7953\"],[0.7777777777777778,\"#fb9f3a\"],[0.8888888888888888,\"#fdca26\"],[1.0,\"#f0f921\"]],\"sequentialminus\":[[0.0,\"#0d0887\"],[0.1111111111111111,\"#46039f\"],[0.2222222222222222,\"#7201a8\"],[0.3333333333333333,\"#9c179e\"],[0.4444444444444444,\"#bd3786\"],[0.5555555555555556,\"#d8576b\"],[0.6666666666666666,\"#ed7953\"],[0.7777777777777778,\"#fb9f3a\"],[0.8888888888888888,\"#fdca26\"],[1.0,\"#f0f921\"]],\"diverging\":[[0,\"#8e0152\"],[0.1,\"#c51b7d\"],[0.2,\"#de77ae\"],[0.3,\"#f1b6da\"],[0.4,\"#fde0ef\"],[0.5,\"#f7f7f7\"],[0.6,\"#e6f5d0\"],[0.7,\"#b8e186\"],[0.8,\"#7fbc41\"],[0.9,\"#4d9221\"],[1,\"#276419\"]]},\"xaxis\":{\"gridcolor\":\"#283442\",\"linecolor\":\"#506784\",\"ticks\":\"\",\"title\":{\"standoff\":15},\"zerolinecolor\":\"#283442\",\"automargin\":true,\"zerolinewidth\":2},\"yaxis\":{\"gridcolor\":\"#283442\",\"linecolor\":\"#506784\",\"ticks\":\"\",\"title\":{\"standoff\":15},\"zerolinecolor\":\"#283442\",\"automargin\":true,\"zerolinewidth\":2},\"scene\":{\"xaxis\":{\"backgroundcolor\":\"rgb(17,17,17)\",\"gridcolor\":\"#506784\",\"linecolor\":\"#506784\",\"showbackground\":true,\"ticks\":\"\",\"zerolinecolor\":\"#C8D4E3\",\"gridwidth\":2},\"yaxis\":{\"backgroundcolor\":\"rgb(17,17,17)\",\"gridcolor\":\"#506784\",\"linecolor\":\"#506784\",\"showbackground\":true,\"ticks\":\"\",\"zerolinecolor\":\"#C8D4E3\",\"gridwidth\":2},\"zaxis\":{\"backgroundcolor\":\"rgb(17,17,17)\",\"gridcolor\":\"#506784\",\"linecolor\":\"#506784\",\"showbackground\":true,\"ticks\":\"\",\"zerolinecolor\":\"#C8D4E3\",\"gridwidth\":2}},\"shapedefaults\":{\"line\":{\"color\":\"#f2f5fa\"}},\"annotationdefaults\":{\"arrowcolor\":\"#f2f5fa\",\"arrowhead\":0,\"arrowwidth\":1},\"geo\":{\"bgcolor\":\"rgb(17,17,17)\",\"landcolor\":\"rgb(17,17,17)\",\"subunitcolor\":\"#506784\",\"showland\":true,\"showlakes\":true,\"lakecolor\":\"rgb(17,17,17)\"},\"title\":{\"x\":0.05},\"updatemenudefaults\":{\"bgcolor\":\"#506784\",\"borderwidth\":0},\"sliderdefaults\":{\"bgcolor\":\"#C8D4E3\",\"borderwidth\":1,\"bordercolor\":\"rgb(17,17,17)\",\"tickwidth\":0},\"mapbox\":{\"style\":\"dark\"}}},\"xaxis\":{\"anchor\":\"y\",\"domain\":[0.0,1.0],\"scaleanchor\":\"y\",\"constrain\":\"domain\"},\"yaxis\":{\"anchor\":\"x\",\"domain\":[0.0,1.0],\"autorange\":\"reversed\",\"constrain\":\"domain\"},\"coloraxis\":{\"colorbar\":{\"title\":{\"text\":\"Correlation\"}},\"colorscale\":[[0.0,\"rgb(209, 238, 234)\"],[0.16666666666666666,\"rgb(168, 219, 217)\"],[0.3333333333333333,\"rgb(133, 196, 201)\"],[0.5,\"rgb(104, 171, 184)\"],[0.6666666666666666,\"rgb(79, 144, 166)\"],[0.8333333333333334,\"rgb(59, 115, 143)\"],[1.0,\"rgb(42, 86, 116)\"]]},\"title\":{\"text\":\"Professors correlation matrix\"}},                        {\"responsive\": true}                    ).then(function(){\n                            \nvar gd = document.getElementById('9ffc4bc3-223e-4232-bdc1-ac6a720c382a');\nvar x = new MutationObserver(function (mutations, observer) {{\n        var display = window.getComputedStyle(gd).display;\n        if (!display || display === 'none') {{\n            console.log([gd, 'removed!']);\n            Plotly.purge(gd);\n            observer.disconnect();\n        }}\n}});\n\n// Listen for the removal of the full notebook cells\nvar notebookContainer = gd.closest('#notebook-container');\nif (notebookContainer) {{\n    x.observe(notebookContainer, {childList: true});\n}}\n\n// Listen for the clearing of the current output cell\nvar outputEl = gd.closest('.output');\nif (outputEl) {{\n    x.observe(outputEl, {childList: true});\n}}\n\n                        })                };                });            </script>        </div>"
     },
     "metadata": {},
     "output_type": "display_data"
    }
   ],
   "source": [
    "# Mild correlation between Would Take Again and Prof Quality Rating\n",
    "professors_df['Would Take Again'] = [abs(number) for number in professors_df['Would Take Again']]\n",
    "corr_df = professors_df.drop(columns=['Total Ratings']).corr(method='spearman', numeric_only= True)\n",
    "\n",
    "fig = px.imshow(corr_df, labels=dict(color='Correlation'), x=corr_df.columns, y=corr_df.columns, color_continuous_scale='teal', text_auto=True, title='Professors correlation matrix')\n",
    "fig.show()"
   ],
   "metadata": {
    "collapsed": false,
    "ExecuteTime": {
     "end_time": "2024-03-19T21:12:35.351376300Z",
     "start_time": "2024-03-19T21:12:35.226811200Z"
    }
   },
   "id": "5555da9839fa27dc"
  },
  {
   "cell_type": "code",
   "execution_count": 80,
   "outputs": [
    {
     "data": {
      "application/vnd.plotly.v1+json": {
       "data": [
        {
         "hovertemplate": "Department=Anthropology<br>Name=%{x}<br>Prof Quality Rating=%{y}<br>Total Ratings=%{marker.size}<extra></extra>",
         "legendgroup": "Anthropology",
         "marker": {
          "color": "#636efa",
          "size": [
           124,
           182,
           122
          ],
          "sizemode": "area",
          "sizeref": 2.14,
          "symbol": "circle"
         },
         "mode": "markers",
         "name": "Anthropology",
         "orientation": "v",
         "showlegend": true,
         "x": [
          "Henry McHenry",
          "Alan Klima",
          "Marisol De La Cadena"
         ],
         "xaxis": "x",
         "y": [
          4.5,
          2.9,
          2.9
         ],
         "yaxis": "y",
         "type": "scatter"
        },
        {
         "hovertemplate": "Department=History<br>Name=%{x}<br>Prof Quality Rating=%{y}<br>Total Ratings=%{marker.size}<extra></extra>",
         "legendgroup": "History",
         "marker": {
          "color": "#EF553B",
          "size": [
           188,
           157
          ],
          "sizemode": "area",
          "sizeref": 2.14,
          "symbol": "circle"
         },
         "mode": "markers",
         "name": "History",
         "orientation": "v",
         "showlegend": true,
         "x": [
          "Stylianos Spyridakis",
          "Eric Rauchway"
         ],
         "xaxis": "x",
         "y": [
          4.6,
          4.2
         ],
         "yaxis": "y",
         "type": "scatter"
        },
        {
         "hovertemplate": "Department=Nutrition<br>Name=%{x}<br>Prof Quality Rating=%{y}<br>Total Ratings=%{marker.size}<extra></extra>",
         "legendgroup": "Nutrition",
         "marker": {
          "color": "#00cc96",
          "size": [
           257,
           122
          ],
          "sizemode": "area",
          "sizeref": 2.14,
          "symbol": "circle"
         },
         "mode": "markers",
         "name": "Nutrition",
         "orientation": "v",
         "showlegend": true,
         "x": [
          "Liz Applegate",
          "Debbie Fetter"
         ],
         "xaxis": "x",
         "y": [
          4.2,
          4.3
         ],
         "yaxis": "y",
         "type": "scatter"
        },
        {
         "hovertemplate": "Department=Chemistry<br>Name=%{x}<br>Prof Quality Rating=%{y}<br>Total Ratings=%{marker.size}<extra></extra>",
         "legendgroup": "Chemistry",
         "marker": {
          "color": "#ab63fa",
          "size": [
           118,
           190,
           137,
           185,
           856,
           154,
           131,
           106,
           132,
           189,
           489,
           139,
           111,
           436,
           122,
           126,
           696,
           219,
           158,
           365,
           103,
           104,
           790
          ],
          "sizemode": "area",
          "sizeref": 2.14,
          "symbol": "circle"
         },
         "mode": "markers",
         "name": "Chemistry",
         "orientation": "v",
         "showlegend": true,
         "x": [
          "Nancy True",
          "Matthew Augustine",
          "Vahid Eskandari",
          "Krishnan Nambiar",
          "Andreas Toupadakis",
          "Daniel Nurco",
          "Michael Toney",
          "Alexei Stuchebrukhov",
          "Clyde McCurdy",
          "Gerardo Ochoa",
          "Ozcan Gulacar",
          "Ting Guo",
          "Claire Filloux",
          "Sarah Lievens",
          "Neil Schore",
          "Whitney Duim",
          "Bryan Enderle",
          "Tomoyuki Hayashi",
          "Louis Longaker",
          "Julia Chamberlain",
          "Mark Mascal",
          "Delmar Larsen",
          "Melekeh Nasiri"
         ],
         "xaxis": "x",
         "y": [
          2.9,
          4.1,
          4.4,
          3.4,
          3.3,
          2.3,
          2.4,
          2.1,
          2.6,
          3.9,
          3.8,
          1.9,
          3.0,
          3.9,
          4.6,
          2.9,
          4.6,
          3.9,
          2.7,
          3.0,
          2.0,
          2.7,
          2.7
         ],
         "yaxis": "y",
         "type": "scatter"
        },
        {
         "hovertemplate": "Department=Economics<br>Name=%{x}<br>Prof Quality Rating=%{y}<br>Total Ratings=%{marker.size}<extra></extra>",
         "legendgroup": "Economics",
         "marker": {
          "color": "#FFA15A",
          "size": [
           102,
           135,
           105,
           121,
           125,
           130,
           225,
           190,
           247,
           130,
           221
          ],
          "sizemode": "area",
          "sizeref": 2.14,
          "symbol": "circle"
         },
         "mode": "markers",
         "name": "Economics",
         "orientation": "v",
         "showlegend": true,
         "x": [
          "Garland Brinkley",
          "L Jay Helms",
          "Brian Rosario",
          "Emmanuel Frenkel",
          "Mark Siegler",
          "Gregory Clark",
          "David Lang",
          "Janine Wilson",
          "Bagher Modjtahedi",
          "David Rapson",
          "John Constantine"
         ],
         "xaxis": "x",
         "y": [
          3.0,
          3.9,
          2.9,
          3.2,
          3.1,
          3.1,
          3.1,
          4.4,
          3.0,
          3.1,
          3.8
         ],
         "yaxis": "y",
         "type": "scatter"
        },
        {
         "hovertemplate": "Department=Animal Science<br>Name=%{x}<br>Prof Quality Rating=%{y}<br>Total Ratings=%{marker.size}<extra></extra>",
         "legendgroup": "Animal Science",
         "marker": {
          "color": "#19d3f3",
          "size": [
           189
          ],
          "sizemode": "area",
          "sizeref": 2.14,
          "symbol": "circle"
         },
         "mode": "markers",
         "name": "Animal Science",
         "orientation": "v",
         "showlegend": true,
         "x": [
          "Thomas Famula"
         ],
         "xaxis": "x",
         "y": [
          4.9
         ],
         "yaxis": "y",
         "type": "scatter"
        },
        {
         "hovertemplate": "Department=Psychology<br>Name=%{x}<br>Prof Quality Rating=%{y}<br>Total Ratings=%{marker.size}<extra></extra>",
         "legendgroup": "Psychology",
         "marker": {
          "color": "#FF6692",
          "size": [
           124,
           105,
           208,
           108,
           131,
           195,
           169,
           196
          ],
          "sizemode": "area",
          "sizeref": 2.14,
          "symbol": "circle"
         },
         "mode": "markers",
         "name": "Psychology",
         "orientation": "v",
         "showlegend": true,
         "x": [
          "Elizabeth Post",
          "Richard Coss",
          "Eva Schepeler",
          "Priscilla San Souci",
          "Steve Luck",
          "Evan Antzoulatos",
          "Ross Thompson",
          "Victoria Cross"
         ],
         "xaxis": "x",
         "y": [
          4.1,
          3.6,
          4.6,
          4.9,
          4.3,
          4.7,
          4.6,
          4.0
         ],
         "yaxis": "y",
         "type": "scatter"
        },
        {
         "hovertemplate": "Department=Political Science<br>Name=%{x}<br>Prof Quality Rating=%{y}<br>Total Ratings=%{marker.size}<extra></extra>",
         "legendgroup": "Political Science",
         "marker": {
          "color": "#B6E880",
          "size": [
           123,
           145
          ],
          "sizemode": "area",
          "sizeref": 2.14,
          "symbol": "circle"
         },
         "mode": "markers",
         "name": "Political Science",
         "orientation": "v",
         "showlegend": true,
         "x": [
          "Stuart Hill",
          "Miroslav Nincic"
         ],
         "xaxis": "x",
         "y": [
          3.8,
          4.1
         ],
         "yaxis": "y",
         "type": "scatter"
        },
        {
         "hovertemplate": "Department=Science<br>Name=%{x}<br>Prof Quality Rating=%{y}<br>Total Ratings=%{marker.size}<extra></extra>",
         "legendgroup": "Science",
         "marker": {
          "color": "#FF97FF",
          "size": [
           106,
           126,
           181,
           276,
           153,
           224
          ],
          "sizemode": "area",
          "sizeref": 2.14,
          "symbol": "circle"
         },
         "mode": "markers",
         "name": "Science",
         "orientation": "v",
         "showlegend": true,
         "x": [
          "Steven Farmer",
          "Mark Sanders",
          "Susan Keen",
          "Erwin Bautista",
          "Michelle Igo",
          "Mitch Singer"
         ],
         "xaxis": "x",
         "y": [
          4.7,
          3.2,
          4.5,
          4.1,
          1.8,
          1.8
         ],
         "yaxis": "y",
         "type": "scatter"
        },
        {
         "hovertemplate": "Department=English<br>Name=%{x}<br>Prof Quality Rating=%{y}<br>Total Ratings=%{marker.size}<extra></extra>",
         "legendgroup": "English",
         "marker": {
          "color": "#FECB52",
          "size": [
           120
          ],
          "sizemode": "area",
          "sizeref": 2.14,
          "symbol": "circle"
         },
         "mode": "markers",
         "name": "English",
         "orientation": "v",
         "showlegend": true,
         "x": [
          "John Boe"
         ],
         "xaxis": "x",
         "y": [
          4.4
         ],
         "yaxis": "y",
         "type": "scatter"
        },
        {
         "hovertemplate": "Department=Mathematics<br>Name=%{x}<br>Prof Quality Rating=%{y}<br>Total Ratings=%{marker.size}<extra></extra>",
         "legendgroup": "Mathematics",
         "marker": {
          "color": "#636efa",
          "size": [
           106,
           112,
           409,
           419,
           115,
           112,
           118,
           121,
           117,
           162,
           358,
           253,
           155,
           151,
           186,
           427,
           130,
           106,
           247,
           178,
           125,
           154,
           222,
           173
          ],
          "sizemode": "area",
          "sizeref": 2.14,
          "symbol": "circle"
         },
         "mode": "markers",
         "name": "Mathematics",
         "orientation": "v",
         "showlegend": true,
         "x": [
          "Ilya Shapiro",
          "David Cherney",
          "Lawrence Marx",
          "Duane Kouba",
          "Alexander Coward",
          "Tim Lewis",
          "Jennifer Schultens",
          "Joel Hass",
          "Motohico Mulase",
          "Rohit Thomas",
          "William Tavernetti",
          "Janko Gravner",
          "Monica Vazirani",
          "John Challenor",
          "Andrew Waldron",
          "Ali Dad-Del",
          "Blake Temple",
          "Yonggyu Lee",
          "Korana Burke",
          "Dowman Varn",
          "Fu Liu",
          "Elbridge Puckett",
          "Joseph Biello",
          "Benjamin Morris"
         ],
         "xaxis": "x",
         "y": [
          2.7,
          3.6,
          4.1,
          4.6,
          4.6,
          4.2,
          2.8,
          4.2,
          3.6,
          2.7,
          4.7,
          3.7,
          2.1,
          4.4,
          2.5,
          3.3,
          1.8,
          2.9,
          2.9,
          3.1,
          2.5,
          1.8,
          2.3,
          3.3
         ],
         "yaxis": "y",
         "type": "scatter"
        },
        {
         "hovertemplate": "Department=Microbiology<br>Name=%{x}<br>Prof Quality Rating=%{y}<br>Total Ratings=%{marker.size}<extra></extra>",
         "legendgroup": "Microbiology",
         "marker": {
          "color": "#EF553B",
          "size": [
           121
          ],
          "sizemode": "area",
          "sizeref": 2.14,
          "symbol": "circle"
         },
         "mode": "markers",
         "name": "Microbiology",
         "orientation": "v",
         "showlegend": true,
         "x": [
          "Jeremy Appleman"
         ],
         "xaxis": "x",
         "y": [
          3.5
         ],
         "yaxis": "y",
         "type": "scatter"
        },
        {
         "hovertemplate": "Department=Entomology<br>Name=%{x}<br>Prof Quality Rating=%{y}<br>Total Ratings=%{marker.size}<extra></extra>",
         "legendgroup": "Entomology",
         "marker": {
          "color": "#00cc96",
          "size": [
           117
          ],
          "sizemode": "area",
          "sizeref": 2.14,
          "symbol": "circle"
         },
         "mode": "markers",
         "name": "Entomology",
         "orientation": "v",
         "showlegend": true,
         "x": [
          "Jay Rosenheim"
         ],
         "xaxis": "x",
         "y": [
          4.3
         ],
         "yaxis": "y",
         "type": "scatter"
        },
        {
         "hovertemplate": "Department=Biology<br>Name=%{x}<br>Prof Quality Rating=%{y}<br>Total Ratings=%{marker.size}<extra></extra>",
         "legendgroup": "Biology",
         "marker": {
          "color": "#ab63fa",
          "size": [
           328,
           199,
           333,
           115
          ],
          "sizemode": "area",
          "sizeref": 2.14,
          "symbol": "circle"
         },
         "mode": "markers",
         "name": "Biology",
         "orientation": "v",
         "showlegend": true,
         "x": [
          "Karen Gerhart",
          "Eric Mann",
          "Kenneth Hilt",
          "Daniel Kliebenstein"
         ],
         "xaxis": "x",
         "y": [
          3.1,
          4.0,
          3.7,
          3.1
         ],
         "yaxis": "y",
         "type": "scatter"
        },
        {
         "hovertemplate": "Department=Statistics<br>Name=%{x}<br>Prof Quality Rating=%{y}<br>Total Ratings=%{marker.size}<extra></extra>",
         "legendgroup": "Statistics",
         "marker": {
          "color": "#FFA15A",
          "size": [
           118,
           160,
           114,
           219,
           167
          ],
          "sizemode": "area",
          "sizeref": 2.14,
          "symbol": "circle"
         },
         "mode": "markers",
         "name": "Statistics",
         "orientation": "v",
         "showlegend": true,
         "x": [
          "Azari Abdolrahman",
          "JoAnna Whitener",
          "Amy Kim",
          "Christiana Drake",
          "Andrew Farris"
         ],
         "xaxis": "x",
         "y": [
          3.2,
          3.8,
          2.4,
          1.9,
          2.6
         ],
         "yaxis": "y",
         "type": "scatter"
        },
        {
         "hovertemplate": "Department=Food Science & Technology<br>Name=%{x}<br>Prof Quality Rating=%{y}<br>Total Ratings=%{marker.size}<extra></extra>",
         "legendgroup": "Food Science & Technology",
         "marker": {
          "color": "#19d3f3",
          "size": [
           111
          ],
          "sizemode": "area",
          "sizeref": 2.14,
          "symbol": "circle"
         },
         "mode": "markers",
         "name": "Food Science & Technology",
         "orientation": "v",
         "showlegend": true,
         "x": [
          "Charles Bamforth"
         ],
         "xaxis": "x",
         "y": [
          4.4
         ],
         "yaxis": "y",
         "type": "scatter"
        },
        {
         "hovertemplate": "Department=Sociology<br>Name=%{x}<br>Prof Quality Rating=%{y}<br>Total Ratings=%{marker.size}<extra></extra>",
         "legendgroup": "Sociology",
         "marker": {
          "color": "#FF6692",
          "size": [
           232,
           115
          ],
          "sizemode": "area",
          "sizeref": 2.14,
          "symbol": "circle"
         },
         "mode": "markers",
         "name": "Sociology",
         "orientation": "v",
         "showlegend": true,
         "x": [
          "Lalia Kiburi",
          "David Orzechowicz"
         ],
         "xaxis": "x",
         "y": [
          3.7,
          3.4
         ],
         "yaxis": "y",
         "type": "scatter"
        },
        {
         "hovertemplate": "Department=Physical Ed<br>Name=%{x}<br>Prof Quality Rating=%{y}<br>Total Ratings=%{marker.size}<extra></extra>",
         "legendgroup": "Physical Ed",
         "marker": {
          "color": "#B6E880",
          "size": [
           102
          ],
          "sizemode": "area",
          "sizeref": 2.14,
          "symbol": "circle"
         },
         "mode": "markers",
         "name": "Physical Ed",
         "orientation": "v",
         "showlegend": true,
         "x": [
          "Andrea Khoo"
         ],
         "xaxis": "x",
         "y": [
          4.9
         ],
         "yaxis": "y",
         "type": "scatter"
        },
        {
         "hovertemplate": "Department=Accounting<br>Name=%{x}<br>Prof Quality Rating=%{y}<br>Total Ratings=%{marker.size}<extra></extra>",
         "legendgroup": "Accounting",
         "marker": {
          "color": "#FF97FF",
          "size": [
           213
          ],
          "sizemode": "area",
          "sizeref": 2.14,
          "symbol": "circle"
         },
         "mode": "markers",
         "name": "Accounting",
         "orientation": "v",
         "showlegend": true,
         "x": [
          "John Hancock"
         ],
         "xaxis": "x",
         "y": [
          4.0
         ],
         "yaxis": "y",
         "type": "scatter"
        },
        {
         "hovertemplate": "Department=Biological Sciences<br>Name=%{x}<br>Prof Quality Rating=%{y}<br>Total Ratings=%{marker.size}<extra></extra>",
         "legendgroup": "Biological Sciences",
         "marker": {
          "color": "#FECB52",
          "size": [
           123,
           275,
           161,
           181,
           120,
           116
          ],
          "sizemode": "area",
          "sizeref": 2.14,
          "symbol": "circle"
         },
         "mode": "markers",
         "name": "Biological Sciences",
         "orientation": "v",
         "showlegend": true,
         "x": [
          "Luca Comai",
          "Anne Britt",
          "Joel Ledford",
          "Laci Gerhart-Barley",
          "Marina Crowder",
          "Lauren Liets"
         ],
         "xaxis": "x",
         "y": [
          3.2,
          2.1,
          4.8,
          4.9,
          4.9,
          3.9
         ],
         "yaxis": "y",
         "type": "scatter"
        },
        {
         "hovertemplate": "Department=Human Development<br>Name=%{x}<br>Prof Quality Rating=%{y}<br>Total Ratings=%{marker.size}<extra></extra>",
         "legendgroup": "Human Development",
         "marker": {
          "color": "#636efa",
          "size": [
           103,
           112
          ],
          "sizemode": "area",
          "sizeref": 2.14,
          "symbol": "circle"
         },
         "mode": "markers",
         "name": "Human Development",
         "orientation": "v",
         "showlegend": true,
         "x": [
          "Nicole Polen",
          "Lisa Rapalyea"
         ],
         "xaxis": "x",
         "y": [
          4.1,
          3.7
         ],
         "yaxis": "y",
         "type": "scatter"
        },
        {
         "hovertemplate": "Department=Design<br>Name=%{x}<br>Prof Quality Rating=%{y}<br>Total Ratings=%{marker.size}<extra></extra>",
         "legendgroup": "Design",
         "marker": {
          "color": "#EF553B",
          "size": [
           114
          ],
          "sizemode": "area",
          "sizeref": 2.14,
          "symbol": "circle"
         },
         "mode": "markers",
         "name": "Design",
         "orientation": "v",
         "showlegend": true,
         "x": [
          "James Housefield"
         ],
         "xaxis": "x",
         "y": [
          3.1
         ],
         "yaxis": "y",
         "type": "scatter"
        },
        {
         "hovertemplate": "Department=Geology<br>Name=%{x}<br>Prof Quality Rating=%{y}<br>Total Ratings=%{marker.size}<extra></extra>",
         "legendgroup": "Geology",
         "marker": {
          "color": "#00cc96",
          "size": [
           239
          ],
          "sizemode": "area",
          "sizeref": 2.14,
          "symbol": "circle"
         },
         "mode": "markers",
         "name": "Geology",
         "orientation": "v",
         "showlegend": true,
         "x": [
          "David Osleger"
         ],
         "xaxis": "x",
         "y": [
          5.0
         ],
         "yaxis": "y",
         "type": "scatter"
        },
        {
         "hovertemplate": "Department=Social Science<br>Name=%{x}<br>Prof Quality Rating=%{y}<br>Total Ratings=%{marker.size}<extra></extra>",
         "legendgroup": "Social Science",
         "marker": {
          "color": "#ab63fa",
          "size": [
           105,
           146
          ],
          "sizemode": "area",
          "sizeref": 2.14,
          "symbol": "circle"
         },
         "mode": "markers",
         "name": "Social Science",
         "orientation": "v",
         "showlegend": true,
         "x": [
          "David Kyle",
          "Bruce Haynes"
         ],
         "xaxis": "x",
         "y": [
          3.5,
          2.8
         ],
         "yaxis": "y",
         "type": "scatter"
        },
        {
         "hovertemplate": "Department=Philosophy<br>Name=%{x}<br>Prof Quality Rating=%{y}<br>Total Ratings=%{marker.size}<extra></extra>",
         "legendgroup": "Philosophy",
         "marker": {
          "color": "#FFA15A",
          "size": [
           160
          ],
          "sizemode": "area",
          "sizeref": 2.14,
          "symbol": "circle"
         },
         "mode": "markers",
         "name": "Philosophy",
         "orientation": "v",
         "showlegend": true,
         "x": [
          "Adam Sennet"
         ],
         "xaxis": "x",
         "y": [
          3.7
         ],
         "yaxis": "y",
         "type": "scatter"
        },
        {
         "hovertemplate": "Department=Writing<br>Name=%{x}<br>Prof Quality Rating=%{y}<br>Total Ratings=%{marker.size}<extra></extra>",
         "legendgroup": "Writing",
         "marker": {
          "color": "#19d3f3",
          "size": [
           104
          ],
          "sizemode": "area",
          "sizeref": 2.14,
          "symbol": "circle"
         },
         "mode": "markers",
         "name": "Writing",
         "orientation": "v",
         "showlegend": true,
         "x": [
          "Karma Waltonen"
         ],
         "xaxis": "x",
         "y": [
          3.9
         ],
         "yaxis": "y",
         "type": "scatter"
        },
        {
         "hovertemplate": "Department=Biomedical Engineering<br>Name=%{x}<br>Prof Quality Rating=%{y}<br>Total Ratings=%{marker.size}<extra></extra>",
         "legendgroup": "Biomedical Engineering",
         "marker": {
          "color": "#FF6692",
          "size": [
           240
          ],
          "sizemode": "area",
          "sizeref": 2.14,
          "symbol": "circle"
         },
         "mode": "markers",
         "name": "Biomedical Engineering",
         "orientation": "v",
         "showlegend": true,
         "x": [
          "Marc Facciotti"
         ],
         "xaxis": "x",
         "y": [
          2.8
         ],
         "yaxis": "y",
         "type": "scatter"
        },
        {
         "hovertemplate": "Department=Classics<br>Name=%{x}<br>Prof Quality Rating=%{y}<br>Total Ratings=%{marker.size}<extra></extra>",
         "legendgroup": "Classics",
         "marker": {
          "color": "#B6E880",
          "size": [
           102,
           120,
           192
          ],
          "sizemode": "area",
          "sizeref": 2.14,
          "symbol": "circle"
         },
         "mode": "markers",
         "name": "Classics",
         "orientation": "v",
         "showlegend": true,
         "x": [
          "Melissa Stem",
          "John Rundin",
          "Tim Brelinski"
         ],
         "xaxis": "x",
         "y": [
          3.1,
          4.2,
          4.6
         ],
         "yaxis": "y",
         "type": "scatter"
        },
        {
         "hovertemplate": "Department=Computer Science<br>Name=%{x}<br>Prof Quality Rating=%{y}<br>Total Ratings=%{marker.size}<extra></extra>",
         "legendgroup": "Computer Science",
         "marker": {
          "color": "#FF97FF",
          "size": [
           107,
           101,
           291,
           191,
           409,
           114,
           131,
           172
          ],
          "sizemode": "area",
          "sizeref": 2.14,
          "symbol": "circle"
         },
         "mode": "markers",
         "name": "Computer Science",
         "orientation": "v",
         "showlegend": true,
         "x": [
          "Matthew Franklin",
          "Felix Wu",
          "Sean Davis",
          "Chris Nitta",
          "Matthew Butner",
          "Hao Chen",
          "Yelena Frid",
          "Joël Porquet"
         ],
         "xaxis": "x",
         "y": [
          1.6,
          2.6,
          4.0,
          2.4,
          3.7,
          2.1,
          3.8,
          3.6
         ],
         "yaxis": "y",
         "type": "scatter"
        },
        {
         "hovertemplate": "Department=Religious Studies<br>Name=%{x}<br>Prof Quality Rating=%{y}<br>Total Ratings=%{marker.size}<extra></extra>",
         "legendgroup": "Religious Studies",
         "marker": {
          "color": "#FECB52",
          "size": [
           103
          ],
          "sizemode": "area",
          "sizeref": 2.14,
          "symbol": "circle"
         },
         "mode": "markers",
         "name": "Religious Studies",
         "orientation": "v",
         "showlegend": true,
         "x": [
          "Keith Watenpaugh"
         ],
         "xaxis": "x",
         "y": [
          3.4
         ],
         "yaxis": "y",
         "type": "scatter"
        },
        {
         "hovertemplate": "Department=Agriculture<br>Name=%{x}<br>Prof Quality Rating=%{y}<br>Total Ratings=%{marker.size}<extra></extra>",
         "legendgroup": "Agriculture",
         "marker": {
          "color": "#636efa",
          "size": [
           148
          ],
          "sizemode": "area",
          "sizeref": 2.14,
          "symbol": "circle"
         },
         "mode": "markers",
         "name": "Agriculture",
         "orientation": "v",
         "showlegend": true,
         "x": [
          "Jerry Lundblad"
         ],
         "xaxis": "x",
         "y": [
          2.4
         ],
         "yaxis": "y",
         "type": "scatter"
        },
        {
         "hovertemplate": "Department=Asian Studies<br>Name=%{x}<br>Prof Quality Rating=%{y}<br>Total Ratings=%{marker.size}<extra></extra>",
         "legendgroup": "Asian Studies",
         "marker": {
          "color": "#EF553B",
          "size": [
           101,
           126
          ],
          "sizemode": "area",
          "sizeref": 2.14,
          "symbol": "circle"
         },
         "mode": "markers",
         "name": "Asian Studies",
         "orientation": "v",
         "showlegend": true,
         "x": [
          "Caroline Valverde",
          "Darrell Hamamoto"
         ],
         "xaxis": "x",
         "y": [
          3.5,
          3.4
         ],
         "yaxis": "y",
         "type": "scatter"
        },
        {
         "hovertemplate": "Department=Communication<br>Name=%{x}<br>Prof Quality Rating=%{y}<br>Total Ratings=%{marker.size}<extra></extra>",
         "legendgroup": "Communication",
         "marker": {
          "color": "#00cc96",
          "size": [
           261,
           122,
           195,
           143,
           134
          ],
          "sizemode": "area",
          "sizeref": 2.14,
          "symbol": "circle"
         },
         "mode": "markers",
         "name": "Communication",
         "orientation": "v",
         "showlegend": true,
         "x": [
          "Jeanette Ruiz",
          "Alisa Shubb",
          "John Theobald",
          "Virginia Hamilton",
          "Martin Hilbert"
         ],
         "xaxis": "x",
         "y": [
          4.1,
          2.8,
          3.1,
          4.5,
          3.2
         ],
         "yaxis": "y",
         "type": "scatter"
        },
        {
         "hovertemplate": "Department=Molecular/Cellular Biology<br>Name=%{x}<br>Prof Quality Rating=%{y}<br>Total Ratings=%{marker.size}<extra></extra>",
         "legendgroup": "Molecular/Cellular Biology",
         "marker": {
          "color": "#ab63fa",
          "size": [
           426
          ],
          "sizemode": "area",
          "sizeref": 2.14,
          "symbol": "circle"
         },
         "mode": "markers",
         "name": "Molecular/Cellular Biology",
         "orientation": "v",
         "showlegend": true,
         "x": [
          "Walter Leal"
         ],
         "xaxis": "x",
         "y": [
          4.2
         ],
         "yaxis": "y",
         "type": "scatter"
        },
        {
         "hovertemplate": "Department=Physics<br>Name=%{x}<br>Prof Quality Rating=%{y}<br>Total Ratings=%{marker.size}<extra></extra>",
         "legendgroup": "Physics",
         "marker": {
          "color": "#FFA15A",
          "size": [
           106,
           186
          ],
          "sizemode": "area",
          "sizeref": 2.14,
          "symbol": "circle"
         },
         "mode": "markers",
         "name": "Physics",
         "orientation": "v",
         "showlegend": true,
         "x": [
          "Dina Zhabinskaya",
          "Thomas Weideman"
         ],
         "xaxis": "x",
         "y": [
          2.6,
          2.9
         ],
         "yaxis": "y",
         "type": "scatter"
        },
        {
         "hovertemplate": "Department=Food Science  Technology<br>Name=%{x}<br>Prof Quality Rating=%{y}<br>Total Ratings=%{marker.size}<extra></extra>",
         "legendgroup": "Food Science  Technology",
         "marker": {
          "color": "#19d3f3",
          "size": [
           161
          ],
          "sizemode": "area",
          "sizeref": 2.14,
          "symbol": "circle"
         },
         "mode": "markers",
         "name": "Food Science  Technology",
         "orientation": "v",
         "showlegend": true,
         "x": [
          "Bwalya Lungu"
         ],
         "xaxis": "x",
         "y": [
          3.2
         ],
         "yaxis": "y",
         "type": "scatter"
        },
        {
         "hovertemplate": "Department=Film<br>Name=%{x}<br>Prof Quality Rating=%{y}<br>Total Ratings=%{marker.size}<extra></extra>",
         "legendgroup": "Film",
         "marker": {
          "color": "#FF6692",
          "size": [
           108
          ],
          "sizemode": "area",
          "sizeref": 2.14,
          "symbol": "circle"
         },
         "mode": "markers",
         "name": "Film",
         "orientation": "v",
         "showlegend": true,
         "x": [
          "Eric Smoodin"
         ],
         "xaxis": "x",
         "y": [
          2.9
         ],
         "yaxis": "y",
         "type": "scatter"
        },
        {
         "hovertemplate": "Department=Engineering<br>Name=%{x}<br>Prof Quality Rating=%{y}<br>Total Ratings=%{marker.size}<extra></extra>",
         "legendgroup": "Engineering",
         "marker": {
          "color": "#B6E880",
          "size": [
           205
          ],
          "sizemode": "area",
          "sizeref": 2.14,
          "symbol": "circle"
         },
         "mode": "markers",
         "name": "Engineering",
         "orientation": "v",
         "showlegend": true,
         "x": [
          "Diego Yankelevich"
         ],
         "xaxis": "x",
         "y": [
          2.3
         ],
         "yaxis": "y",
         "type": "scatter"
        },
        {
         "hovertemplate": "Department=Management<br>Name=%{x}<br>Prof Quality Rating=%{y}<br>Total Ratings=%{marker.size}<extra></extra>",
         "legendgroup": "Management",
         "marker": {
          "color": "#FF97FF",
          "size": [
           428
          ],
          "sizemode": "area",
          "sizeref": 2.14,
          "symbol": "circle"
         },
         "mode": "markers",
         "name": "Management",
         "orientation": "v",
         "showlegend": true,
         "x": [
          "Cyrus Aram"
         ],
         "xaxis": "x",
         "y": [
          4.9
         ],
         "yaxis": "y",
         "type": "scatter"
        }
       ],
       "layout": {
        "template": {
         "data": {
          "histogram2dcontour": [
           {
            "type": "histogram2dcontour",
            "colorbar": {
             "outlinewidth": 0,
             "ticks": ""
            },
            "colorscale": [
             [
              0.0,
              "#0d0887"
             ],
             [
              0.1111111111111111,
              "#46039f"
             ],
             [
              0.2222222222222222,
              "#7201a8"
             ],
             [
              0.3333333333333333,
              "#9c179e"
             ],
             [
              0.4444444444444444,
              "#bd3786"
             ],
             [
              0.5555555555555556,
              "#d8576b"
             ],
             [
              0.6666666666666666,
              "#ed7953"
             ],
             [
              0.7777777777777778,
              "#fb9f3a"
             ],
             [
              0.8888888888888888,
              "#fdca26"
             ],
             [
              1.0,
              "#f0f921"
             ]
            ]
           }
          ],
          "choropleth": [
           {
            "type": "choropleth",
            "colorbar": {
             "outlinewidth": 0,
             "ticks": ""
            }
           }
          ],
          "histogram2d": [
           {
            "type": "histogram2d",
            "colorbar": {
             "outlinewidth": 0,
             "ticks": ""
            },
            "colorscale": [
             [
              0.0,
              "#0d0887"
             ],
             [
              0.1111111111111111,
              "#46039f"
             ],
             [
              0.2222222222222222,
              "#7201a8"
             ],
             [
              0.3333333333333333,
              "#9c179e"
             ],
             [
              0.4444444444444444,
              "#bd3786"
             ],
             [
              0.5555555555555556,
              "#d8576b"
             ],
             [
              0.6666666666666666,
              "#ed7953"
             ],
             [
              0.7777777777777778,
              "#fb9f3a"
             ],
             [
              0.8888888888888888,
              "#fdca26"
             ],
             [
              1.0,
              "#f0f921"
             ]
            ]
           }
          ],
          "heatmap": [
           {
            "type": "heatmap",
            "colorbar": {
             "outlinewidth": 0,
             "ticks": ""
            },
            "colorscale": [
             [
              0.0,
              "#0d0887"
             ],
             [
              0.1111111111111111,
              "#46039f"
             ],
             [
              0.2222222222222222,
              "#7201a8"
             ],
             [
              0.3333333333333333,
              "#9c179e"
             ],
             [
              0.4444444444444444,
              "#bd3786"
             ],
             [
              0.5555555555555556,
              "#d8576b"
             ],
             [
              0.6666666666666666,
              "#ed7953"
             ],
             [
              0.7777777777777778,
              "#fb9f3a"
             ],
             [
              0.8888888888888888,
              "#fdca26"
             ],
             [
              1.0,
              "#f0f921"
             ]
            ]
           }
          ],
          "heatmapgl": [
           {
            "type": "heatmapgl",
            "colorbar": {
             "outlinewidth": 0,
             "ticks": ""
            },
            "colorscale": [
             [
              0.0,
              "#0d0887"
             ],
             [
              0.1111111111111111,
              "#46039f"
             ],
             [
              0.2222222222222222,
              "#7201a8"
             ],
             [
              0.3333333333333333,
              "#9c179e"
             ],
             [
              0.4444444444444444,
              "#bd3786"
             ],
             [
              0.5555555555555556,
              "#d8576b"
             ],
             [
              0.6666666666666666,
              "#ed7953"
             ],
             [
              0.7777777777777778,
              "#fb9f3a"
             ],
             [
              0.8888888888888888,
              "#fdca26"
             ],
             [
              1.0,
              "#f0f921"
             ]
            ]
           }
          ],
          "contourcarpet": [
           {
            "type": "contourcarpet",
            "colorbar": {
             "outlinewidth": 0,
             "ticks": ""
            }
           }
          ],
          "contour": [
           {
            "type": "contour",
            "colorbar": {
             "outlinewidth": 0,
             "ticks": ""
            },
            "colorscale": [
             [
              0.0,
              "#0d0887"
             ],
             [
              0.1111111111111111,
              "#46039f"
             ],
             [
              0.2222222222222222,
              "#7201a8"
             ],
             [
              0.3333333333333333,
              "#9c179e"
             ],
             [
              0.4444444444444444,
              "#bd3786"
             ],
             [
              0.5555555555555556,
              "#d8576b"
             ],
             [
              0.6666666666666666,
              "#ed7953"
             ],
             [
              0.7777777777777778,
              "#fb9f3a"
             ],
             [
              0.8888888888888888,
              "#fdca26"
             ],
             [
              1.0,
              "#f0f921"
             ]
            ]
           }
          ],
          "surface": [
           {
            "type": "surface",
            "colorbar": {
             "outlinewidth": 0,
             "ticks": ""
            },
            "colorscale": [
             [
              0.0,
              "#0d0887"
             ],
             [
              0.1111111111111111,
              "#46039f"
             ],
             [
              0.2222222222222222,
              "#7201a8"
             ],
             [
              0.3333333333333333,
              "#9c179e"
             ],
             [
              0.4444444444444444,
              "#bd3786"
             ],
             [
              0.5555555555555556,
              "#d8576b"
             ],
             [
              0.6666666666666666,
              "#ed7953"
             ],
             [
              0.7777777777777778,
              "#fb9f3a"
             ],
             [
              0.8888888888888888,
              "#fdca26"
             ],
             [
              1.0,
              "#f0f921"
             ]
            ]
           }
          ],
          "mesh3d": [
           {
            "type": "mesh3d",
            "colorbar": {
             "outlinewidth": 0,
             "ticks": ""
            }
           }
          ],
          "scatter": [
           {
            "marker": {
             "line": {
              "color": "#283442"
             }
            },
            "type": "scatter"
           }
          ],
          "parcoords": [
           {
            "type": "parcoords",
            "line": {
             "colorbar": {
              "outlinewidth": 0,
              "ticks": ""
             }
            }
           }
          ],
          "scatterpolargl": [
           {
            "type": "scatterpolargl",
            "marker": {
             "colorbar": {
              "outlinewidth": 0,
              "ticks": ""
             }
            }
           }
          ],
          "bar": [
           {
            "error_x": {
             "color": "#f2f5fa"
            },
            "error_y": {
             "color": "#f2f5fa"
            },
            "marker": {
             "line": {
              "color": "rgb(17,17,17)",
              "width": 0.5
             },
             "pattern": {
              "fillmode": "overlay",
              "size": 10,
              "solidity": 0.2
             }
            },
            "type": "bar"
           }
          ],
          "scattergeo": [
           {
            "type": "scattergeo",
            "marker": {
             "colorbar": {
              "outlinewidth": 0,
              "ticks": ""
             }
            }
           }
          ],
          "scatterpolar": [
           {
            "type": "scatterpolar",
            "marker": {
             "colorbar": {
              "outlinewidth": 0,
              "ticks": ""
             }
            }
           }
          ],
          "histogram": [
           {
            "marker": {
             "pattern": {
              "fillmode": "overlay",
              "size": 10,
              "solidity": 0.2
             }
            },
            "type": "histogram"
           }
          ],
          "scattergl": [
           {
            "marker": {
             "line": {
              "color": "#283442"
             }
            },
            "type": "scattergl"
           }
          ],
          "scatter3d": [
           {
            "type": "scatter3d",
            "line": {
             "colorbar": {
              "outlinewidth": 0,
              "ticks": ""
             }
            },
            "marker": {
             "colorbar": {
              "outlinewidth": 0,
              "ticks": ""
             }
            }
           }
          ],
          "scattermapbox": [
           {
            "type": "scattermapbox",
            "marker": {
             "colorbar": {
              "outlinewidth": 0,
              "ticks": ""
             }
            }
           }
          ],
          "scatterternary": [
           {
            "type": "scatterternary",
            "marker": {
             "colorbar": {
              "outlinewidth": 0,
              "ticks": ""
             }
            }
           }
          ],
          "scattercarpet": [
           {
            "type": "scattercarpet",
            "marker": {
             "colorbar": {
              "outlinewidth": 0,
              "ticks": ""
             }
            }
           }
          ],
          "carpet": [
           {
            "aaxis": {
             "endlinecolor": "#A2B1C6",
             "gridcolor": "#506784",
             "linecolor": "#506784",
             "minorgridcolor": "#506784",
             "startlinecolor": "#A2B1C6"
            },
            "baxis": {
             "endlinecolor": "#A2B1C6",
             "gridcolor": "#506784",
             "linecolor": "#506784",
             "minorgridcolor": "#506784",
             "startlinecolor": "#A2B1C6"
            },
            "type": "carpet"
           }
          ],
          "table": [
           {
            "cells": {
             "fill": {
              "color": "#506784"
             },
             "line": {
              "color": "rgb(17,17,17)"
             }
            },
            "header": {
             "fill": {
              "color": "#2a3f5f"
             },
             "line": {
              "color": "rgb(17,17,17)"
             }
            },
            "type": "table"
           }
          ],
          "barpolar": [
           {
            "marker": {
             "line": {
              "color": "rgb(17,17,17)",
              "width": 0.5
             },
             "pattern": {
              "fillmode": "overlay",
              "size": 10,
              "solidity": 0.2
             }
            },
            "type": "barpolar"
           }
          ],
          "pie": [
           {
            "automargin": true,
            "type": "pie"
           }
          ]
         },
         "layout": {
          "autotypenumbers": "strict",
          "colorway": [
           "#636efa",
           "#EF553B",
           "#00cc96",
           "#ab63fa",
           "#FFA15A",
           "#19d3f3",
           "#FF6692",
           "#B6E880",
           "#FF97FF",
           "#FECB52"
          ],
          "font": {
           "color": "#f2f5fa"
          },
          "hovermode": "closest",
          "hoverlabel": {
           "align": "left"
          },
          "paper_bgcolor": "rgb(17,17,17)",
          "plot_bgcolor": "rgb(17,17,17)",
          "polar": {
           "bgcolor": "rgb(17,17,17)",
           "angularaxis": {
            "gridcolor": "#506784",
            "linecolor": "#506784",
            "ticks": ""
           },
           "radialaxis": {
            "gridcolor": "#506784",
            "linecolor": "#506784",
            "ticks": ""
           }
          },
          "ternary": {
           "bgcolor": "rgb(17,17,17)",
           "aaxis": {
            "gridcolor": "#506784",
            "linecolor": "#506784",
            "ticks": ""
           },
           "baxis": {
            "gridcolor": "#506784",
            "linecolor": "#506784",
            "ticks": ""
           },
           "caxis": {
            "gridcolor": "#506784",
            "linecolor": "#506784",
            "ticks": ""
           }
          },
          "coloraxis": {
           "colorbar": {
            "outlinewidth": 0,
            "ticks": ""
           }
          },
          "colorscale": {
           "sequential": [
            [
             0.0,
             "#0d0887"
            ],
            [
             0.1111111111111111,
             "#46039f"
            ],
            [
             0.2222222222222222,
             "#7201a8"
            ],
            [
             0.3333333333333333,
             "#9c179e"
            ],
            [
             0.4444444444444444,
             "#bd3786"
            ],
            [
             0.5555555555555556,
             "#d8576b"
            ],
            [
             0.6666666666666666,
             "#ed7953"
            ],
            [
             0.7777777777777778,
             "#fb9f3a"
            ],
            [
             0.8888888888888888,
             "#fdca26"
            ],
            [
             1.0,
             "#f0f921"
            ]
           ],
           "sequentialminus": [
            [
             0.0,
             "#0d0887"
            ],
            [
             0.1111111111111111,
             "#46039f"
            ],
            [
             0.2222222222222222,
             "#7201a8"
            ],
            [
             0.3333333333333333,
             "#9c179e"
            ],
            [
             0.4444444444444444,
             "#bd3786"
            ],
            [
             0.5555555555555556,
             "#d8576b"
            ],
            [
             0.6666666666666666,
             "#ed7953"
            ],
            [
             0.7777777777777778,
             "#fb9f3a"
            ],
            [
             0.8888888888888888,
             "#fdca26"
            ],
            [
             1.0,
             "#f0f921"
            ]
           ],
           "diverging": [
            [
             0,
             "#8e0152"
            ],
            [
             0.1,
             "#c51b7d"
            ],
            [
             0.2,
             "#de77ae"
            ],
            [
             0.3,
             "#f1b6da"
            ],
            [
             0.4,
             "#fde0ef"
            ],
            [
             0.5,
             "#f7f7f7"
            ],
            [
             0.6,
             "#e6f5d0"
            ],
            [
             0.7,
             "#b8e186"
            ],
            [
             0.8,
             "#7fbc41"
            ],
            [
             0.9,
             "#4d9221"
            ],
            [
             1,
             "#276419"
            ]
           ]
          },
          "xaxis": {
           "gridcolor": "#283442",
           "linecolor": "#506784",
           "ticks": "",
           "title": {
            "standoff": 15
           },
           "zerolinecolor": "#283442",
           "automargin": true,
           "zerolinewidth": 2
          },
          "yaxis": {
           "gridcolor": "#283442",
           "linecolor": "#506784",
           "ticks": "",
           "title": {
            "standoff": 15
           },
           "zerolinecolor": "#283442",
           "automargin": true,
           "zerolinewidth": 2
          },
          "scene": {
           "xaxis": {
            "backgroundcolor": "rgb(17,17,17)",
            "gridcolor": "#506784",
            "linecolor": "#506784",
            "showbackground": true,
            "ticks": "",
            "zerolinecolor": "#C8D4E3",
            "gridwidth": 2
           },
           "yaxis": {
            "backgroundcolor": "rgb(17,17,17)",
            "gridcolor": "#506784",
            "linecolor": "#506784",
            "showbackground": true,
            "ticks": "",
            "zerolinecolor": "#C8D4E3",
            "gridwidth": 2
           },
           "zaxis": {
            "backgroundcolor": "rgb(17,17,17)",
            "gridcolor": "#506784",
            "linecolor": "#506784",
            "showbackground": true,
            "ticks": "",
            "zerolinecolor": "#C8D4E3",
            "gridwidth": 2
           }
          },
          "shapedefaults": {
           "line": {
            "color": "#f2f5fa"
           }
          },
          "annotationdefaults": {
           "arrowcolor": "#f2f5fa",
           "arrowhead": 0,
           "arrowwidth": 1
          },
          "geo": {
           "bgcolor": "rgb(17,17,17)",
           "landcolor": "rgb(17,17,17)",
           "subunitcolor": "#506784",
           "showland": true,
           "showlakes": true,
           "lakecolor": "rgb(17,17,17)"
          },
          "title": {
           "x": 0.05
          },
          "updatemenudefaults": {
           "bgcolor": "#506784",
           "borderwidth": 0
          },
          "sliderdefaults": {
           "bgcolor": "#C8D4E3",
           "borderwidth": 1,
           "bordercolor": "rgb(17,17,17)",
           "tickwidth": 0
          },
          "mapbox": {
           "style": "dark"
          }
         }
        },
        "xaxis": {
         "anchor": "y",
         "domain": [
          0.0,
          1.0
         ],
         "title": {
          "text": "Name"
         }
        },
        "yaxis": {
         "anchor": "x",
         "domain": [
          0.0,
          1.0
         ],
         "title": {
          "text": "Prof Quality Rating"
         }
        },
        "legend": {
         "title": {
          "text": "Department"
         },
         "tracegroupgap": 0,
         "itemsizing": "constant"
        },
        "margin": {
         "t": 60
        }
       },
       "config": {
        "plotlyServerURL": "https://plot.ly"
       }
      },
      "text/html": "<div>                            <div id=\"4c3057b1-e16d-4465-b5f9-73c488dc2b0e\" class=\"plotly-graph-div\" style=\"height:525px; width:100%;\"></div>            <script type=\"text/javascript\">                require([\"plotly\"], function(Plotly) {                    window.PLOTLYENV=window.PLOTLYENV || {};                                    if (document.getElementById(\"4c3057b1-e16d-4465-b5f9-73c488dc2b0e\")) {                    Plotly.newPlot(                        \"4c3057b1-e16d-4465-b5f9-73c488dc2b0e\",                        [{\"hovertemplate\":\"Department=Anthropology\\u003cbr\\u003eName=%{x}\\u003cbr\\u003eProf Quality Rating=%{y}\\u003cbr\\u003eTotal Ratings=%{marker.size}\\u003cextra\\u003e\\u003c\\u002fextra\\u003e\",\"legendgroup\":\"Anthropology\",\"marker\":{\"color\":\"#636efa\",\"size\":[124,182,122],\"sizemode\":\"area\",\"sizeref\":2.14,\"symbol\":\"circle\"},\"mode\":\"markers\",\"name\":\"Anthropology\",\"orientation\":\"v\",\"showlegend\":true,\"x\":[\"Henry McHenry\",\"Alan Klima\",\"Marisol De La Cadena\"],\"xaxis\":\"x\",\"y\":[4.5,2.9,2.9],\"yaxis\":\"y\",\"type\":\"scatter\"},{\"hovertemplate\":\"Department=History\\u003cbr\\u003eName=%{x}\\u003cbr\\u003eProf Quality Rating=%{y}\\u003cbr\\u003eTotal Ratings=%{marker.size}\\u003cextra\\u003e\\u003c\\u002fextra\\u003e\",\"legendgroup\":\"History\",\"marker\":{\"color\":\"#EF553B\",\"size\":[188,157],\"sizemode\":\"area\",\"sizeref\":2.14,\"symbol\":\"circle\"},\"mode\":\"markers\",\"name\":\"History\",\"orientation\":\"v\",\"showlegend\":true,\"x\":[\"Stylianos Spyridakis\",\"Eric Rauchway\"],\"xaxis\":\"x\",\"y\":[4.6,4.2],\"yaxis\":\"y\",\"type\":\"scatter\"},{\"hovertemplate\":\"Department=Nutrition\\u003cbr\\u003eName=%{x}\\u003cbr\\u003eProf Quality Rating=%{y}\\u003cbr\\u003eTotal Ratings=%{marker.size}\\u003cextra\\u003e\\u003c\\u002fextra\\u003e\",\"legendgroup\":\"Nutrition\",\"marker\":{\"color\":\"#00cc96\",\"size\":[257,122],\"sizemode\":\"area\",\"sizeref\":2.14,\"symbol\":\"circle\"},\"mode\":\"markers\",\"name\":\"Nutrition\",\"orientation\":\"v\",\"showlegend\":true,\"x\":[\"Liz Applegate\",\"Debbie Fetter\"],\"xaxis\":\"x\",\"y\":[4.2,4.3],\"yaxis\":\"y\",\"type\":\"scatter\"},{\"hovertemplate\":\"Department=Chemistry\\u003cbr\\u003eName=%{x}\\u003cbr\\u003eProf Quality Rating=%{y}\\u003cbr\\u003eTotal Ratings=%{marker.size}\\u003cextra\\u003e\\u003c\\u002fextra\\u003e\",\"legendgroup\":\"Chemistry\",\"marker\":{\"color\":\"#ab63fa\",\"size\":[118,190,137,185,856,154,131,106,132,189,489,139,111,436,122,126,696,219,158,365,103,104,790],\"sizemode\":\"area\",\"sizeref\":2.14,\"symbol\":\"circle\"},\"mode\":\"markers\",\"name\":\"Chemistry\",\"orientation\":\"v\",\"showlegend\":true,\"x\":[\"Nancy True\",\"Matthew Augustine\",\"Vahid Eskandari\",\"Krishnan Nambiar\",\"Andreas Toupadakis\",\"Daniel Nurco\",\"Michael Toney\",\"Alexei Stuchebrukhov\",\"Clyde McCurdy\",\"Gerardo Ochoa\",\"Ozcan Gulacar\",\"Ting Guo\",\"Claire Filloux\",\"Sarah Lievens\",\"Neil Schore\",\"Whitney Duim\",\"Bryan Enderle\",\"Tomoyuki Hayashi\",\"Louis Longaker\",\"Julia Chamberlain\",\"Mark Mascal\",\"Delmar Larsen\",\"Melekeh Nasiri\"],\"xaxis\":\"x\",\"y\":[2.9,4.1,4.4,3.4,3.3,2.3,2.4,2.1,2.6,3.9,3.8,1.9,3.0,3.9,4.6,2.9,4.6,3.9,2.7,3.0,2.0,2.7,2.7],\"yaxis\":\"y\",\"type\":\"scatter\"},{\"hovertemplate\":\"Department=Economics\\u003cbr\\u003eName=%{x}\\u003cbr\\u003eProf Quality Rating=%{y}\\u003cbr\\u003eTotal Ratings=%{marker.size}\\u003cextra\\u003e\\u003c\\u002fextra\\u003e\",\"legendgroup\":\"Economics\",\"marker\":{\"color\":\"#FFA15A\",\"size\":[102,135,105,121,125,130,225,190,247,130,221],\"sizemode\":\"area\",\"sizeref\":2.14,\"symbol\":\"circle\"},\"mode\":\"markers\",\"name\":\"Economics\",\"orientation\":\"v\",\"showlegend\":true,\"x\":[\"Garland Brinkley\",\"L Jay Helms\",\"Brian Rosario\",\"Emmanuel Frenkel\",\"Mark Siegler\",\"Gregory Clark\",\"David Lang\",\"Janine Wilson\",\"Bagher Modjtahedi\",\"David Rapson\",\"John Constantine\"],\"xaxis\":\"x\",\"y\":[3.0,3.9,2.9,3.2,3.1,3.1,3.1,4.4,3.0,3.1,3.8],\"yaxis\":\"y\",\"type\":\"scatter\"},{\"hovertemplate\":\"Department=Animal Science\\u003cbr\\u003eName=%{x}\\u003cbr\\u003eProf Quality Rating=%{y}\\u003cbr\\u003eTotal Ratings=%{marker.size}\\u003cextra\\u003e\\u003c\\u002fextra\\u003e\",\"legendgroup\":\"Animal Science\",\"marker\":{\"color\":\"#19d3f3\",\"size\":[189],\"sizemode\":\"area\",\"sizeref\":2.14,\"symbol\":\"circle\"},\"mode\":\"markers\",\"name\":\"Animal Science\",\"orientation\":\"v\",\"showlegend\":true,\"x\":[\"Thomas Famula\"],\"xaxis\":\"x\",\"y\":[4.9],\"yaxis\":\"y\",\"type\":\"scatter\"},{\"hovertemplate\":\"Department=Psychology\\u003cbr\\u003eName=%{x}\\u003cbr\\u003eProf Quality Rating=%{y}\\u003cbr\\u003eTotal Ratings=%{marker.size}\\u003cextra\\u003e\\u003c\\u002fextra\\u003e\",\"legendgroup\":\"Psychology\",\"marker\":{\"color\":\"#FF6692\",\"size\":[124,105,208,108,131,195,169,196],\"sizemode\":\"area\",\"sizeref\":2.14,\"symbol\":\"circle\"},\"mode\":\"markers\",\"name\":\"Psychology\",\"orientation\":\"v\",\"showlegend\":true,\"x\":[\"Elizabeth Post\",\"Richard Coss\",\"Eva Schepeler\",\"Priscilla San Souci\",\"Steve Luck\",\"Evan Antzoulatos\",\"Ross Thompson\",\"Victoria Cross\"],\"xaxis\":\"x\",\"y\":[4.1,3.6,4.6,4.9,4.3,4.7,4.6,4.0],\"yaxis\":\"y\",\"type\":\"scatter\"},{\"hovertemplate\":\"Department=Political Science\\u003cbr\\u003eName=%{x}\\u003cbr\\u003eProf Quality Rating=%{y}\\u003cbr\\u003eTotal Ratings=%{marker.size}\\u003cextra\\u003e\\u003c\\u002fextra\\u003e\",\"legendgroup\":\"Political Science\",\"marker\":{\"color\":\"#B6E880\",\"size\":[123,145],\"sizemode\":\"area\",\"sizeref\":2.14,\"symbol\":\"circle\"},\"mode\":\"markers\",\"name\":\"Political Science\",\"orientation\":\"v\",\"showlegend\":true,\"x\":[\"Stuart Hill\",\"Miroslav Nincic\"],\"xaxis\":\"x\",\"y\":[3.8,4.1],\"yaxis\":\"y\",\"type\":\"scatter\"},{\"hovertemplate\":\"Department=Science\\u003cbr\\u003eName=%{x}\\u003cbr\\u003eProf Quality Rating=%{y}\\u003cbr\\u003eTotal Ratings=%{marker.size}\\u003cextra\\u003e\\u003c\\u002fextra\\u003e\",\"legendgroup\":\"Science\",\"marker\":{\"color\":\"#FF97FF\",\"size\":[106,126,181,276,153,224],\"sizemode\":\"area\",\"sizeref\":2.14,\"symbol\":\"circle\"},\"mode\":\"markers\",\"name\":\"Science\",\"orientation\":\"v\",\"showlegend\":true,\"x\":[\"Steven Farmer\",\"Mark Sanders\",\"Susan Keen\",\"Erwin Bautista\",\"Michelle Igo\",\"Mitch Singer\"],\"xaxis\":\"x\",\"y\":[4.7,3.2,4.5,4.1,1.8,1.8],\"yaxis\":\"y\",\"type\":\"scatter\"},{\"hovertemplate\":\"Department=English\\u003cbr\\u003eName=%{x}\\u003cbr\\u003eProf Quality Rating=%{y}\\u003cbr\\u003eTotal Ratings=%{marker.size}\\u003cextra\\u003e\\u003c\\u002fextra\\u003e\",\"legendgroup\":\"English\",\"marker\":{\"color\":\"#FECB52\",\"size\":[120],\"sizemode\":\"area\",\"sizeref\":2.14,\"symbol\":\"circle\"},\"mode\":\"markers\",\"name\":\"English\",\"orientation\":\"v\",\"showlegend\":true,\"x\":[\"John Boe\"],\"xaxis\":\"x\",\"y\":[4.4],\"yaxis\":\"y\",\"type\":\"scatter\"},{\"hovertemplate\":\"Department=Mathematics\\u003cbr\\u003eName=%{x}\\u003cbr\\u003eProf Quality Rating=%{y}\\u003cbr\\u003eTotal Ratings=%{marker.size}\\u003cextra\\u003e\\u003c\\u002fextra\\u003e\",\"legendgroup\":\"Mathematics\",\"marker\":{\"color\":\"#636efa\",\"size\":[106,112,409,419,115,112,118,121,117,162,358,253,155,151,186,427,130,106,247,178,125,154,222,173],\"sizemode\":\"area\",\"sizeref\":2.14,\"symbol\":\"circle\"},\"mode\":\"markers\",\"name\":\"Mathematics\",\"orientation\":\"v\",\"showlegend\":true,\"x\":[\"Ilya Shapiro\",\"David Cherney\",\"Lawrence Marx\",\"Duane Kouba\",\"Alexander Coward\",\"Tim Lewis\",\"Jennifer Schultens\",\"Joel Hass\",\"Motohico Mulase\",\"Rohit Thomas\",\"William Tavernetti\",\"Janko Gravner\",\"Monica Vazirani\",\"John Challenor\",\"Andrew Waldron\",\"Ali Dad-Del\",\"Blake Temple\",\"Yonggyu Lee\",\"Korana Burke\",\"Dowman Varn\",\"Fu Liu\",\"Elbridge Puckett\",\"Joseph Biello\",\"Benjamin Morris\"],\"xaxis\":\"x\",\"y\":[2.7,3.6,4.1,4.6,4.6,4.2,2.8,4.2,3.6,2.7,4.7,3.7,2.1,4.4,2.5,3.3,1.8,2.9,2.9,3.1,2.5,1.8,2.3,3.3],\"yaxis\":\"y\",\"type\":\"scatter\"},{\"hovertemplate\":\"Department=Microbiology\\u003cbr\\u003eName=%{x}\\u003cbr\\u003eProf Quality Rating=%{y}\\u003cbr\\u003eTotal Ratings=%{marker.size}\\u003cextra\\u003e\\u003c\\u002fextra\\u003e\",\"legendgroup\":\"Microbiology\",\"marker\":{\"color\":\"#EF553B\",\"size\":[121],\"sizemode\":\"area\",\"sizeref\":2.14,\"symbol\":\"circle\"},\"mode\":\"markers\",\"name\":\"Microbiology\",\"orientation\":\"v\",\"showlegend\":true,\"x\":[\"Jeremy Appleman\"],\"xaxis\":\"x\",\"y\":[3.5],\"yaxis\":\"y\",\"type\":\"scatter\"},{\"hovertemplate\":\"Department=Entomology\\u003cbr\\u003eName=%{x}\\u003cbr\\u003eProf Quality Rating=%{y}\\u003cbr\\u003eTotal Ratings=%{marker.size}\\u003cextra\\u003e\\u003c\\u002fextra\\u003e\",\"legendgroup\":\"Entomology\",\"marker\":{\"color\":\"#00cc96\",\"size\":[117],\"sizemode\":\"area\",\"sizeref\":2.14,\"symbol\":\"circle\"},\"mode\":\"markers\",\"name\":\"Entomology\",\"orientation\":\"v\",\"showlegend\":true,\"x\":[\"Jay Rosenheim\"],\"xaxis\":\"x\",\"y\":[4.3],\"yaxis\":\"y\",\"type\":\"scatter\"},{\"hovertemplate\":\"Department=Biology\\u003cbr\\u003eName=%{x}\\u003cbr\\u003eProf Quality Rating=%{y}\\u003cbr\\u003eTotal Ratings=%{marker.size}\\u003cextra\\u003e\\u003c\\u002fextra\\u003e\",\"legendgroup\":\"Biology\",\"marker\":{\"color\":\"#ab63fa\",\"size\":[328,199,333,115],\"sizemode\":\"area\",\"sizeref\":2.14,\"symbol\":\"circle\"},\"mode\":\"markers\",\"name\":\"Biology\",\"orientation\":\"v\",\"showlegend\":true,\"x\":[\"Karen Gerhart\",\"Eric Mann\",\"Kenneth Hilt\",\"Daniel Kliebenstein\"],\"xaxis\":\"x\",\"y\":[3.1,4.0,3.7,3.1],\"yaxis\":\"y\",\"type\":\"scatter\"},{\"hovertemplate\":\"Department=Statistics\\u003cbr\\u003eName=%{x}\\u003cbr\\u003eProf Quality Rating=%{y}\\u003cbr\\u003eTotal Ratings=%{marker.size}\\u003cextra\\u003e\\u003c\\u002fextra\\u003e\",\"legendgroup\":\"Statistics\",\"marker\":{\"color\":\"#FFA15A\",\"size\":[118,160,114,219,167],\"sizemode\":\"area\",\"sizeref\":2.14,\"symbol\":\"circle\"},\"mode\":\"markers\",\"name\":\"Statistics\",\"orientation\":\"v\",\"showlegend\":true,\"x\":[\"Azari Abdolrahman\",\"JoAnna Whitener\",\"Amy Kim\",\"Christiana Drake\",\"Andrew Farris\"],\"xaxis\":\"x\",\"y\":[3.2,3.8,2.4,1.9,2.6],\"yaxis\":\"y\",\"type\":\"scatter\"},{\"hovertemplate\":\"Department=Food Science & Technology\\u003cbr\\u003eName=%{x}\\u003cbr\\u003eProf Quality Rating=%{y}\\u003cbr\\u003eTotal Ratings=%{marker.size}\\u003cextra\\u003e\\u003c\\u002fextra\\u003e\",\"legendgroup\":\"Food Science & Technology\",\"marker\":{\"color\":\"#19d3f3\",\"size\":[111],\"sizemode\":\"area\",\"sizeref\":2.14,\"symbol\":\"circle\"},\"mode\":\"markers\",\"name\":\"Food Science & Technology\",\"orientation\":\"v\",\"showlegend\":true,\"x\":[\"Charles Bamforth\"],\"xaxis\":\"x\",\"y\":[4.4],\"yaxis\":\"y\",\"type\":\"scatter\"},{\"hovertemplate\":\"Department=Sociology\\u003cbr\\u003eName=%{x}\\u003cbr\\u003eProf Quality Rating=%{y}\\u003cbr\\u003eTotal Ratings=%{marker.size}\\u003cextra\\u003e\\u003c\\u002fextra\\u003e\",\"legendgroup\":\"Sociology\",\"marker\":{\"color\":\"#FF6692\",\"size\":[232,115],\"sizemode\":\"area\",\"sizeref\":2.14,\"symbol\":\"circle\"},\"mode\":\"markers\",\"name\":\"Sociology\",\"orientation\":\"v\",\"showlegend\":true,\"x\":[\"Lalia Kiburi\",\"David Orzechowicz\"],\"xaxis\":\"x\",\"y\":[3.7,3.4],\"yaxis\":\"y\",\"type\":\"scatter\"},{\"hovertemplate\":\"Department=Physical Ed\\u003cbr\\u003eName=%{x}\\u003cbr\\u003eProf Quality Rating=%{y}\\u003cbr\\u003eTotal Ratings=%{marker.size}\\u003cextra\\u003e\\u003c\\u002fextra\\u003e\",\"legendgroup\":\"Physical Ed\",\"marker\":{\"color\":\"#B6E880\",\"size\":[102],\"sizemode\":\"area\",\"sizeref\":2.14,\"symbol\":\"circle\"},\"mode\":\"markers\",\"name\":\"Physical Ed\",\"orientation\":\"v\",\"showlegend\":true,\"x\":[\"Andrea Khoo\"],\"xaxis\":\"x\",\"y\":[4.9],\"yaxis\":\"y\",\"type\":\"scatter\"},{\"hovertemplate\":\"Department=Accounting\\u003cbr\\u003eName=%{x}\\u003cbr\\u003eProf Quality Rating=%{y}\\u003cbr\\u003eTotal Ratings=%{marker.size}\\u003cextra\\u003e\\u003c\\u002fextra\\u003e\",\"legendgroup\":\"Accounting\",\"marker\":{\"color\":\"#FF97FF\",\"size\":[213],\"sizemode\":\"area\",\"sizeref\":2.14,\"symbol\":\"circle\"},\"mode\":\"markers\",\"name\":\"Accounting\",\"orientation\":\"v\",\"showlegend\":true,\"x\":[\"John Hancock\"],\"xaxis\":\"x\",\"y\":[4.0],\"yaxis\":\"y\",\"type\":\"scatter\"},{\"hovertemplate\":\"Department=Biological Sciences\\u003cbr\\u003eName=%{x}\\u003cbr\\u003eProf Quality Rating=%{y}\\u003cbr\\u003eTotal Ratings=%{marker.size}\\u003cextra\\u003e\\u003c\\u002fextra\\u003e\",\"legendgroup\":\"Biological Sciences\",\"marker\":{\"color\":\"#FECB52\",\"size\":[123,275,161,181,120,116],\"sizemode\":\"area\",\"sizeref\":2.14,\"symbol\":\"circle\"},\"mode\":\"markers\",\"name\":\"Biological Sciences\",\"orientation\":\"v\",\"showlegend\":true,\"x\":[\"Luca Comai\",\"Anne Britt\",\"Joel Ledford\",\"Laci Gerhart-Barley\",\"Marina Crowder\",\"Lauren Liets\"],\"xaxis\":\"x\",\"y\":[3.2,2.1,4.8,4.9,4.9,3.9],\"yaxis\":\"y\",\"type\":\"scatter\"},{\"hovertemplate\":\"Department=Human Development\\u003cbr\\u003eName=%{x}\\u003cbr\\u003eProf Quality Rating=%{y}\\u003cbr\\u003eTotal Ratings=%{marker.size}\\u003cextra\\u003e\\u003c\\u002fextra\\u003e\",\"legendgroup\":\"Human Development\",\"marker\":{\"color\":\"#636efa\",\"size\":[103,112],\"sizemode\":\"area\",\"sizeref\":2.14,\"symbol\":\"circle\"},\"mode\":\"markers\",\"name\":\"Human Development\",\"orientation\":\"v\",\"showlegend\":true,\"x\":[\"Nicole Polen\",\"Lisa Rapalyea\"],\"xaxis\":\"x\",\"y\":[4.1,3.7],\"yaxis\":\"y\",\"type\":\"scatter\"},{\"hovertemplate\":\"Department=Design\\u003cbr\\u003eName=%{x}\\u003cbr\\u003eProf Quality Rating=%{y}\\u003cbr\\u003eTotal Ratings=%{marker.size}\\u003cextra\\u003e\\u003c\\u002fextra\\u003e\",\"legendgroup\":\"Design\",\"marker\":{\"color\":\"#EF553B\",\"size\":[114],\"sizemode\":\"area\",\"sizeref\":2.14,\"symbol\":\"circle\"},\"mode\":\"markers\",\"name\":\"Design\",\"orientation\":\"v\",\"showlegend\":true,\"x\":[\"James Housefield\"],\"xaxis\":\"x\",\"y\":[3.1],\"yaxis\":\"y\",\"type\":\"scatter\"},{\"hovertemplate\":\"Department=Geology\\u003cbr\\u003eName=%{x}\\u003cbr\\u003eProf Quality Rating=%{y}\\u003cbr\\u003eTotal Ratings=%{marker.size}\\u003cextra\\u003e\\u003c\\u002fextra\\u003e\",\"legendgroup\":\"Geology\",\"marker\":{\"color\":\"#00cc96\",\"size\":[239],\"sizemode\":\"area\",\"sizeref\":2.14,\"symbol\":\"circle\"},\"mode\":\"markers\",\"name\":\"Geology\",\"orientation\":\"v\",\"showlegend\":true,\"x\":[\"David Osleger\"],\"xaxis\":\"x\",\"y\":[5.0],\"yaxis\":\"y\",\"type\":\"scatter\"},{\"hovertemplate\":\"Department=Social Science\\u003cbr\\u003eName=%{x}\\u003cbr\\u003eProf Quality Rating=%{y}\\u003cbr\\u003eTotal Ratings=%{marker.size}\\u003cextra\\u003e\\u003c\\u002fextra\\u003e\",\"legendgroup\":\"Social Science\",\"marker\":{\"color\":\"#ab63fa\",\"size\":[105,146],\"sizemode\":\"area\",\"sizeref\":2.14,\"symbol\":\"circle\"},\"mode\":\"markers\",\"name\":\"Social Science\",\"orientation\":\"v\",\"showlegend\":true,\"x\":[\"David Kyle\",\"Bruce Haynes\"],\"xaxis\":\"x\",\"y\":[3.5,2.8],\"yaxis\":\"y\",\"type\":\"scatter\"},{\"hovertemplate\":\"Department=Philosophy\\u003cbr\\u003eName=%{x}\\u003cbr\\u003eProf Quality Rating=%{y}\\u003cbr\\u003eTotal Ratings=%{marker.size}\\u003cextra\\u003e\\u003c\\u002fextra\\u003e\",\"legendgroup\":\"Philosophy\",\"marker\":{\"color\":\"#FFA15A\",\"size\":[160],\"sizemode\":\"area\",\"sizeref\":2.14,\"symbol\":\"circle\"},\"mode\":\"markers\",\"name\":\"Philosophy\",\"orientation\":\"v\",\"showlegend\":true,\"x\":[\"Adam Sennet\"],\"xaxis\":\"x\",\"y\":[3.7],\"yaxis\":\"y\",\"type\":\"scatter\"},{\"hovertemplate\":\"Department=Writing\\u003cbr\\u003eName=%{x}\\u003cbr\\u003eProf Quality Rating=%{y}\\u003cbr\\u003eTotal Ratings=%{marker.size}\\u003cextra\\u003e\\u003c\\u002fextra\\u003e\",\"legendgroup\":\"Writing\",\"marker\":{\"color\":\"#19d3f3\",\"size\":[104],\"sizemode\":\"area\",\"sizeref\":2.14,\"symbol\":\"circle\"},\"mode\":\"markers\",\"name\":\"Writing\",\"orientation\":\"v\",\"showlegend\":true,\"x\":[\"Karma Waltonen\"],\"xaxis\":\"x\",\"y\":[3.9],\"yaxis\":\"y\",\"type\":\"scatter\"},{\"hovertemplate\":\"Department=Biomedical Engineering\\u003cbr\\u003eName=%{x}\\u003cbr\\u003eProf Quality Rating=%{y}\\u003cbr\\u003eTotal Ratings=%{marker.size}\\u003cextra\\u003e\\u003c\\u002fextra\\u003e\",\"legendgroup\":\"Biomedical Engineering\",\"marker\":{\"color\":\"#FF6692\",\"size\":[240],\"sizemode\":\"area\",\"sizeref\":2.14,\"symbol\":\"circle\"},\"mode\":\"markers\",\"name\":\"Biomedical Engineering\",\"orientation\":\"v\",\"showlegend\":true,\"x\":[\"Marc Facciotti\"],\"xaxis\":\"x\",\"y\":[2.8],\"yaxis\":\"y\",\"type\":\"scatter\"},{\"hovertemplate\":\"Department=Classics\\u003cbr\\u003eName=%{x}\\u003cbr\\u003eProf Quality Rating=%{y}\\u003cbr\\u003eTotal Ratings=%{marker.size}\\u003cextra\\u003e\\u003c\\u002fextra\\u003e\",\"legendgroup\":\"Classics\",\"marker\":{\"color\":\"#B6E880\",\"size\":[102,120,192],\"sizemode\":\"area\",\"sizeref\":2.14,\"symbol\":\"circle\"},\"mode\":\"markers\",\"name\":\"Classics\",\"orientation\":\"v\",\"showlegend\":true,\"x\":[\"Melissa Stem\",\"John Rundin\",\"Tim Brelinski\"],\"xaxis\":\"x\",\"y\":[3.1,4.2,4.6],\"yaxis\":\"y\",\"type\":\"scatter\"},{\"hovertemplate\":\"Department=Computer Science\\u003cbr\\u003eName=%{x}\\u003cbr\\u003eProf Quality Rating=%{y}\\u003cbr\\u003eTotal Ratings=%{marker.size}\\u003cextra\\u003e\\u003c\\u002fextra\\u003e\",\"legendgroup\":\"Computer Science\",\"marker\":{\"color\":\"#FF97FF\",\"size\":[107,101,291,191,409,114,131,172],\"sizemode\":\"area\",\"sizeref\":2.14,\"symbol\":\"circle\"},\"mode\":\"markers\",\"name\":\"Computer Science\",\"orientation\":\"v\",\"showlegend\":true,\"x\":[\"Matthew Franklin\",\"Felix Wu\",\"Sean Davis\",\"Chris Nitta\",\"Matthew Butner\",\"Hao Chen\",\"Yelena Frid\",\"Jo\\u00ebl Porquet\"],\"xaxis\":\"x\",\"y\":[1.6,2.6,4.0,2.4,3.7,2.1,3.8,3.6],\"yaxis\":\"y\",\"type\":\"scatter\"},{\"hovertemplate\":\"Department=Religious Studies\\u003cbr\\u003eName=%{x}\\u003cbr\\u003eProf Quality Rating=%{y}\\u003cbr\\u003eTotal Ratings=%{marker.size}\\u003cextra\\u003e\\u003c\\u002fextra\\u003e\",\"legendgroup\":\"Religious Studies\",\"marker\":{\"color\":\"#FECB52\",\"size\":[103],\"sizemode\":\"area\",\"sizeref\":2.14,\"symbol\":\"circle\"},\"mode\":\"markers\",\"name\":\"Religious Studies\",\"orientation\":\"v\",\"showlegend\":true,\"x\":[\"Keith Watenpaugh\"],\"xaxis\":\"x\",\"y\":[3.4],\"yaxis\":\"y\",\"type\":\"scatter\"},{\"hovertemplate\":\"Department=Agriculture\\u003cbr\\u003eName=%{x}\\u003cbr\\u003eProf Quality Rating=%{y}\\u003cbr\\u003eTotal Ratings=%{marker.size}\\u003cextra\\u003e\\u003c\\u002fextra\\u003e\",\"legendgroup\":\"Agriculture\",\"marker\":{\"color\":\"#636efa\",\"size\":[148],\"sizemode\":\"area\",\"sizeref\":2.14,\"symbol\":\"circle\"},\"mode\":\"markers\",\"name\":\"Agriculture\",\"orientation\":\"v\",\"showlegend\":true,\"x\":[\"Jerry Lundblad\"],\"xaxis\":\"x\",\"y\":[2.4],\"yaxis\":\"y\",\"type\":\"scatter\"},{\"hovertemplate\":\"Department=Asian Studies\\u003cbr\\u003eName=%{x}\\u003cbr\\u003eProf Quality Rating=%{y}\\u003cbr\\u003eTotal Ratings=%{marker.size}\\u003cextra\\u003e\\u003c\\u002fextra\\u003e\",\"legendgroup\":\"Asian Studies\",\"marker\":{\"color\":\"#EF553B\",\"size\":[101,126],\"sizemode\":\"area\",\"sizeref\":2.14,\"symbol\":\"circle\"},\"mode\":\"markers\",\"name\":\"Asian Studies\",\"orientation\":\"v\",\"showlegend\":true,\"x\":[\"Caroline Valverde\",\"Darrell Hamamoto\"],\"xaxis\":\"x\",\"y\":[3.5,3.4],\"yaxis\":\"y\",\"type\":\"scatter\"},{\"hovertemplate\":\"Department=Communication\\u003cbr\\u003eName=%{x}\\u003cbr\\u003eProf Quality Rating=%{y}\\u003cbr\\u003eTotal Ratings=%{marker.size}\\u003cextra\\u003e\\u003c\\u002fextra\\u003e\",\"legendgroup\":\"Communication\",\"marker\":{\"color\":\"#00cc96\",\"size\":[261,122,195,143,134],\"sizemode\":\"area\",\"sizeref\":2.14,\"symbol\":\"circle\"},\"mode\":\"markers\",\"name\":\"Communication\",\"orientation\":\"v\",\"showlegend\":true,\"x\":[\"Jeanette Ruiz\",\"Alisa Shubb\",\"John Theobald\",\"Virginia Hamilton\",\"Martin Hilbert\"],\"xaxis\":\"x\",\"y\":[4.1,2.8,3.1,4.5,3.2],\"yaxis\":\"y\",\"type\":\"scatter\"},{\"hovertemplate\":\"Department=Molecular\\u002fCellular Biology\\u003cbr\\u003eName=%{x}\\u003cbr\\u003eProf Quality Rating=%{y}\\u003cbr\\u003eTotal Ratings=%{marker.size}\\u003cextra\\u003e\\u003c\\u002fextra\\u003e\",\"legendgroup\":\"Molecular\\u002fCellular Biology\",\"marker\":{\"color\":\"#ab63fa\",\"size\":[426],\"sizemode\":\"area\",\"sizeref\":2.14,\"symbol\":\"circle\"},\"mode\":\"markers\",\"name\":\"Molecular\\u002fCellular Biology\",\"orientation\":\"v\",\"showlegend\":true,\"x\":[\"Walter Leal\"],\"xaxis\":\"x\",\"y\":[4.2],\"yaxis\":\"y\",\"type\":\"scatter\"},{\"hovertemplate\":\"Department=Physics\\u003cbr\\u003eName=%{x}\\u003cbr\\u003eProf Quality Rating=%{y}\\u003cbr\\u003eTotal Ratings=%{marker.size}\\u003cextra\\u003e\\u003c\\u002fextra\\u003e\",\"legendgroup\":\"Physics\",\"marker\":{\"color\":\"#FFA15A\",\"size\":[106,186],\"sizemode\":\"area\",\"sizeref\":2.14,\"symbol\":\"circle\"},\"mode\":\"markers\",\"name\":\"Physics\",\"orientation\":\"v\",\"showlegend\":true,\"x\":[\"Dina Zhabinskaya\",\"Thomas Weideman\"],\"xaxis\":\"x\",\"y\":[2.6,2.9],\"yaxis\":\"y\",\"type\":\"scatter\"},{\"hovertemplate\":\"Department=Food Science  Technology\\u003cbr\\u003eName=%{x}\\u003cbr\\u003eProf Quality Rating=%{y}\\u003cbr\\u003eTotal Ratings=%{marker.size}\\u003cextra\\u003e\\u003c\\u002fextra\\u003e\",\"legendgroup\":\"Food Science  Technology\",\"marker\":{\"color\":\"#19d3f3\",\"size\":[161],\"sizemode\":\"area\",\"sizeref\":2.14,\"symbol\":\"circle\"},\"mode\":\"markers\",\"name\":\"Food Science  Technology\",\"orientation\":\"v\",\"showlegend\":true,\"x\":[\"Bwalya Lungu\"],\"xaxis\":\"x\",\"y\":[3.2],\"yaxis\":\"y\",\"type\":\"scatter\"},{\"hovertemplate\":\"Department=Film\\u003cbr\\u003eName=%{x}\\u003cbr\\u003eProf Quality Rating=%{y}\\u003cbr\\u003eTotal Ratings=%{marker.size}\\u003cextra\\u003e\\u003c\\u002fextra\\u003e\",\"legendgroup\":\"Film\",\"marker\":{\"color\":\"#FF6692\",\"size\":[108],\"sizemode\":\"area\",\"sizeref\":2.14,\"symbol\":\"circle\"},\"mode\":\"markers\",\"name\":\"Film\",\"orientation\":\"v\",\"showlegend\":true,\"x\":[\"Eric Smoodin\"],\"xaxis\":\"x\",\"y\":[2.9],\"yaxis\":\"y\",\"type\":\"scatter\"},{\"hovertemplate\":\"Department=Engineering\\u003cbr\\u003eName=%{x}\\u003cbr\\u003eProf Quality Rating=%{y}\\u003cbr\\u003eTotal Ratings=%{marker.size}\\u003cextra\\u003e\\u003c\\u002fextra\\u003e\",\"legendgroup\":\"Engineering\",\"marker\":{\"color\":\"#B6E880\",\"size\":[205],\"sizemode\":\"area\",\"sizeref\":2.14,\"symbol\":\"circle\"},\"mode\":\"markers\",\"name\":\"Engineering\",\"orientation\":\"v\",\"showlegend\":true,\"x\":[\"Diego Yankelevich\"],\"xaxis\":\"x\",\"y\":[2.3],\"yaxis\":\"y\",\"type\":\"scatter\"},{\"hovertemplate\":\"Department=Management\\u003cbr\\u003eName=%{x}\\u003cbr\\u003eProf Quality Rating=%{y}\\u003cbr\\u003eTotal Ratings=%{marker.size}\\u003cextra\\u003e\\u003c\\u002fextra\\u003e\",\"legendgroup\":\"Management\",\"marker\":{\"color\":\"#FF97FF\",\"size\":[428],\"sizemode\":\"area\",\"sizeref\":2.14,\"symbol\":\"circle\"},\"mode\":\"markers\",\"name\":\"Management\",\"orientation\":\"v\",\"showlegend\":true,\"x\":[\"Cyrus Aram\"],\"xaxis\":\"x\",\"y\":[4.9],\"yaxis\":\"y\",\"type\":\"scatter\"}],                        {\"template\":{\"data\":{\"histogram2dcontour\":[{\"type\":\"histogram2dcontour\",\"colorbar\":{\"outlinewidth\":0,\"ticks\":\"\"},\"colorscale\":[[0.0,\"#0d0887\"],[0.1111111111111111,\"#46039f\"],[0.2222222222222222,\"#7201a8\"],[0.3333333333333333,\"#9c179e\"],[0.4444444444444444,\"#bd3786\"],[0.5555555555555556,\"#d8576b\"],[0.6666666666666666,\"#ed7953\"],[0.7777777777777778,\"#fb9f3a\"],[0.8888888888888888,\"#fdca26\"],[1.0,\"#f0f921\"]]}],\"choropleth\":[{\"type\":\"choropleth\",\"colorbar\":{\"outlinewidth\":0,\"ticks\":\"\"}}],\"histogram2d\":[{\"type\":\"histogram2d\",\"colorbar\":{\"outlinewidth\":0,\"ticks\":\"\"},\"colorscale\":[[0.0,\"#0d0887\"],[0.1111111111111111,\"#46039f\"],[0.2222222222222222,\"#7201a8\"],[0.3333333333333333,\"#9c179e\"],[0.4444444444444444,\"#bd3786\"],[0.5555555555555556,\"#d8576b\"],[0.6666666666666666,\"#ed7953\"],[0.7777777777777778,\"#fb9f3a\"],[0.8888888888888888,\"#fdca26\"],[1.0,\"#f0f921\"]]}],\"heatmap\":[{\"type\":\"heatmap\",\"colorbar\":{\"outlinewidth\":0,\"ticks\":\"\"},\"colorscale\":[[0.0,\"#0d0887\"],[0.1111111111111111,\"#46039f\"],[0.2222222222222222,\"#7201a8\"],[0.3333333333333333,\"#9c179e\"],[0.4444444444444444,\"#bd3786\"],[0.5555555555555556,\"#d8576b\"],[0.6666666666666666,\"#ed7953\"],[0.7777777777777778,\"#fb9f3a\"],[0.8888888888888888,\"#fdca26\"],[1.0,\"#f0f921\"]]}],\"heatmapgl\":[{\"type\":\"heatmapgl\",\"colorbar\":{\"outlinewidth\":0,\"ticks\":\"\"},\"colorscale\":[[0.0,\"#0d0887\"],[0.1111111111111111,\"#46039f\"],[0.2222222222222222,\"#7201a8\"],[0.3333333333333333,\"#9c179e\"],[0.4444444444444444,\"#bd3786\"],[0.5555555555555556,\"#d8576b\"],[0.6666666666666666,\"#ed7953\"],[0.7777777777777778,\"#fb9f3a\"],[0.8888888888888888,\"#fdca26\"],[1.0,\"#f0f921\"]]}],\"contourcarpet\":[{\"type\":\"contourcarpet\",\"colorbar\":{\"outlinewidth\":0,\"ticks\":\"\"}}],\"contour\":[{\"type\":\"contour\",\"colorbar\":{\"outlinewidth\":0,\"ticks\":\"\"},\"colorscale\":[[0.0,\"#0d0887\"],[0.1111111111111111,\"#46039f\"],[0.2222222222222222,\"#7201a8\"],[0.3333333333333333,\"#9c179e\"],[0.4444444444444444,\"#bd3786\"],[0.5555555555555556,\"#d8576b\"],[0.6666666666666666,\"#ed7953\"],[0.7777777777777778,\"#fb9f3a\"],[0.8888888888888888,\"#fdca26\"],[1.0,\"#f0f921\"]]}],\"surface\":[{\"type\":\"surface\",\"colorbar\":{\"outlinewidth\":0,\"ticks\":\"\"},\"colorscale\":[[0.0,\"#0d0887\"],[0.1111111111111111,\"#46039f\"],[0.2222222222222222,\"#7201a8\"],[0.3333333333333333,\"#9c179e\"],[0.4444444444444444,\"#bd3786\"],[0.5555555555555556,\"#d8576b\"],[0.6666666666666666,\"#ed7953\"],[0.7777777777777778,\"#fb9f3a\"],[0.8888888888888888,\"#fdca26\"],[1.0,\"#f0f921\"]]}],\"mesh3d\":[{\"type\":\"mesh3d\",\"colorbar\":{\"outlinewidth\":0,\"ticks\":\"\"}}],\"scatter\":[{\"marker\":{\"line\":{\"color\":\"#283442\"}},\"type\":\"scatter\"}],\"parcoords\":[{\"type\":\"parcoords\",\"line\":{\"colorbar\":{\"outlinewidth\":0,\"ticks\":\"\"}}}],\"scatterpolargl\":[{\"type\":\"scatterpolargl\",\"marker\":{\"colorbar\":{\"outlinewidth\":0,\"ticks\":\"\"}}}],\"bar\":[{\"error_x\":{\"color\":\"#f2f5fa\"},\"error_y\":{\"color\":\"#f2f5fa\"},\"marker\":{\"line\":{\"color\":\"rgb(17,17,17)\",\"width\":0.5},\"pattern\":{\"fillmode\":\"overlay\",\"size\":10,\"solidity\":0.2}},\"type\":\"bar\"}],\"scattergeo\":[{\"type\":\"scattergeo\",\"marker\":{\"colorbar\":{\"outlinewidth\":0,\"ticks\":\"\"}}}],\"scatterpolar\":[{\"type\":\"scatterpolar\",\"marker\":{\"colorbar\":{\"outlinewidth\":0,\"ticks\":\"\"}}}],\"histogram\":[{\"marker\":{\"pattern\":{\"fillmode\":\"overlay\",\"size\":10,\"solidity\":0.2}},\"type\":\"histogram\"}],\"scattergl\":[{\"marker\":{\"line\":{\"color\":\"#283442\"}},\"type\":\"scattergl\"}],\"scatter3d\":[{\"type\":\"scatter3d\",\"line\":{\"colorbar\":{\"outlinewidth\":0,\"ticks\":\"\"}},\"marker\":{\"colorbar\":{\"outlinewidth\":0,\"ticks\":\"\"}}}],\"scattermapbox\":[{\"type\":\"scattermapbox\",\"marker\":{\"colorbar\":{\"outlinewidth\":0,\"ticks\":\"\"}}}],\"scatterternary\":[{\"type\":\"scatterternary\",\"marker\":{\"colorbar\":{\"outlinewidth\":0,\"ticks\":\"\"}}}],\"scattercarpet\":[{\"type\":\"scattercarpet\",\"marker\":{\"colorbar\":{\"outlinewidth\":0,\"ticks\":\"\"}}}],\"carpet\":[{\"aaxis\":{\"endlinecolor\":\"#A2B1C6\",\"gridcolor\":\"#506784\",\"linecolor\":\"#506784\",\"minorgridcolor\":\"#506784\",\"startlinecolor\":\"#A2B1C6\"},\"baxis\":{\"endlinecolor\":\"#A2B1C6\",\"gridcolor\":\"#506784\",\"linecolor\":\"#506784\",\"minorgridcolor\":\"#506784\",\"startlinecolor\":\"#A2B1C6\"},\"type\":\"carpet\"}],\"table\":[{\"cells\":{\"fill\":{\"color\":\"#506784\"},\"line\":{\"color\":\"rgb(17,17,17)\"}},\"header\":{\"fill\":{\"color\":\"#2a3f5f\"},\"line\":{\"color\":\"rgb(17,17,17)\"}},\"type\":\"table\"}],\"barpolar\":[{\"marker\":{\"line\":{\"color\":\"rgb(17,17,17)\",\"width\":0.5},\"pattern\":{\"fillmode\":\"overlay\",\"size\":10,\"solidity\":0.2}},\"type\":\"barpolar\"}],\"pie\":[{\"automargin\":true,\"type\":\"pie\"}]},\"layout\":{\"autotypenumbers\":\"strict\",\"colorway\":[\"#636efa\",\"#EF553B\",\"#00cc96\",\"#ab63fa\",\"#FFA15A\",\"#19d3f3\",\"#FF6692\",\"#B6E880\",\"#FF97FF\",\"#FECB52\"],\"font\":{\"color\":\"#f2f5fa\"},\"hovermode\":\"closest\",\"hoverlabel\":{\"align\":\"left\"},\"paper_bgcolor\":\"rgb(17,17,17)\",\"plot_bgcolor\":\"rgb(17,17,17)\",\"polar\":{\"bgcolor\":\"rgb(17,17,17)\",\"angularaxis\":{\"gridcolor\":\"#506784\",\"linecolor\":\"#506784\",\"ticks\":\"\"},\"radialaxis\":{\"gridcolor\":\"#506784\",\"linecolor\":\"#506784\",\"ticks\":\"\"}},\"ternary\":{\"bgcolor\":\"rgb(17,17,17)\",\"aaxis\":{\"gridcolor\":\"#506784\",\"linecolor\":\"#506784\",\"ticks\":\"\"},\"baxis\":{\"gridcolor\":\"#506784\",\"linecolor\":\"#506784\",\"ticks\":\"\"},\"caxis\":{\"gridcolor\":\"#506784\",\"linecolor\":\"#506784\",\"ticks\":\"\"}},\"coloraxis\":{\"colorbar\":{\"outlinewidth\":0,\"ticks\":\"\"}},\"colorscale\":{\"sequential\":[[0.0,\"#0d0887\"],[0.1111111111111111,\"#46039f\"],[0.2222222222222222,\"#7201a8\"],[0.3333333333333333,\"#9c179e\"],[0.4444444444444444,\"#bd3786\"],[0.5555555555555556,\"#d8576b\"],[0.6666666666666666,\"#ed7953\"],[0.7777777777777778,\"#fb9f3a\"],[0.8888888888888888,\"#fdca26\"],[1.0,\"#f0f921\"]],\"sequentialminus\":[[0.0,\"#0d0887\"],[0.1111111111111111,\"#46039f\"],[0.2222222222222222,\"#7201a8\"],[0.3333333333333333,\"#9c179e\"],[0.4444444444444444,\"#bd3786\"],[0.5555555555555556,\"#d8576b\"],[0.6666666666666666,\"#ed7953\"],[0.7777777777777778,\"#fb9f3a\"],[0.8888888888888888,\"#fdca26\"],[1.0,\"#f0f921\"]],\"diverging\":[[0,\"#8e0152\"],[0.1,\"#c51b7d\"],[0.2,\"#de77ae\"],[0.3,\"#f1b6da\"],[0.4,\"#fde0ef\"],[0.5,\"#f7f7f7\"],[0.6,\"#e6f5d0\"],[0.7,\"#b8e186\"],[0.8,\"#7fbc41\"],[0.9,\"#4d9221\"],[1,\"#276419\"]]},\"xaxis\":{\"gridcolor\":\"#283442\",\"linecolor\":\"#506784\",\"ticks\":\"\",\"title\":{\"standoff\":15},\"zerolinecolor\":\"#283442\",\"automargin\":true,\"zerolinewidth\":2},\"yaxis\":{\"gridcolor\":\"#283442\",\"linecolor\":\"#506784\",\"ticks\":\"\",\"title\":{\"standoff\":15},\"zerolinecolor\":\"#283442\",\"automargin\":true,\"zerolinewidth\":2},\"scene\":{\"xaxis\":{\"backgroundcolor\":\"rgb(17,17,17)\",\"gridcolor\":\"#506784\",\"linecolor\":\"#506784\",\"showbackground\":true,\"ticks\":\"\",\"zerolinecolor\":\"#C8D4E3\",\"gridwidth\":2},\"yaxis\":{\"backgroundcolor\":\"rgb(17,17,17)\",\"gridcolor\":\"#506784\",\"linecolor\":\"#506784\",\"showbackground\":true,\"ticks\":\"\",\"zerolinecolor\":\"#C8D4E3\",\"gridwidth\":2},\"zaxis\":{\"backgroundcolor\":\"rgb(17,17,17)\",\"gridcolor\":\"#506784\",\"linecolor\":\"#506784\",\"showbackground\":true,\"ticks\":\"\",\"zerolinecolor\":\"#C8D4E3\",\"gridwidth\":2}},\"shapedefaults\":{\"line\":{\"color\":\"#f2f5fa\"}},\"annotationdefaults\":{\"arrowcolor\":\"#f2f5fa\",\"arrowhead\":0,\"arrowwidth\":1},\"geo\":{\"bgcolor\":\"rgb(17,17,17)\",\"landcolor\":\"rgb(17,17,17)\",\"subunitcolor\":\"#506784\",\"showland\":true,\"showlakes\":true,\"lakecolor\":\"rgb(17,17,17)\"},\"title\":{\"x\":0.05},\"updatemenudefaults\":{\"bgcolor\":\"#506784\",\"borderwidth\":0},\"sliderdefaults\":{\"bgcolor\":\"#C8D4E3\",\"borderwidth\":1,\"bordercolor\":\"rgb(17,17,17)\",\"tickwidth\":0},\"mapbox\":{\"style\":\"dark\"}}},\"xaxis\":{\"anchor\":\"y\",\"domain\":[0.0,1.0],\"title\":{\"text\":\"Name\"}},\"yaxis\":{\"anchor\":\"x\",\"domain\":[0.0,1.0],\"title\":{\"text\":\"Prof Quality Rating\"}},\"legend\":{\"title\":{\"text\":\"Department\"},\"tracegroupgap\":0,\"itemsizing\":\"constant\"},\"margin\":{\"t\":60}},                        {\"responsive\": true}                    ).then(function(){\n                            \nvar gd = document.getElementById('4c3057b1-e16d-4465-b5f9-73c488dc2b0e');\nvar x = new MutationObserver(function (mutations, observer) {{\n        var display = window.getComputedStyle(gd).display;\n        if (!display || display === 'none') {{\n            console.log([gd, 'removed!']);\n            Plotly.purge(gd);\n            observer.disconnect();\n        }}\n}});\n\n// Listen for the removal of the full notebook cells\nvar notebookContainer = gd.closest('#notebook-container');\nif (notebookContainer) {{\n    x.observe(notebookContainer, {childList: true});\n}}\n\n// Listen for the clearing of the current output cell\nvar outputEl = gd.closest('.output');\nif (outputEl) {{\n    x.observe(outputEl, {childList: true});\n}}\n\n                        })                };                });            </script>        </div>"
     },
     "metadata": {},
     "output_type": "display_data"
    }
   ],
   "source": [
    "filtered_prof_df = professors_df[professors_df['Total Ratings'] > 100]\n",
    "fig = px.scatter(filtered_prof_df, x='Name', y='Prof Quality Rating', color='Department', size='Total Ratings')\n",
    "fig.show()"
   ],
   "metadata": {
    "collapsed": false,
    "ExecuteTime": {
     "end_time": "2024-03-19T22:14:52.502295400Z",
     "start_time": "2024-03-19T22:14:52.244483200Z"
    }
   },
   "id": "3355e0ad4a0fc50"
  },
  {
   "cell_type": "code",
   "execution_count": 94,
   "outputs": [
    {
     "data": {
      "application/vnd.plotly.v1+json": {
       "data": [
        {
         "dimensions": [
          {
           "label": "Department",
           "values": [
            "Mathematics",
            "Mathematics",
            "Mathematics",
            "Mathematics",
            "Mathematics",
            "Mathematics",
            "Mathematics",
            "Mathematics",
            "Chemistry",
            "Chemistry",
            "Chemistry",
            "Chemistry",
            "Chemistry",
            "Chemistry",
            "Chemistry",
            "Chemistry",
            "Chemistry",
            "Chemistry",
            "Chemistry",
            "Chemistry",
            "Chemistry",
            "Psychology",
            "Psychology",
            "Psychology",
            "Psychology",
            "Psychology",
            "Psychology",
            "Psychology",
            "Psychology",
            "English",
            "English",
            "English",
            "English",
            "English",
            "English",
            "English",
            "English",
            "English",
            "Economics",
            "Economics",
            "Economics",
            "Economics",
            "Economics",
            "Economics",
            "Economics",
            "Economics",
            "Economics",
            "Economics"
           ]
          },
          {
           "label": "Quarter",
           "values": [
            null,
            null,
            null,
            "202403",
            "202403",
            "202401",
            "202401",
            "202401",
            null,
            "202401",
            "202410",
            "202401",
            "202403",
            "202403",
            "202410",
            "202403",
            "202401",
            "202401",
            "202403",
            "202410",
            "202403",
            null,
            "202401",
            "202410",
            "202403",
            "202401",
            "202401",
            null,
            "202410",
            null,
            null,
            "202401",
            "202401",
            "202401",
            "202401",
            "202403",
            "202410",
            null,
            "202401",
            "202403",
            "202410",
            null,
            null,
            "202401",
            "202401",
            "202410",
            "202410",
            null
           ]
          },
          {
           "label": "Course Code",
           "values": [
            null,
            null,
            null,
            "MAT 012",
            "MAT 016A",
            "MAT 016B",
            "MAT 111",
            "MAT 235B",
            null,
            "CHE 008B",
            "CHE 118A",
            "CHE 129B",
            "CHE 129B",
            "CHE 008A",
            "CHE 002A",
            "CHE 002C",
            "CHE 390",
            "CHE 118A",
            "CHE 128C",
            "CHE 128C",
            "CHE 135",
            null,
            "PSC 041",
            "PSC 041",
            "PSC 141",
            "PSC 130",
            "PSC 133",
            null,
            "PSC 001Y",
            null,
            null,
            "ENL 168",
            "ENL 177",
            "ENL 010C",
            "ENL 155C",
            "ENL 137",
            "ENL 125",
            null,
            "ECN 001A",
            "ECN 001A",
            "ECN 001A",
            null,
            null,
            "ECN 001AY",
            "ECN 115BY",
            "ECN 115BY",
            "ECN 111A",
            null
           ]
          }
         ],
         "domain": {
          "x": [
           0.0,
           1.0
          ],
          "y": [
           0.0,
           1.0
          ]
         },
         "line": {
          "color": [
           3.3,
           4.6,
           4.1,
           4.7,
           4.7,
           4.7,
           4.7,
           3.7,
           3.3,
           2.7,
           2.7,
           2.7,
           2.7,
           2.7,
           4.6,
           4.6,
           3.8,
           3.9,
           3.9,
           3.9,
           3.9,
           4.6,
           4.0,
           4.0,
           4.0,
           4.7,
           4.7,
           4.6,
           4.3,
           4.4,
           3.1,
           4.0,
           4.0,
           3.9,
           3.9,
           3.9,
           3.9,
           4.1,
           3.0,
           3.0,
           3.0,
           3.1,
           3.8,
           4.4,
           4.4,
           4.4,
           4.4,
           3.9
          ],
          "coloraxis": "coloraxis"
         },
         "name": "",
         "type": "parcats"
        }
       ],
       "layout": {
        "template": {
         "data": {
          "histogram2dcontour": [
           {
            "type": "histogram2dcontour",
            "colorbar": {
             "outlinewidth": 0,
             "ticks": ""
            },
            "colorscale": [
             [
              0.0,
              "#0d0887"
             ],
             [
              0.1111111111111111,
              "#46039f"
             ],
             [
              0.2222222222222222,
              "#7201a8"
             ],
             [
              0.3333333333333333,
              "#9c179e"
             ],
             [
              0.4444444444444444,
              "#bd3786"
             ],
             [
              0.5555555555555556,
              "#d8576b"
             ],
             [
              0.6666666666666666,
              "#ed7953"
             ],
             [
              0.7777777777777778,
              "#fb9f3a"
             ],
             [
              0.8888888888888888,
              "#fdca26"
             ],
             [
              1.0,
              "#f0f921"
             ]
            ]
           }
          ],
          "choropleth": [
           {
            "type": "choropleth",
            "colorbar": {
             "outlinewidth": 0,
             "ticks": ""
            }
           }
          ],
          "histogram2d": [
           {
            "type": "histogram2d",
            "colorbar": {
             "outlinewidth": 0,
             "ticks": ""
            },
            "colorscale": [
             [
              0.0,
              "#0d0887"
             ],
             [
              0.1111111111111111,
              "#46039f"
             ],
             [
              0.2222222222222222,
              "#7201a8"
             ],
             [
              0.3333333333333333,
              "#9c179e"
             ],
             [
              0.4444444444444444,
              "#bd3786"
             ],
             [
              0.5555555555555556,
              "#d8576b"
             ],
             [
              0.6666666666666666,
              "#ed7953"
             ],
             [
              0.7777777777777778,
              "#fb9f3a"
             ],
             [
              0.8888888888888888,
              "#fdca26"
             ],
             [
              1.0,
              "#f0f921"
             ]
            ]
           }
          ],
          "heatmap": [
           {
            "type": "heatmap",
            "colorbar": {
             "outlinewidth": 0,
             "ticks": ""
            },
            "colorscale": [
             [
              0.0,
              "#0d0887"
             ],
             [
              0.1111111111111111,
              "#46039f"
             ],
             [
              0.2222222222222222,
              "#7201a8"
             ],
             [
              0.3333333333333333,
              "#9c179e"
             ],
             [
              0.4444444444444444,
              "#bd3786"
             ],
             [
              0.5555555555555556,
              "#d8576b"
             ],
             [
              0.6666666666666666,
              "#ed7953"
             ],
             [
              0.7777777777777778,
              "#fb9f3a"
             ],
             [
              0.8888888888888888,
              "#fdca26"
             ],
             [
              1.0,
              "#f0f921"
             ]
            ]
           }
          ],
          "heatmapgl": [
           {
            "type": "heatmapgl",
            "colorbar": {
             "outlinewidth": 0,
             "ticks": ""
            },
            "colorscale": [
             [
              0.0,
              "#0d0887"
             ],
             [
              0.1111111111111111,
              "#46039f"
             ],
             [
              0.2222222222222222,
              "#7201a8"
             ],
             [
              0.3333333333333333,
              "#9c179e"
             ],
             [
              0.4444444444444444,
              "#bd3786"
             ],
             [
              0.5555555555555556,
              "#d8576b"
             ],
             [
              0.6666666666666666,
              "#ed7953"
             ],
             [
              0.7777777777777778,
              "#fb9f3a"
             ],
             [
              0.8888888888888888,
              "#fdca26"
             ],
             [
              1.0,
              "#f0f921"
             ]
            ]
           }
          ],
          "contourcarpet": [
           {
            "type": "contourcarpet",
            "colorbar": {
             "outlinewidth": 0,
             "ticks": ""
            }
           }
          ],
          "contour": [
           {
            "type": "contour",
            "colorbar": {
             "outlinewidth": 0,
             "ticks": ""
            },
            "colorscale": [
             [
              0.0,
              "#0d0887"
             ],
             [
              0.1111111111111111,
              "#46039f"
             ],
             [
              0.2222222222222222,
              "#7201a8"
             ],
             [
              0.3333333333333333,
              "#9c179e"
             ],
             [
              0.4444444444444444,
              "#bd3786"
             ],
             [
              0.5555555555555556,
              "#d8576b"
             ],
             [
              0.6666666666666666,
              "#ed7953"
             ],
             [
              0.7777777777777778,
              "#fb9f3a"
             ],
             [
              0.8888888888888888,
              "#fdca26"
             ],
             [
              1.0,
              "#f0f921"
             ]
            ]
           }
          ],
          "surface": [
           {
            "type": "surface",
            "colorbar": {
             "outlinewidth": 0,
             "ticks": ""
            },
            "colorscale": [
             [
              0.0,
              "#0d0887"
             ],
             [
              0.1111111111111111,
              "#46039f"
             ],
             [
              0.2222222222222222,
              "#7201a8"
             ],
             [
              0.3333333333333333,
              "#9c179e"
             ],
             [
              0.4444444444444444,
              "#bd3786"
             ],
             [
              0.5555555555555556,
              "#d8576b"
             ],
             [
              0.6666666666666666,
              "#ed7953"
             ],
             [
              0.7777777777777778,
              "#fb9f3a"
             ],
             [
              0.8888888888888888,
              "#fdca26"
             ],
             [
              1.0,
              "#f0f921"
             ]
            ]
           }
          ],
          "mesh3d": [
           {
            "type": "mesh3d",
            "colorbar": {
             "outlinewidth": 0,
             "ticks": ""
            }
           }
          ],
          "scatter": [
           {
            "marker": {
             "line": {
              "color": "#283442"
             }
            },
            "type": "scatter"
           }
          ],
          "parcoords": [
           {
            "type": "parcoords",
            "line": {
             "colorbar": {
              "outlinewidth": 0,
              "ticks": ""
             }
            }
           }
          ],
          "scatterpolargl": [
           {
            "type": "scatterpolargl",
            "marker": {
             "colorbar": {
              "outlinewidth": 0,
              "ticks": ""
             }
            }
           }
          ],
          "bar": [
           {
            "error_x": {
             "color": "#f2f5fa"
            },
            "error_y": {
             "color": "#f2f5fa"
            },
            "marker": {
             "line": {
              "color": "rgb(17,17,17)",
              "width": 0.5
             },
             "pattern": {
              "fillmode": "overlay",
              "size": 10,
              "solidity": 0.2
             }
            },
            "type": "bar"
           }
          ],
          "scattergeo": [
           {
            "type": "scattergeo",
            "marker": {
             "colorbar": {
              "outlinewidth": 0,
              "ticks": ""
             }
            }
           }
          ],
          "scatterpolar": [
           {
            "type": "scatterpolar",
            "marker": {
             "colorbar": {
              "outlinewidth": 0,
              "ticks": ""
             }
            }
           }
          ],
          "histogram": [
           {
            "marker": {
             "pattern": {
              "fillmode": "overlay",
              "size": 10,
              "solidity": 0.2
             }
            },
            "type": "histogram"
           }
          ],
          "scattergl": [
           {
            "marker": {
             "line": {
              "color": "#283442"
             }
            },
            "type": "scattergl"
           }
          ],
          "scatter3d": [
           {
            "type": "scatter3d",
            "line": {
             "colorbar": {
              "outlinewidth": 0,
              "ticks": ""
             }
            },
            "marker": {
             "colorbar": {
              "outlinewidth": 0,
              "ticks": ""
             }
            }
           }
          ],
          "scattermapbox": [
           {
            "type": "scattermapbox",
            "marker": {
             "colorbar": {
              "outlinewidth": 0,
              "ticks": ""
             }
            }
           }
          ],
          "scatterternary": [
           {
            "type": "scatterternary",
            "marker": {
             "colorbar": {
              "outlinewidth": 0,
              "ticks": ""
             }
            }
           }
          ],
          "scattercarpet": [
           {
            "type": "scattercarpet",
            "marker": {
             "colorbar": {
              "outlinewidth": 0,
              "ticks": ""
             }
            }
           }
          ],
          "carpet": [
           {
            "aaxis": {
             "endlinecolor": "#A2B1C6",
             "gridcolor": "#506784",
             "linecolor": "#506784",
             "minorgridcolor": "#506784",
             "startlinecolor": "#A2B1C6"
            },
            "baxis": {
             "endlinecolor": "#A2B1C6",
             "gridcolor": "#506784",
             "linecolor": "#506784",
             "minorgridcolor": "#506784",
             "startlinecolor": "#A2B1C6"
            },
            "type": "carpet"
           }
          ],
          "table": [
           {
            "cells": {
             "fill": {
              "color": "#506784"
             },
             "line": {
              "color": "rgb(17,17,17)"
             }
            },
            "header": {
             "fill": {
              "color": "#2a3f5f"
             },
             "line": {
              "color": "rgb(17,17,17)"
             }
            },
            "type": "table"
           }
          ],
          "barpolar": [
           {
            "marker": {
             "line": {
              "color": "rgb(17,17,17)",
              "width": 0.5
             },
             "pattern": {
              "fillmode": "overlay",
              "size": 10,
              "solidity": 0.2
             }
            },
            "type": "barpolar"
           }
          ],
          "pie": [
           {
            "automargin": true,
            "type": "pie"
           }
          ]
         },
         "layout": {
          "autotypenumbers": "strict",
          "colorway": [
           "#636efa",
           "#EF553B",
           "#00cc96",
           "#ab63fa",
           "#FFA15A",
           "#19d3f3",
           "#FF6692",
           "#B6E880",
           "#FF97FF",
           "#FECB52"
          ],
          "font": {
           "color": "#f2f5fa"
          },
          "hovermode": "closest",
          "hoverlabel": {
           "align": "left"
          },
          "paper_bgcolor": "rgb(17,17,17)",
          "plot_bgcolor": "rgb(17,17,17)",
          "polar": {
           "bgcolor": "rgb(17,17,17)",
           "angularaxis": {
            "gridcolor": "#506784",
            "linecolor": "#506784",
            "ticks": ""
           },
           "radialaxis": {
            "gridcolor": "#506784",
            "linecolor": "#506784",
            "ticks": ""
           }
          },
          "ternary": {
           "bgcolor": "rgb(17,17,17)",
           "aaxis": {
            "gridcolor": "#506784",
            "linecolor": "#506784",
            "ticks": ""
           },
           "baxis": {
            "gridcolor": "#506784",
            "linecolor": "#506784",
            "ticks": ""
           },
           "caxis": {
            "gridcolor": "#506784",
            "linecolor": "#506784",
            "ticks": ""
           }
          },
          "coloraxis": {
           "colorbar": {
            "outlinewidth": 0,
            "ticks": ""
           }
          },
          "colorscale": {
           "sequential": [
            [
             0.0,
             "#0d0887"
            ],
            [
             0.1111111111111111,
             "#46039f"
            ],
            [
             0.2222222222222222,
             "#7201a8"
            ],
            [
             0.3333333333333333,
             "#9c179e"
            ],
            [
             0.4444444444444444,
             "#bd3786"
            ],
            [
             0.5555555555555556,
             "#d8576b"
            ],
            [
             0.6666666666666666,
             "#ed7953"
            ],
            [
             0.7777777777777778,
             "#fb9f3a"
            ],
            [
             0.8888888888888888,
             "#fdca26"
            ],
            [
             1.0,
             "#f0f921"
            ]
           ],
           "sequentialminus": [
            [
             0.0,
             "#0d0887"
            ],
            [
             0.1111111111111111,
             "#46039f"
            ],
            [
             0.2222222222222222,
             "#7201a8"
            ],
            [
             0.3333333333333333,
             "#9c179e"
            ],
            [
             0.4444444444444444,
             "#bd3786"
            ],
            [
             0.5555555555555556,
             "#d8576b"
            ],
            [
             0.6666666666666666,
             "#ed7953"
            ],
            [
             0.7777777777777778,
             "#fb9f3a"
            ],
            [
             0.8888888888888888,
             "#fdca26"
            ],
            [
             1.0,
             "#f0f921"
            ]
           ],
           "diverging": [
            [
             0,
             "#8e0152"
            ],
            [
             0.1,
             "#c51b7d"
            ],
            [
             0.2,
             "#de77ae"
            ],
            [
             0.3,
             "#f1b6da"
            ],
            [
             0.4,
             "#fde0ef"
            ],
            [
             0.5,
             "#f7f7f7"
            ],
            [
             0.6,
             "#e6f5d0"
            ],
            [
             0.7,
             "#b8e186"
            ],
            [
             0.8,
             "#7fbc41"
            ],
            [
             0.9,
             "#4d9221"
            ],
            [
             1,
             "#276419"
            ]
           ]
          },
          "xaxis": {
           "gridcolor": "#283442",
           "linecolor": "#506784",
           "ticks": "",
           "title": {
            "standoff": 15
           },
           "zerolinecolor": "#283442",
           "automargin": true,
           "zerolinewidth": 2
          },
          "yaxis": {
           "gridcolor": "#283442",
           "linecolor": "#506784",
           "ticks": "",
           "title": {
            "standoff": 15
           },
           "zerolinecolor": "#283442",
           "automargin": true,
           "zerolinewidth": 2
          },
          "scene": {
           "xaxis": {
            "backgroundcolor": "rgb(17,17,17)",
            "gridcolor": "#506784",
            "linecolor": "#506784",
            "showbackground": true,
            "ticks": "",
            "zerolinecolor": "#C8D4E3",
            "gridwidth": 2
           },
           "yaxis": {
            "backgroundcolor": "rgb(17,17,17)",
            "gridcolor": "#506784",
            "linecolor": "#506784",
            "showbackground": true,
            "ticks": "",
            "zerolinecolor": "#C8D4E3",
            "gridwidth": 2
           },
           "zaxis": {
            "backgroundcolor": "rgb(17,17,17)",
            "gridcolor": "#506784",
            "linecolor": "#506784",
            "showbackground": true,
            "ticks": "",
            "zerolinecolor": "#C8D4E3",
            "gridwidth": 2
           }
          },
          "shapedefaults": {
           "line": {
            "color": "#f2f5fa"
           }
          },
          "annotationdefaults": {
           "arrowcolor": "#f2f5fa",
           "arrowhead": 0,
           "arrowwidth": 1
          },
          "geo": {
           "bgcolor": "rgb(17,17,17)",
           "landcolor": "rgb(17,17,17)",
           "subunitcolor": "#506784",
           "showland": true,
           "showlakes": true,
           "lakecolor": "rgb(17,17,17)"
          },
          "title": {
           "x": 0.05
          },
          "updatemenudefaults": {
           "bgcolor": "#506784",
           "borderwidth": 0
          },
          "sliderdefaults": {
           "bgcolor": "#C8D4E3",
           "borderwidth": 1,
           "bordercolor": "rgb(17,17,17)",
           "tickwidth": 0
          },
          "mapbox": {
           "style": "dark"
          }
         }
        },
        "coloraxis": {
         "colorbar": {
          "title": {
           "text": "Rating"
          }
         },
         "colorscale": [
          [
           0.0,
           "#0d0887"
          ],
          [
           0.1111111111111111,
           "#46039f"
          ],
          [
           0.2222222222222222,
           "#7201a8"
          ],
          [
           0.3333333333333333,
           "#9c179e"
          ],
          [
           0.4444444444444444,
           "#bd3786"
          ],
          [
           0.5555555555555556,
           "#d8576b"
          ],
          [
           0.6666666666666666,
           "#ed7953"
          ],
          [
           0.7777777777777778,
           "#fb9f3a"
          ],
          [
           0.8888888888888888,
           "#fdca26"
          ],
          [
           1.0,
           "#f0f921"
          ]
         ]
        },
        "legend": {
         "tracegroupgap": 0
        },
        "margin": {
         "t": 60
        }
       },
       "config": {
        "plotlyServerURL": "https://plot.ly"
       }
      },
      "text/html": "<div>                            <div id=\"50be6ca9-2dbb-4aca-99ca-ed63e243e379\" class=\"plotly-graph-div\" style=\"height:525px; width:100%;\"></div>            <script type=\"text/javascript\">                require([\"plotly\"], function(Plotly) {                    window.PLOTLYENV=window.PLOTLYENV || {};                                    if (document.getElementById(\"50be6ca9-2dbb-4aca-99ca-ed63e243e379\")) {                    Plotly.newPlot(                        \"50be6ca9-2dbb-4aca-99ca-ed63e243e379\",                        [{\"dimensions\":[{\"label\":\"Department\",\"values\":[\"Mathematics\",\"Mathematics\",\"Mathematics\",\"Mathematics\",\"Mathematics\",\"Mathematics\",\"Mathematics\",\"Mathematics\",\"Chemistry\",\"Chemistry\",\"Chemistry\",\"Chemistry\",\"Chemistry\",\"Chemistry\",\"Chemistry\",\"Chemistry\",\"Chemistry\",\"Chemistry\",\"Chemistry\",\"Chemistry\",\"Chemistry\",\"Psychology\",\"Psychology\",\"Psychology\",\"Psychology\",\"Psychology\",\"Psychology\",\"Psychology\",\"Psychology\",\"English\",\"English\",\"English\",\"English\",\"English\",\"English\",\"English\",\"English\",\"English\",\"Economics\",\"Economics\",\"Economics\",\"Economics\",\"Economics\",\"Economics\",\"Economics\",\"Economics\",\"Economics\",\"Economics\"]},{\"label\":\"Quarter\",\"values\":[null,null,null,\"202403\",\"202403\",\"202401\",\"202401\",\"202401\",null,\"202401\",\"202410\",\"202401\",\"202403\",\"202403\",\"202410\",\"202403\",\"202401\",\"202401\",\"202403\",\"202410\",\"202403\",null,\"202401\",\"202410\",\"202403\",\"202401\",\"202401\",null,\"202410\",null,null,\"202401\",\"202401\",\"202401\",\"202401\",\"202403\",\"202410\",null,\"202401\",\"202403\",\"202410\",null,null,\"202401\",\"202401\",\"202410\",\"202410\",null]},{\"label\":\"Course Code\",\"values\":[null,null,null,\"MAT 012\",\"MAT 016A\",\"MAT 016B\",\"MAT 111\",\"MAT 235B\",null,\"CHE 008B\",\"CHE 118A\",\"CHE 129B\",\"CHE 129B\",\"CHE 008A\",\"CHE 002A\",\"CHE 002C\",\"CHE 390\",\"CHE 118A\",\"CHE 128C\",\"CHE 128C\",\"CHE 135\",null,\"PSC 041\",\"PSC 041\",\"PSC 141\",\"PSC 130\",\"PSC 133\",null,\"PSC 001Y\",null,null,\"ENL 168\",\"ENL 177\",\"ENL 010C\",\"ENL 155C\",\"ENL 137\",\"ENL 125\",null,\"ECN 001A\",\"ECN 001A\",\"ECN 001A\",null,null,\"ECN 001AY\",\"ECN 115BY\",\"ECN 115BY\",\"ECN 111A\",null]}],\"domain\":{\"x\":[0.0,1.0],\"y\":[0.0,1.0]},\"line\":{\"color\":[3.3,4.6,4.1,4.7,4.7,4.7,4.7,3.7,3.3,2.7,2.7,2.7,2.7,2.7,4.6,4.6,3.8,3.9,3.9,3.9,3.9,4.6,4.0,4.0,4.0,4.7,4.7,4.6,4.3,4.4,3.1,4.0,4.0,3.9,3.9,3.9,3.9,4.1,3.0,3.0,3.0,3.1,3.8,4.4,4.4,4.4,4.4,3.9],\"coloraxis\":\"coloraxis\"},\"name\":\"\",\"type\":\"parcats\"}],                        {\"template\":{\"data\":{\"histogram2dcontour\":[{\"type\":\"histogram2dcontour\",\"colorbar\":{\"outlinewidth\":0,\"ticks\":\"\"},\"colorscale\":[[0.0,\"#0d0887\"],[0.1111111111111111,\"#46039f\"],[0.2222222222222222,\"#7201a8\"],[0.3333333333333333,\"#9c179e\"],[0.4444444444444444,\"#bd3786\"],[0.5555555555555556,\"#d8576b\"],[0.6666666666666666,\"#ed7953\"],[0.7777777777777778,\"#fb9f3a\"],[0.8888888888888888,\"#fdca26\"],[1.0,\"#f0f921\"]]}],\"choropleth\":[{\"type\":\"choropleth\",\"colorbar\":{\"outlinewidth\":0,\"ticks\":\"\"}}],\"histogram2d\":[{\"type\":\"histogram2d\",\"colorbar\":{\"outlinewidth\":0,\"ticks\":\"\"},\"colorscale\":[[0.0,\"#0d0887\"],[0.1111111111111111,\"#46039f\"],[0.2222222222222222,\"#7201a8\"],[0.3333333333333333,\"#9c179e\"],[0.4444444444444444,\"#bd3786\"],[0.5555555555555556,\"#d8576b\"],[0.6666666666666666,\"#ed7953\"],[0.7777777777777778,\"#fb9f3a\"],[0.8888888888888888,\"#fdca26\"],[1.0,\"#f0f921\"]]}],\"heatmap\":[{\"type\":\"heatmap\",\"colorbar\":{\"outlinewidth\":0,\"ticks\":\"\"},\"colorscale\":[[0.0,\"#0d0887\"],[0.1111111111111111,\"#46039f\"],[0.2222222222222222,\"#7201a8\"],[0.3333333333333333,\"#9c179e\"],[0.4444444444444444,\"#bd3786\"],[0.5555555555555556,\"#d8576b\"],[0.6666666666666666,\"#ed7953\"],[0.7777777777777778,\"#fb9f3a\"],[0.8888888888888888,\"#fdca26\"],[1.0,\"#f0f921\"]]}],\"heatmapgl\":[{\"type\":\"heatmapgl\",\"colorbar\":{\"outlinewidth\":0,\"ticks\":\"\"},\"colorscale\":[[0.0,\"#0d0887\"],[0.1111111111111111,\"#46039f\"],[0.2222222222222222,\"#7201a8\"],[0.3333333333333333,\"#9c179e\"],[0.4444444444444444,\"#bd3786\"],[0.5555555555555556,\"#d8576b\"],[0.6666666666666666,\"#ed7953\"],[0.7777777777777778,\"#fb9f3a\"],[0.8888888888888888,\"#fdca26\"],[1.0,\"#f0f921\"]]}],\"contourcarpet\":[{\"type\":\"contourcarpet\",\"colorbar\":{\"outlinewidth\":0,\"ticks\":\"\"}}],\"contour\":[{\"type\":\"contour\",\"colorbar\":{\"outlinewidth\":0,\"ticks\":\"\"},\"colorscale\":[[0.0,\"#0d0887\"],[0.1111111111111111,\"#46039f\"],[0.2222222222222222,\"#7201a8\"],[0.3333333333333333,\"#9c179e\"],[0.4444444444444444,\"#bd3786\"],[0.5555555555555556,\"#d8576b\"],[0.6666666666666666,\"#ed7953\"],[0.7777777777777778,\"#fb9f3a\"],[0.8888888888888888,\"#fdca26\"],[1.0,\"#f0f921\"]]}],\"surface\":[{\"type\":\"surface\",\"colorbar\":{\"outlinewidth\":0,\"ticks\":\"\"},\"colorscale\":[[0.0,\"#0d0887\"],[0.1111111111111111,\"#46039f\"],[0.2222222222222222,\"#7201a8\"],[0.3333333333333333,\"#9c179e\"],[0.4444444444444444,\"#bd3786\"],[0.5555555555555556,\"#d8576b\"],[0.6666666666666666,\"#ed7953\"],[0.7777777777777778,\"#fb9f3a\"],[0.8888888888888888,\"#fdca26\"],[1.0,\"#f0f921\"]]}],\"mesh3d\":[{\"type\":\"mesh3d\",\"colorbar\":{\"outlinewidth\":0,\"ticks\":\"\"}}],\"scatter\":[{\"marker\":{\"line\":{\"color\":\"#283442\"}},\"type\":\"scatter\"}],\"parcoords\":[{\"type\":\"parcoords\",\"line\":{\"colorbar\":{\"outlinewidth\":0,\"ticks\":\"\"}}}],\"scatterpolargl\":[{\"type\":\"scatterpolargl\",\"marker\":{\"colorbar\":{\"outlinewidth\":0,\"ticks\":\"\"}}}],\"bar\":[{\"error_x\":{\"color\":\"#f2f5fa\"},\"error_y\":{\"color\":\"#f2f5fa\"},\"marker\":{\"line\":{\"color\":\"rgb(17,17,17)\",\"width\":0.5},\"pattern\":{\"fillmode\":\"overlay\",\"size\":10,\"solidity\":0.2}},\"type\":\"bar\"}],\"scattergeo\":[{\"type\":\"scattergeo\",\"marker\":{\"colorbar\":{\"outlinewidth\":0,\"ticks\":\"\"}}}],\"scatterpolar\":[{\"type\":\"scatterpolar\",\"marker\":{\"colorbar\":{\"outlinewidth\":0,\"ticks\":\"\"}}}],\"histogram\":[{\"marker\":{\"pattern\":{\"fillmode\":\"overlay\",\"size\":10,\"solidity\":0.2}},\"type\":\"histogram\"}],\"scattergl\":[{\"marker\":{\"line\":{\"color\":\"#283442\"}},\"type\":\"scattergl\"}],\"scatter3d\":[{\"type\":\"scatter3d\",\"line\":{\"colorbar\":{\"outlinewidth\":0,\"ticks\":\"\"}},\"marker\":{\"colorbar\":{\"outlinewidth\":0,\"ticks\":\"\"}}}],\"scattermapbox\":[{\"type\":\"scattermapbox\",\"marker\":{\"colorbar\":{\"outlinewidth\":0,\"ticks\":\"\"}}}],\"scatterternary\":[{\"type\":\"scatterternary\",\"marker\":{\"colorbar\":{\"outlinewidth\":0,\"ticks\":\"\"}}}],\"scattercarpet\":[{\"type\":\"scattercarpet\",\"marker\":{\"colorbar\":{\"outlinewidth\":0,\"ticks\":\"\"}}}],\"carpet\":[{\"aaxis\":{\"endlinecolor\":\"#A2B1C6\",\"gridcolor\":\"#506784\",\"linecolor\":\"#506784\",\"minorgridcolor\":\"#506784\",\"startlinecolor\":\"#A2B1C6\"},\"baxis\":{\"endlinecolor\":\"#A2B1C6\",\"gridcolor\":\"#506784\",\"linecolor\":\"#506784\",\"minorgridcolor\":\"#506784\",\"startlinecolor\":\"#A2B1C6\"},\"type\":\"carpet\"}],\"table\":[{\"cells\":{\"fill\":{\"color\":\"#506784\"},\"line\":{\"color\":\"rgb(17,17,17)\"}},\"header\":{\"fill\":{\"color\":\"#2a3f5f\"},\"line\":{\"color\":\"rgb(17,17,17)\"}},\"type\":\"table\"}],\"barpolar\":[{\"marker\":{\"line\":{\"color\":\"rgb(17,17,17)\",\"width\":0.5},\"pattern\":{\"fillmode\":\"overlay\",\"size\":10,\"solidity\":0.2}},\"type\":\"barpolar\"}],\"pie\":[{\"automargin\":true,\"type\":\"pie\"}]},\"layout\":{\"autotypenumbers\":\"strict\",\"colorway\":[\"#636efa\",\"#EF553B\",\"#00cc96\",\"#ab63fa\",\"#FFA15A\",\"#19d3f3\",\"#FF6692\",\"#B6E880\",\"#FF97FF\",\"#FECB52\"],\"font\":{\"color\":\"#f2f5fa\"},\"hovermode\":\"closest\",\"hoverlabel\":{\"align\":\"left\"},\"paper_bgcolor\":\"rgb(17,17,17)\",\"plot_bgcolor\":\"rgb(17,17,17)\",\"polar\":{\"bgcolor\":\"rgb(17,17,17)\",\"angularaxis\":{\"gridcolor\":\"#506784\",\"linecolor\":\"#506784\",\"ticks\":\"\"},\"radialaxis\":{\"gridcolor\":\"#506784\",\"linecolor\":\"#506784\",\"ticks\":\"\"}},\"ternary\":{\"bgcolor\":\"rgb(17,17,17)\",\"aaxis\":{\"gridcolor\":\"#506784\",\"linecolor\":\"#506784\",\"ticks\":\"\"},\"baxis\":{\"gridcolor\":\"#506784\",\"linecolor\":\"#506784\",\"ticks\":\"\"},\"caxis\":{\"gridcolor\":\"#506784\",\"linecolor\":\"#506784\",\"ticks\":\"\"}},\"coloraxis\":{\"colorbar\":{\"outlinewidth\":0,\"ticks\":\"\"}},\"colorscale\":{\"sequential\":[[0.0,\"#0d0887\"],[0.1111111111111111,\"#46039f\"],[0.2222222222222222,\"#7201a8\"],[0.3333333333333333,\"#9c179e\"],[0.4444444444444444,\"#bd3786\"],[0.5555555555555556,\"#d8576b\"],[0.6666666666666666,\"#ed7953\"],[0.7777777777777778,\"#fb9f3a\"],[0.8888888888888888,\"#fdca26\"],[1.0,\"#f0f921\"]],\"sequentialminus\":[[0.0,\"#0d0887\"],[0.1111111111111111,\"#46039f\"],[0.2222222222222222,\"#7201a8\"],[0.3333333333333333,\"#9c179e\"],[0.4444444444444444,\"#bd3786\"],[0.5555555555555556,\"#d8576b\"],[0.6666666666666666,\"#ed7953\"],[0.7777777777777778,\"#fb9f3a\"],[0.8888888888888888,\"#fdca26\"],[1.0,\"#f0f921\"]],\"diverging\":[[0,\"#8e0152\"],[0.1,\"#c51b7d\"],[0.2,\"#de77ae\"],[0.3,\"#f1b6da\"],[0.4,\"#fde0ef\"],[0.5,\"#f7f7f7\"],[0.6,\"#e6f5d0\"],[0.7,\"#b8e186\"],[0.8,\"#7fbc41\"],[0.9,\"#4d9221\"],[1,\"#276419\"]]},\"xaxis\":{\"gridcolor\":\"#283442\",\"linecolor\":\"#506784\",\"ticks\":\"\",\"title\":{\"standoff\":15},\"zerolinecolor\":\"#283442\",\"automargin\":true,\"zerolinewidth\":2},\"yaxis\":{\"gridcolor\":\"#283442\",\"linecolor\":\"#506784\",\"ticks\":\"\",\"title\":{\"standoff\":15},\"zerolinecolor\":\"#283442\",\"automargin\":true,\"zerolinewidth\":2},\"scene\":{\"xaxis\":{\"backgroundcolor\":\"rgb(17,17,17)\",\"gridcolor\":\"#506784\",\"linecolor\":\"#506784\",\"showbackground\":true,\"ticks\":\"\",\"zerolinecolor\":\"#C8D4E3\",\"gridwidth\":2},\"yaxis\":{\"backgroundcolor\":\"rgb(17,17,17)\",\"gridcolor\":\"#506784\",\"linecolor\":\"#506784\",\"showbackground\":true,\"ticks\":\"\",\"zerolinecolor\":\"#C8D4E3\",\"gridwidth\":2},\"zaxis\":{\"backgroundcolor\":\"rgb(17,17,17)\",\"gridcolor\":\"#506784\",\"linecolor\":\"#506784\",\"showbackground\":true,\"ticks\":\"\",\"zerolinecolor\":\"#C8D4E3\",\"gridwidth\":2}},\"shapedefaults\":{\"line\":{\"color\":\"#f2f5fa\"}},\"annotationdefaults\":{\"arrowcolor\":\"#f2f5fa\",\"arrowhead\":0,\"arrowwidth\":1},\"geo\":{\"bgcolor\":\"rgb(17,17,17)\",\"landcolor\":\"rgb(17,17,17)\",\"subunitcolor\":\"#506784\",\"showland\":true,\"showlakes\":true,\"lakecolor\":\"rgb(17,17,17)\"},\"title\":{\"x\":0.05},\"updatemenudefaults\":{\"bgcolor\":\"#506784\",\"borderwidth\":0},\"sliderdefaults\":{\"bgcolor\":\"#C8D4E3\",\"borderwidth\":1,\"bordercolor\":\"rgb(17,17,17)\",\"tickwidth\":0},\"mapbox\":{\"style\":\"dark\"}}},\"coloraxis\":{\"colorbar\":{\"title\":{\"text\":\"Rating\"}},\"colorscale\":[[0.0,\"#0d0887\"],[0.1111111111111111,\"#46039f\"],[0.2222222222222222,\"#7201a8\"],[0.3333333333333333,\"#9c179e\"],[0.4444444444444444,\"#bd3786\"],[0.5555555555555556,\"#d8576b\"],[0.6666666666666666,\"#ed7953\"],[0.7777777777777778,\"#fb9f3a\"],[0.8888888888888888,\"#fdca26\"],[1.0,\"#f0f921\"]]},\"legend\":{\"tracegroupgap\":0},\"margin\":{\"t\":60}},                        {\"responsive\": true}                    ).then(function(){\n                            \nvar gd = document.getElementById('50be6ca9-2dbb-4aca-99ca-ed63e243e379');\nvar x = new MutationObserver(function (mutations, observer) {{\n        var display = window.getComputedStyle(gd).display;\n        if (!display || display === 'none') {{\n            console.log([gd, 'removed!']);\n            Plotly.purge(gd);\n            observer.disconnect();\n        }}\n}});\n\n// Listen for the removal of the full notebook cells\nvar notebookContainer = gd.closest('#notebook-container');\nif (notebookContainer) {{\n    x.observe(notebookContainer, {childList: true});\n}}\n\n// Listen for the clearing of the current output cell\nvar outputEl = gd.closest('.output');\nif (outputEl) {{\n    x.observe(outputEl, {childList: true});\n}}\n\n                        })                };                });            </script>        </div>"
     },
     "metadata": {},
     "output_type": "display_data"
    }
   ],
   "source": [
    "prof_dict = {}\n",
    "deps_dict = {}\n",
    "\n",
    "for index, rows in professors_df.iterrows():\n",
    "    if rows['Department'] not in prof_dict:\n",
    "        prof_dict[rows['Department']] = []\n",
    "        deps_dict[rows['Department']] = 0\n",
    "    prof_dict[rows['Department']].append((int(rows['Total Ratings']), float(rows['Prof Quality Rating']), rows['Name']))\n",
    "    deps_dict[rows['Department']] += int(rows['Total Ratings'])\n",
    "\n",
    "top_prof_df = pd.DataFrame(columns=['Department', 'Professor', 'Rating'])\n",
    "\n",
    "deps_dict = dict(sorted(deps_dict.items(), key=lambda item: item[1], reverse=True))\n",
    "\n",
    "for dep in list(deps_dict.keys())[:5]:\n",
    "    profs = sorted(prof_dict[dep], reverse=True)[:5]\n",
    "    # if len(profs) > 5:\n",
    "    #     profs = profs[:5]\n",
    "    for _, rating, prof in profs:\n",
    "        top_prof_df.loc[len(top_prof_df)] = [dep, prof, rating]\n",
    "    \n",
    "# fig = px.histogram(top_prof_df, x='Professor', y='Rating', color='Department', text_auto=True)\n",
    "# fig.show()\n",
    "\n",
    "courses = pd.read_sql_query('SELECT ProfName, `Subject Name`, `Course Code`, Quarter from Courses', con=conn)\n",
    "courses['Quarter'] = courses['Quarter'].astype(str)\n",
    "prof_course_df = pd.merge(top_prof_df, courses, left_on=['Department', 'Professor'], right_on=['Subject Name', 'ProfName'], how='left')\n",
    "\n",
    "# fig = px.bar(prof_course_df, x='Course Code', y='Rating', color='Quarter', text_auto=True, barmode='group')\n",
    "fig = px.parallel_categories(prof_course_df, dimensions=['Department', 'Quarter', 'Course Code'], color='Rating')\n",
    "fig.show()"
   ],
   "metadata": {
    "collapsed": false,
    "ExecuteTime": {
     "end_time": "2024-03-19T22:42:19.356795600Z",
     "start_time": "2024-03-19T22:42:18.929330400Z"
    }
   },
   "id": "a9eb125883e74011"
  },
  {
   "cell_type": "code",
   "execution_count": 90,
   "outputs": [
    {
     "data": {
      "application/vnd.plotly.v1+json": {
       "data": [
        {
         "alignmentgroup": "True",
         "box": {
          "visible": false
         },
         "hovertemplate": "Department=Anthropology<br>Level of Difficulty=%{y}<extra></extra>",
         "legendgroup": "Anthropology",
         "marker": {
          "color": "#636efa"
         },
         "name": "Anthropology",
         "offsetgroup": "Anthropology",
         "orientation": "v",
         "scalegroup": "True",
         "showlegend": true,
         "x0": " ",
         "xaxis": "x",
         "y": [
          2.5,
          2.1,
          2.4
         ],
         "y0": " ",
         "yaxis": "y",
         "type": "violin"
        },
        {
         "alignmentgroup": "True",
         "box": {
          "visible": false
         },
         "hovertemplate": "Department=History<br>Level of Difficulty=%{y}<extra></extra>",
         "legendgroup": "History",
         "marker": {
          "color": "#EF553B"
         },
         "name": "History",
         "offsetgroup": "History",
         "orientation": "v",
         "scalegroup": "True",
         "showlegend": true,
         "x0": " ",
         "xaxis": "x",
         "y": [
          2.1,
          3.0
         ],
         "y0": " ",
         "yaxis": "y",
         "type": "violin"
        },
        {
         "alignmentgroup": "True",
         "box": {
          "visible": false
         },
         "hovertemplate": "Department=Nutrition<br>Level of Difficulty=%{y}<extra></extra>",
         "legendgroup": "Nutrition",
         "marker": {
          "color": "#00cc96"
         },
         "name": "Nutrition",
         "offsetgroup": "Nutrition",
         "orientation": "v",
         "scalegroup": "True",
         "showlegend": true,
         "x0": " ",
         "xaxis": "x",
         "y": [
          2.0,
          1.8
         ],
         "y0": " ",
         "yaxis": "y",
         "type": "violin"
        },
        {
         "alignmentgroup": "True",
         "box": {
          "visible": false
         },
         "hovertemplate": "Department=Chemistry<br>Level of Difficulty=%{y}<extra></extra>",
         "legendgroup": "Chemistry",
         "marker": {
          "color": "#ab63fa"
         },
         "name": "Chemistry",
         "offsetgroup": "Chemistry",
         "orientation": "v",
         "scalegroup": "True",
         "showlegend": true,
         "x0": " ",
         "xaxis": "x",
         "y": [
          3.0,
          3.3,
          3.2,
          3.1,
          3.1,
          3.7,
          3.4,
          3.3,
          3.6,
          3.6,
          3.7,
          3.6,
          4.2,
          3.6,
          3.0,
          3.9,
          3.3,
          3.1,
          3.6,
          4.0,
          4.5,
          3.4,
          4.2
         ],
         "y0": " ",
         "yaxis": "y",
         "type": "violin"
        },
        {
         "alignmentgroup": "True",
         "box": {
          "visible": false
         },
         "hovertemplate": "Department=Economics<br>Level of Difficulty=%{y}<extra></extra>",
         "legendgroup": "Economics",
         "marker": {
          "color": "#FFA15A"
         },
         "name": "Economics",
         "offsetgroup": "Economics",
         "orientation": "v",
         "scalegroup": "True",
         "showlegend": true,
         "x0": " ",
         "xaxis": "x",
         "y": [
          3.1,
          2.9,
          3.0,
          2.7,
          3.9,
          3.5,
          3.6,
          3.1,
          3.4,
          3.2,
          3.2
         ],
         "y0": " ",
         "yaxis": "y",
         "type": "violin"
        },
        {
         "alignmentgroup": "True",
         "box": {
          "visible": false
         },
         "hovertemplate": "Department=Animal Science<br>Level of Difficulty=%{y}<extra></extra>",
         "legendgroup": "Animal Science",
         "marker": {
          "color": "#19d3f3"
         },
         "name": "Animal Science",
         "offsetgroup": "Animal Science",
         "orientation": "v",
         "scalegroup": "True",
         "showlegend": true,
         "x0": " ",
         "xaxis": "x",
         "y": [
          2.2
         ],
         "y0": " ",
         "yaxis": "y",
         "type": "violin"
        },
        {
         "alignmentgroup": "True",
         "box": {
          "visible": false
         },
         "hovertemplate": "Department=Psychology<br>Level of Difficulty=%{y}<extra></extra>",
         "legendgroup": "Psychology",
         "marker": {
          "color": "#FF6692"
         },
         "name": "Psychology",
         "offsetgroup": "Psychology",
         "orientation": "v",
         "scalegroup": "True",
         "showlegend": true,
         "x0": " ",
         "xaxis": "x",
         "y": [
          2.4,
          2.4,
          2.8,
          1.8,
          2.8,
          2.1,
          2.5,
          2.9
         ],
         "y0": " ",
         "yaxis": "y",
         "type": "violin"
        },
        {
         "alignmentgroup": "True",
         "box": {
          "visible": false
         },
         "hovertemplate": "Department=Political Science<br>Level of Difficulty=%{y}<extra></extra>",
         "legendgroup": "Political Science",
         "marker": {
          "color": "#B6E880"
         },
         "name": "Political Science",
         "offsetgroup": "Political Science",
         "orientation": "v",
         "scalegroup": "True",
         "showlegend": true,
         "x0": " ",
         "xaxis": "x",
         "y": [
          3.0,
          3.1
         ],
         "y0": " ",
         "yaxis": "y",
         "type": "violin"
        },
        {
         "alignmentgroup": "True",
         "box": {
          "visible": false
         },
         "hovertemplate": "Department=Science<br>Level of Difficulty=%{y}<extra></extra>",
         "legendgroup": "Science",
         "marker": {
          "color": "#FF97FF"
         },
         "name": "Science",
         "offsetgroup": "Science",
         "orientation": "v",
         "scalegroup": "True",
         "showlegend": true,
         "x0": " ",
         "xaxis": "x",
         "y": [
          2.3,
          3.3,
          2.9,
          3.0,
          4.2,
          4.3
         ],
         "y0": " ",
         "yaxis": "y",
         "type": "violin"
        },
        {
         "alignmentgroup": "True",
         "box": {
          "visible": false
         },
         "hovertemplate": "Department=English<br>Level of Difficulty=%{y}<extra></extra>",
         "legendgroup": "English",
         "marker": {
          "color": "#FECB52"
         },
         "name": "English",
         "offsetgroup": "English",
         "orientation": "v",
         "scalegroup": "True",
         "showlegend": true,
         "x0": " ",
         "xaxis": "x",
         "y": [
          2.0
         ],
         "y0": " ",
         "yaxis": "y",
         "type": "violin"
        },
        {
         "alignmentgroup": "True",
         "box": {
          "visible": false
         },
         "hovertemplate": "Department=Mathematics<br>Level of Difficulty=%{y}<extra></extra>",
         "legendgroup": "Mathematics",
         "marker": {
          "color": "#636efa"
         },
         "name": "Mathematics",
         "offsetgroup": "Mathematics",
         "orientation": "v",
         "scalegroup": "True",
         "showlegend": true,
         "x0": " ",
         "xaxis": "x",
         "y": [
          3.1,
          3.6,
          3.5,
          3.0,
          1.9,
          2.8,
          2.9,
          2.6,
          3.3,
          4.0,
          3.1,
          3.2,
          3.8,
          3.3,
          4.3,
          3.7,
          4.0,
          3.7,
          3.9,
          3.7,
          4.1,
          3.8,
          4.4,
          3.1
         ],
         "y0": " ",
         "yaxis": "y",
         "type": "violin"
        },
        {
         "alignmentgroup": "True",
         "box": {
          "visible": false
         },
         "hovertemplate": "Department=Microbiology<br>Level of Difficulty=%{y}<extra></extra>",
         "legendgroup": "Microbiology",
         "marker": {
          "color": "#EF553B"
         },
         "name": "Microbiology",
         "offsetgroup": "Microbiology",
         "orientation": "v",
         "scalegroup": "True",
         "showlegend": true,
         "x0": " ",
         "xaxis": "x",
         "y": [
          4.4
         ],
         "y0": " ",
         "yaxis": "y",
         "type": "violin"
        },
        {
         "alignmentgroup": "True",
         "box": {
          "visible": false
         },
         "hovertemplate": "Department=Entomology<br>Level of Difficulty=%{y}<extra></extra>",
         "legendgroup": "Entomology",
         "marker": {
          "color": "#00cc96"
         },
         "name": "Entomology",
         "offsetgroup": "Entomology",
         "orientation": "v",
         "scalegroup": "True",
         "showlegend": true,
         "x0": " ",
         "xaxis": "x",
         "y": [
          3.3
         ],
         "y0": " ",
         "yaxis": "y",
         "type": "violin"
        },
        {
         "alignmentgroup": "True",
         "box": {
          "visible": false
         },
         "hovertemplate": "Department=Biology<br>Level of Difficulty=%{y}<extra></extra>",
         "legendgroup": "Biology",
         "marker": {
          "color": "#ab63fa"
         },
         "name": "Biology",
         "offsetgroup": "Biology",
         "orientation": "v",
         "scalegroup": "True",
         "showlegend": true,
         "x0": " ",
         "xaxis": "x",
         "y": [
          3.8,
          3.2,
          4.0,
          3.2
         ],
         "y0": " ",
         "yaxis": "y",
         "type": "violin"
        },
        {
         "alignmentgroup": "True",
         "box": {
          "visible": false
         },
         "hovertemplate": "Department=Statistics<br>Level of Difficulty=%{y}<extra></extra>",
         "legendgroup": "Statistics",
         "marker": {
          "color": "#FFA15A"
         },
         "name": "Statistics",
         "offsetgroup": "Statistics",
         "orientation": "v",
         "scalegroup": "True",
         "showlegend": true,
         "x0": " ",
         "xaxis": "x",
         "y": [
          2.8,
          3.1,
          3.8,
          3.3,
          3.5
         ],
         "y0": " ",
         "yaxis": "y",
         "type": "violin"
        },
        {
         "alignmentgroup": "True",
         "box": {
          "visible": false
         },
         "hovertemplate": "Department=Food Science & Technology<br>Level of Difficulty=%{y}<extra></extra>",
         "legendgroup": "Food Science & Technology",
         "marker": {
          "color": "#19d3f3"
         },
         "name": "Food Science & Technology",
         "offsetgroup": "Food Science & Technology",
         "orientation": "v",
         "scalegroup": "True",
         "showlegend": true,
         "x0": " ",
         "xaxis": "x",
         "y": [
          2.3
         ],
         "y0": " ",
         "yaxis": "y",
         "type": "violin"
        },
        {
         "alignmentgroup": "True",
         "box": {
          "visible": false
         },
         "hovertemplate": "Department=Sociology<br>Level of Difficulty=%{y}<extra></extra>",
         "legendgroup": "Sociology",
         "marker": {
          "color": "#FF6692"
         },
         "name": "Sociology",
         "offsetgroup": "Sociology",
         "orientation": "v",
         "scalegroup": "True",
         "showlegend": true,
         "x0": " ",
         "xaxis": "x",
         "y": [
          3.2,
          3.6
         ],
         "y0": " ",
         "yaxis": "y",
         "type": "violin"
        },
        {
         "alignmentgroup": "True",
         "box": {
          "visible": false
         },
         "hovertemplate": "Department=Physical Ed<br>Level of Difficulty=%{y}<extra></extra>",
         "legendgroup": "Physical Ed",
         "marker": {
          "color": "#B6E880"
         },
         "name": "Physical Ed",
         "offsetgroup": "Physical Ed",
         "orientation": "v",
         "scalegroup": "True",
         "showlegend": true,
         "x0": " ",
         "xaxis": "x",
         "y": [
          3.6
         ],
         "y0": " ",
         "yaxis": "y",
         "type": "violin"
        },
        {
         "alignmentgroup": "True",
         "box": {
          "visible": false
         },
         "hovertemplate": "Department=Accounting<br>Level of Difficulty=%{y}<extra></extra>",
         "legendgroup": "Accounting",
         "marker": {
          "color": "#FF97FF"
         },
         "name": "Accounting",
         "offsetgroup": "Accounting",
         "orientation": "v",
         "scalegroup": "True",
         "showlegend": true,
         "x0": " ",
         "xaxis": "x",
         "y": [
          2.7
         ],
         "y0": " ",
         "yaxis": "y",
         "type": "violin"
        },
        {
         "alignmentgroup": "True",
         "box": {
          "visible": false
         },
         "hovertemplate": "Department=Biological Sciences<br>Level of Difficulty=%{y}<extra></extra>",
         "legendgroup": "Biological Sciences",
         "marker": {
          "color": "#FECB52"
         },
         "name": "Biological Sciences",
         "offsetgroup": "Biological Sciences",
         "orientation": "v",
         "scalegroup": "True",
         "showlegend": true,
         "x0": " ",
         "xaxis": "x",
         "y": [
          3.7,
          3.7,
          3.4,
          2.9,
          3.1,
          3.4
         ],
         "y0": " ",
         "yaxis": "y",
         "type": "violin"
        },
        {
         "alignmentgroup": "True",
         "box": {
          "visible": false
         },
         "hovertemplate": "Department=Human Development<br>Level of Difficulty=%{y}<extra></extra>",
         "legendgroup": "Human Development",
         "marker": {
          "color": "#636efa"
         },
         "name": "Human Development",
         "offsetgroup": "Human Development",
         "orientation": "v",
         "scalegroup": "True",
         "showlegend": true,
         "x0": " ",
         "xaxis": "x",
         "y": [
          2.5,
          2.6
         ],
         "y0": " ",
         "yaxis": "y",
         "type": "violin"
        },
        {
         "alignmentgroup": "True",
         "box": {
          "visible": false
         },
         "hovertemplate": "Department=Design<br>Level of Difficulty=%{y}<extra></extra>",
         "legendgroup": "Design",
         "marker": {
          "color": "#EF553B"
         },
         "name": "Design",
         "offsetgroup": "Design",
         "orientation": "v",
         "scalegroup": "True",
         "showlegend": true,
         "x0": " ",
         "xaxis": "x",
         "y": [
          2.8
         ],
         "y0": " ",
         "yaxis": "y",
         "type": "violin"
        },
        {
         "alignmentgroup": "True",
         "box": {
          "visible": false
         },
         "hovertemplate": "Department=Geology<br>Level of Difficulty=%{y}<extra></extra>",
         "legendgroup": "Geology",
         "marker": {
          "color": "#00cc96"
         },
         "name": "Geology",
         "offsetgroup": "Geology",
         "orientation": "v",
         "scalegroup": "True",
         "showlegend": true,
         "x0": " ",
         "xaxis": "x",
         "y": [
          2.8
         ],
         "y0": " ",
         "yaxis": "y",
         "type": "violin"
        },
        {
         "alignmentgroup": "True",
         "box": {
          "visible": false
         },
         "hovertemplate": "Department=Social Science<br>Level of Difficulty=%{y}<extra></extra>",
         "legendgroup": "Social Science",
         "marker": {
          "color": "#ab63fa"
         },
         "name": "Social Science",
         "offsetgroup": "Social Science",
         "orientation": "v",
         "scalegroup": "True",
         "showlegend": true,
         "x0": " ",
         "xaxis": "x",
         "y": [
          2.5,
          3.7
         ],
         "y0": " ",
         "yaxis": "y",
         "type": "violin"
        },
        {
         "alignmentgroup": "True",
         "box": {
          "visible": false
         },
         "hovertemplate": "Department=Philosophy<br>Level of Difficulty=%{y}<extra></extra>",
         "legendgroup": "Philosophy",
         "marker": {
          "color": "#FFA15A"
         },
         "name": "Philosophy",
         "offsetgroup": "Philosophy",
         "orientation": "v",
         "scalegroup": "True",
         "showlegend": true,
         "x0": " ",
         "xaxis": "x",
         "y": [
          2.4
         ],
         "y0": " ",
         "yaxis": "y",
         "type": "violin"
        },
        {
         "alignmentgroup": "True",
         "box": {
          "visible": false
         },
         "hovertemplate": "Department=Writing<br>Level of Difficulty=%{y}<extra></extra>",
         "legendgroup": "Writing",
         "marker": {
          "color": "#19d3f3"
         },
         "name": "Writing",
         "offsetgroup": "Writing",
         "orientation": "v",
         "scalegroup": "True",
         "showlegend": true,
         "x0": " ",
         "xaxis": "x",
         "y": [
          3.4
         ],
         "y0": " ",
         "yaxis": "y",
         "type": "violin"
        },
        {
         "alignmentgroup": "True",
         "box": {
          "visible": false
         },
         "hovertemplate": "Department=Biomedical Engineering<br>Level of Difficulty=%{y}<extra></extra>",
         "legendgroup": "Biomedical Engineering",
         "marker": {
          "color": "#FF6692"
         },
         "name": "Biomedical Engineering",
         "offsetgroup": "Biomedical Engineering",
         "orientation": "v",
         "scalegroup": "True",
         "showlegend": true,
         "x0": " ",
         "xaxis": "x",
         "y": [
          3.8
         ],
         "y0": " ",
         "yaxis": "y",
         "type": "violin"
        },
        {
         "alignmentgroup": "True",
         "box": {
          "visible": false
         },
         "hovertemplate": "Department=Classics<br>Level of Difficulty=%{y}<extra></extra>",
         "legendgroup": "Classics",
         "marker": {
          "color": "#B6E880"
         },
         "name": "Classics",
         "offsetgroup": "Classics",
         "orientation": "v",
         "scalegroup": "True",
         "showlegend": true,
         "x0": " ",
         "xaxis": "x",
         "y": [
          3.2,
          2.6,
          2.4
         ],
         "y0": " ",
         "yaxis": "y",
         "type": "violin"
        },
        {
         "alignmentgroup": "True",
         "box": {
          "visible": false
         },
         "hovertemplate": "Department=Computer Science<br>Level of Difficulty=%{y}<extra></extra>",
         "legendgroup": "Computer Science",
         "marker": {
          "color": "#FF97FF"
         },
         "name": "Computer Science",
         "offsetgroup": "Computer Science",
         "orientation": "v",
         "scalegroup": "True",
         "showlegend": true,
         "x0": " ",
         "xaxis": "x",
         "y": [
          3.6,
          3.1,
          3.9,
          4.3,
          3.6,
          4.0,
          2.9,
          4.1
         ],
         "y0": " ",
         "yaxis": "y",
         "type": "violin"
        },
        {
         "alignmentgroup": "True",
         "box": {
          "visible": false
         },
         "hovertemplate": "Department=Religious Studies<br>Level of Difficulty=%{y}<extra></extra>",
         "legendgroup": "Religious Studies",
         "marker": {
          "color": "#FECB52"
         },
         "name": "Religious Studies",
         "offsetgroup": "Religious Studies",
         "orientation": "v",
         "scalegroup": "True",
         "showlegend": true,
         "x0": " ",
         "xaxis": "x",
         "y": [
          3.0
         ],
         "y0": " ",
         "yaxis": "y",
         "type": "violin"
        },
        {
         "alignmentgroup": "True",
         "box": {
          "visible": false
         },
         "hovertemplate": "Department=Agriculture<br>Level of Difficulty=%{y}<extra></extra>",
         "legendgroup": "Agriculture",
         "marker": {
          "color": "#636efa"
         },
         "name": "Agriculture",
         "offsetgroup": "Agriculture",
         "orientation": "v",
         "scalegroup": "True",
         "showlegend": true,
         "x0": " ",
         "xaxis": "x",
         "y": [
          3.4
         ],
         "y0": " ",
         "yaxis": "y",
         "type": "violin"
        },
        {
         "alignmentgroup": "True",
         "box": {
          "visible": false
         },
         "hovertemplate": "Department=Asian Studies<br>Level of Difficulty=%{y}<extra></extra>",
         "legendgroup": "Asian Studies",
         "marker": {
          "color": "#EF553B"
         },
         "name": "Asian Studies",
         "offsetgroup": "Asian Studies",
         "orientation": "v",
         "scalegroup": "True",
         "showlegend": true,
         "x0": " ",
         "xaxis": "x",
         "y": [
          2.9,
          2.6
         ],
         "y0": " ",
         "yaxis": "y",
         "type": "violin"
        },
        {
         "alignmentgroup": "True",
         "box": {
          "visible": false
         },
         "hovertemplate": "Department=Communication<br>Level of Difficulty=%{y}<extra></extra>",
         "legendgroup": "Communication",
         "marker": {
          "color": "#00cc96"
         },
         "name": "Communication",
         "offsetgroup": "Communication",
         "orientation": "v",
         "scalegroup": "True",
         "showlegend": true,
         "x0": " ",
         "xaxis": "x",
         "y": [
          3.0,
          3.1,
          2.9,
          2.2,
          3.9
         ],
         "y0": " ",
         "yaxis": "y",
         "type": "violin"
        },
        {
         "alignmentgroup": "True",
         "box": {
          "visible": false
         },
         "hovertemplate": "Department=Molecular/Cellular Biology<br>Level of Difficulty=%{y}<extra></extra>",
         "legendgroup": "Molecular/Cellular Biology",
         "marker": {
          "color": "#ab63fa"
         },
         "name": "Molecular/Cellular Biology",
         "offsetgroup": "Molecular/Cellular Biology",
         "orientation": "v",
         "scalegroup": "True",
         "showlegend": true,
         "x0": " ",
         "xaxis": "x",
         "y": [
          3.1
         ],
         "y0": " ",
         "yaxis": "y",
         "type": "violin"
        },
        {
         "alignmentgroup": "True",
         "box": {
          "visible": false
         },
         "hovertemplate": "Department=Physics<br>Level of Difficulty=%{y}<extra></extra>",
         "legendgroup": "Physics",
         "marker": {
          "color": "#FFA15A"
         },
         "name": "Physics",
         "offsetgroup": "Physics",
         "orientation": "v",
         "scalegroup": "True",
         "showlegend": true,
         "x0": " ",
         "xaxis": "x",
         "y": [
          4.3,
          4.4
         ],
         "y0": " ",
         "yaxis": "y",
         "type": "violin"
        },
        {
         "alignmentgroup": "True",
         "box": {
          "visible": false
         },
         "hovertemplate": "Department=Food Science  Technology<br>Level of Difficulty=%{y}<extra></extra>",
         "legendgroup": "Food Science  Technology",
         "marker": {
          "color": "#19d3f3"
         },
         "name": "Food Science  Technology",
         "offsetgroup": "Food Science  Technology",
         "orientation": "v",
         "scalegroup": "True",
         "showlegend": true,
         "x0": " ",
         "xaxis": "x",
         "y": [
          2.7
         ],
         "y0": " ",
         "yaxis": "y",
         "type": "violin"
        },
        {
         "alignmentgroup": "True",
         "box": {
          "visible": false
         },
         "hovertemplate": "Department=Film<br>Level of Difficulty=%{y}<extra></extra>",
         "legendgroup": "Film",
         "marker": {
          "color": "#FF6692"
         },
         "name": "Film",
         "offsetgroup": "Film",
         "orientation": "v",
         "scalegroup": "True",
         "showlegend": true,
         "x0": " ",
         "xaxis": "x",
         "y": [
          3.0
         ],
         "y0": " ",
         "yaxis": "y",
         "type": "violin"
        },
        {
         "alignmentgroup": "True",
         "box": {
          "visible": false
         },
         "hovertemplate": "Department=Engineering<br>Level of Difficulty=%{y}<extra></extra>",
         "legendgroup": "Engineering",
         "marker": {
          "color": "#B6E880"
         },
         "name": "Engineering",
         "offsetgroup": "Engineering",
         "orientation": "v",
         "scalegroup": "True",
         "showlegend": true,
         "x0": " ",
         "xaxis": "x",
         "y": [
          3.6
         ],
         "y0": " ",
         "yaxis": "y",
         "type": "violin"
        },
        {
         "alignmentgroup": "True",
         "box": {
          "visible": false
         },
         "hovertemplate": "Department=Management<br>Level of Difficulty=%{y}<extra></extra>",
         "legendgroup": "Management",
         "marker": {
          "color": "#FF97FF"
         },
         "name": "Management",
         "offsetgroup": "Management",
         "orientation": "v",
         "scalegroup": "True",
         "showlegend": true,
         "x0": " ",
         "xaxis": "x",
         "y": [
          4.1
         ],
         "y0": " ",
         "yaxis": "y",
         "type": "violin"
        }
       ],
       "layout": {
        "template": {
         "data": {
          "histogram2dcontour": [
           {
            "type": "histogram2dcontour",
            "colorbar": {
             "outlinewidth": 0,
             "ticks": ""
            },
            "colorscale": [
             [
              0.0,
              "#0d0887"
             ],
             [
              0.1111111111111111,
              "#46039f"
             ],
             [
              0.2222222222222222,
              "#7201a8"
             ],
             [
              0.3333333333333333,
              "#9c179e"
             ],
             [
              0.4444444444444444,
              "#bd3786"
             ],
             [
              0.5555555555555556,
              "#d8576b"
             ],
             [
              0.6666666666666666,
              "#ed7953"
             ],
             [
              0.7777777777777778,
              "#fb9f3a"
             ],
             [
              0.8888888888888888,
              "#fdca26"
             ],
             [
              1.0,
              "#f0f921"
             ]
            ]
           }
          ],
          "choropleth": [
           {
            "type": "choropleth",
            "colorbar": {
             "outlinewidth": 0,
             "ticks": ""
            }
           }
          ],
          "histogram2d": [
           {
            "type": "histogram2d",
            "colorbar": {
             "outlinewidth": 0,
             "ticks": ""
            },
            "colorscale": [
             [
              0.0,
              "#0d0887"
             ],
             [
              0.1111111111111111,
              "#46039f"
             ],
             [
              0.2222222222222222,
              "#7201a8"
             ],
             [
              0.3333333333333333,
              "#9c179e"
             ],
             [
              0.4444444444444444,
              "#bd3786"
             ],
             [
              0.5555555555555556,
              "#d8576b"
             ],
             [
              0.6666666666666666,
              "#ed7953"
             ],
             [
              0.7777777777777778,
              "#fb9f3a"
             ],
             [
              0.8888888888888888,
              "#fdca26"
             ],
             [
              1.0,
              "#f0f921"
             ]
            ]
           }
          ],
          "heatmap": [
           {
            "type": "heatmap",
            "colorbar": {
             "outlinewidth": 0,
             "ticks": ""
            },
            "colorscale": [
             [
              0.0,
              "#0d0887"
             ],
             [
              0.1111111111111111,
              "#46039f"
             ],
             [
              0.2222222222222222,
              "#7201a8"
             ],
             [
              0.3333333333333333,
              "#9c179e"
             ],
             [
              0.4444444444444444,
              "#bd3786"
             ],
             [
              0.5555555555555556,
              "#d8576b"
             ],
             [
              0.6666666666666666,
              "#ed7953"
             ],
             [
              0.7777777777777778,
              "#fb9f3a"
             ],
             [
              0.8888888888888888,
              "#fdca26"
             ],
             [
              1.0,
              "#f0f921"
             ]
            ]
           }
          ],
          "heatmapgl": [
           {
            "type": "heatmapgl",
            "colorbar": {
             "outlinewidth": 0,
             "ticks": ""
            },
            "colorscale": [
             [
              0.0,
              "#0d0887"
             ],
             [
              0.1111111111111111,
              "#46039f"
             ],
             [
              0.2222222222222222,
              "#7201a8"
             ],
             [
              0.3333333333333333,
              "#9c179e"
             ],
             [
              0.4444444444444444,
              "#bd3786"
             ],
             [
              0.5555555555555556,
              "#d8576b"
             ],
             [
              0.6666666666666666,
              "#ed7953"
             ],
             [
              0.7777777777777778,
              "#fb9f3a"
             ],
             [
              0.8888888888888888,
              "#fdca26"
             ],
             [
              1.0,
              "#f0f921"
             ]
            ]
           }
          ],
          "contourcarpet": [
           {
            "type": "contourcarpet",
            "colorbar": {
             "outlinewidth": 0,
             "ticks": ""
            }
           }
          ],
          "contour": [
           {
            "type": "contour",
            "colorbar": {
             "outlinewidth": 0,
             "ticks": ""
            },
            "colorscale": [
             [
              0.0,
              "#0d0887"
             ],
             [
              0.1111111111111111,
              "#46039f"
             ],
             [
              0.2222222222222222,
              "#7201a8"
             ],
             [
              0.3333333333333333,
              "#9c179e"
             ],
             [
              0.4444444444444444,
              "#bd3786"
             ],
             [
              0.5555555555555556,
              "#d8576b"
             ],
             [
              0.6666666666666666,
              "#ed7953"
             ],
             [
              0.7777777777777778,
              "#fb9f3a"
             ],
             [
              0.8888888888888888,
              "#fdca26"
             ],
             [
              1.0,
              "#f0f921"
             ]
            ]
           }
          ],
          "surface": [
           {
            "type": "surface",
            "colorbar": {
             "outlinewidth": 0,
             "ticks": ""
            },
            "colorscale": [
             [
              0.0,
              "#0d0887"
             ],
             [
              0.1111111111111111,
              "#46039f"
             ],
             [
              0.2222222222222222,
              "#7201a8"
             ],
             [
              0.3333333333333333,
              "#9c179e"
             ],
             [
              0.4444444444444444,
              "#bd3786"
             ],
             [
              0.5555555555555556,
              "#d8576b"
             ],
             [
              0.6666666666666666,
              "#ed7953"
             ],
             [
              0.7777777777777778,
              "#fb9f3a"
             ],
             [
              0.8888888888888888,
              "#fdca26"
             ],
             [
              1.0,
              "#f0f921"
             ]
            ]
           }
          ],
          "mesh3d": [
           {
            "type": "mesh3d",
            "colorbar": {
             "outlinewidth": 0,
             "ticks": ""
            }
           }
          ],
          "scatter": [
           {
            "marker": {
             "line": {
              "color": "#283442"
             }
            },
            "type": "scatter"
           }
          ],
          "parcoords": [
           {
            "type": "parcoords",
            "line": {
             "colorbar": {
              "outlinewidth": 0,
              "ticks": ""
             }
            }
           }
          ],
          "scatterpolargl": [
           {
            "type": "scatterpolargl",
            "marker": {
             "colorbar": {
              "outlinewidth": 0,
              "ticks": ""
             }
            }
           }
          ],
          "bar": [
           {
            "error_x": {
             "color": "#f2f5fa"
            },
            "error_y": {
             "color": "#f2f5fa"
            },
            "marker": {
             "line": {
              "color": "rgb(17,17,17)",
              "width": 0.5
             },
             "pattern": {
              "fillmode": "overlay",
              "size": 10,
              "solidity": 0.2
             }
            },
            "type": "bar"
           }
          ],
          "scattergeo": [
           {
            "type": "scattergeo",
            "marker": {
             "colorbar": {
              "outlinewidth": 0,
              "ticks": ""
             }
            }
           }
          ],
          "scatterpolar": [
           {
            "type": "scatterpolar",
            "marker": {
             "colorbar": {
              "outlinewidth": 0,
              "ticks": ""
             }
            }
           }
          ],
          "histogram": [
           {
            "marker": {
             "pattern": {
              "fillmode": "overlay",
              "size": 10,
              "solidity": 0.2
             }
            },
            "type": "histogram"
           }
          ],
          "scattergl": [
           {
            "marker": {
             "line": {
              "color": "#283442"
             }
            },
            "type": "scattergl"
           }
          ],
          "scatter3d": [
           {
            "type": "scatter3d",
            "line": {
             "colorbar": {
              "outlinewidth": 0,
              "ticks": ""
             }
            },
            "marker": {
             "colorbar": {
              "outlinewidth": 0,
              "ticks": ""
             }
            }
           }
          ],
          "scattermapbox": [
           {
            "type": "scattermapbox",
            "marker": {
             "colorbar": {
              "outlinewidth": 0,
              "ticks": ""
             }
            }
           }
          ],
          "scatterternary": [
           {
            "type": "scatterternary",
            "marker": {
             "colorbar": {
              "outlinewidth": 0,
              "ticks": ""
             }
            }
           }
          ],
          "scattercarpet": [
           {
            "type": "scattercarpet",
            "marker": {
             "colorbar": {
              "outlinewidth": 0,
              "ticks": ""
             }
            }
           }
          ],
          "carpet": [
           {
            "aaxis": {
             "endlinecolor": "#A2B1C6",
             "gridcolor": "#506784",
             "linecolor": "#506784",
             "minorgridcolor": "#506784",
             "startlinecolor": "#A2B1C6"
            },
            "baxis": {
             "endlinecolor": "#A2B1C6",
             "gridcolor": "#506784",
             "linecolor": "#506784",
             "minorgridcolor": "#506784",
             "startlinecolor": "#A2B1C6"
            },
            "type": "carpet"
           }
          ],
          "table": [
           {
            "cells": {
             "fill": {
              "color": "#506784"
             },
             "line": {
              "color": "rgb(17,17,17)"
             }
            },
            "header": {
             "fill": {
              "color": "#2a3f5f"
             },
             "line": {
              "color": "rgb(17,17,17)"
             }
            },
            "type": "table"
           }
          ],
          "barpolar": [
           {
            "marker": {
             "line": {
              "color": "rgb(17,17,17)",
              "width": 0.5
             },
             "pattern": {
              "fillmode": "overlay",
              "size": 10,
              "solidity": 0.2
             }
            },
            "type": "barpolar"
           }
          ],
          "pie": [
           {
            "automargin": true,
            "type": "pie"
           }
          ]
         },
         "layout": {
          "autotypenumbers": "strict",
          "colorway": [
           "#636efa",
           "#EF553B",
           "#00cc96",
           "#ab63fa",
           "#FFA15A",
           "#19d3f3",
           "#FF6692",
           "#B6E880",
           "#FF97FF",
           "#FECB52"
          ],
          "font": {
           "color": "#f2f5fa"
          },
          "hovermode": "closest",
          "hoverlabel": {
           "align": "left"
          },
          "paper_bgcolor": "rgb(17,17,17)",
          "plot_bgcolor": "rgb(17,17,17)",
          "polar": {
           "bgcolor": "rgb(17,17,17)",
           "angularaxis": {
            "gridcolor": "#506784",
            "linecolor": "#506784",
            "ticks": ""
           },
           "radialaxis": {
            "gridcolor": "#506784",
            "linecolor": "#506784",
            "ticks": ""
           }
          },
          "ternary": {
           "bgcolor": "rgb(17,17,17)",
           "aaxis": {
            "gridcolor": "#506784",
            "linecolor": "#506784",
            "ticks": ""
           },
           "baxis": {
            "gridcolor": "#506784",
            "linecolor": "#506784",
            "ticks": ""
           },
           "caxis": {
            "gridcolor": "#506784",
            "linecolor": "#506784",
            "ticks": ""
           }
          },
          "coloraxis": {
           "colorbar": {
            "outlinewidth": 0,
            "ticks": ""
           }
          },
          "colorscale": {
           "sequential": [
            [
             0.0,
             "#0d0887"
            ],
            [
             0.1111111111111111,
             "#46039f"
            ],
            [
             0.2222222222222222,
             "#7201a8"
            ],
            [
             0.3333333333333333,
             "#9c179e"
            ],
            [
             0.4444444444444444,
             "#bd3786"
            ],
            [
             0.5555555555555556,
             "#d8576b"
            ],
            [
             0.6666666666666666,
             "#ed7953"
            ],
            [
             0.7777777777777778,
             "#fb9f3a"
            ],
            [
             0.8888888888888888,
             "#fdca26"
            ],
            [
             1.0,
             "#f0f921"
            ]
           ],
           "sequentialminus": [
            [
             0.0,
             "#0d0887"
            ],
            [
             0.1111111111111111,
             "#46039f"
            ],
            [
             0.2222222222222222,
             "#7201a8"
            ],
            [
             0.3333333333333333,
             "#9c179e"
            ],
            [
             0.4444444444444444,
             "#bd3786"
            ],
            [
             0.5555555555555556,
             "#d8576b"
            ],
            [
             0.6666666666666666,
             "#ed7953"
            ],
            [
             0.7777777777777778,
             "#fb9f3a"
            ],
            [
             0.8888888888888888,
             "#fdca26"
            ],
            [
             1.0,
             "#f0f921"
            ]
           ],
           "diverging": [
            [
             0,
             "#8e0152"
            ],
            [
             0.1,
             "#c51b7d"
            ],
            [
             0.2,
             "#de77ae"
            ],
            [
             0.3,
             "#f1b6da"
            ],
            [
             0.4,
             "#fde0ef"
            ],
            [
             0.5,
             "#f7f7f7"
            ],
            [
             0.6,
             "#e6f5d0"
            ],
            [
             0.7,
             "#b8e186"
            ],
            [
             0.8,
             "#7fbc41"
            ],
            [
             0.9,
             "#4d9221"
            ],
            [
             1,
             "#276419"
            ]
           ]
          },
          "xaxis": {
           "gridcolor": "#283442",
           "linecolor": "#506784",
           "ticks": "",
           "title": {
            "standoff": 15
           },
           "zerolinecolor": "#283442",
           "automargin": true,
           "zerolinewidth": 2
          },
          "yaxis": {
           "gridcolor": "#283442",
           "linecolor": "#506784",
           "ticks": "",
           "title": {
            "standoff": 15
           },
           "zerolinecolor": "#283442",
           "automargin": true,
           "zerolinewidth": 2
          },
          "scene": {
           "xaxis": {
            "backgroundcolor": "rgb(17,17,17)",
            "gridcolor": "#506784",
            "linecolor": "#506784",
            "showbackground": true,
            "ticks": "",
            "zerolinecolor": "#C8D4E3",
            "gridwidth": 2
           },
           "yaxis": {
            "backgroundcolor": "rgb(17,17,17)",
            "gridcolor": "#506784",
            "linecolor": "#506784",
            "showbackground": true,
            "ticks": "",
            "zerolinecolor": "#C8D4E3",
            "gridwidth": 2
           },
           "zaxis": {
            "backgroundcolor": "rgb(17,17,17)",
            "gridcolor": "#506784",
            "linecolor": "#506784",
            "showbackground": true,
            "ticks": "",
            "zerolinecolor": "#C8D4E3",
            "gridwidth": 2
           }
          },
          "shapedefaults": {
           "line": {
            "color": "#f2f5fa"
           }
          },
          "annotationdefaults": {
           "arrowcolor": "#f2f5fa",
           "arrowhead": 0,
           "arrowwidth": 1
          },
          "geo": {
           "bgcolor": "rgb(17,17,17)",
           "landcolor": "rgb(17,17,17)",
           "subunitcolor": "#506784",
           "showland": true,
           "showlakes": true,
           "lakecolor": "rgb(17,17,17)"
          },
          "title": {
           "x": 0.05
          },
          "updatemenudefaults": {
           "bgcolor": "#506784",
           "borderwidth": 0
          },
          "sliderdefaults": {
           "bgcolor": "#C8D4E3",
           "borderwidth": 1,
           "bordercolor": "rgb(17,17,17)",
           "tickwidth": 0
          },
          "mapbox": {
           "style": "dark"
          }
         }
        },
        "xaxis": {
         "anchor": "y",
         "domain": [
          0.0,
          1.0
         ]
        },
        "yaxis": {
         "anchor": "x",
         "domain": [
          0.0,
          1.0
         ],
         "title": {
          "text": "Level of Difficulty"
         }
        },
        "legend": {
         "title": {
          "text": "Department"
         },
         "tracegroupgap": 0
        },
        "margin": {
         "t": 60
        },
        "violinmode": "overlay"
       },
       "config": {
        "plotlyServerURL": "https://plot.ly"
       }
      },
      "text/html": "<div>                            <div id=\"79a64518-4820-44f7-9e57-cd20a153a350\" class=\"plotly-graph-div\" style=\"height:525px; width:100%;\"></div>            <script type=\"text/javascript\">                require([\"plotly\"], function(Plotly) {                    window.PLOTLYENV=window.PLOTLYENV || {};                                    if (document.getElementById(\"79a64518-4820-44f7-9e57-cd20a153a350\")) {                    Plotly.newPlot(                        \"79a64518-4820-44f7-9e57-cd20a153a350\",                        [{\"alignmentgroup\":\"True\",\"box\":{\"visible\":false},\"hovertemplate\":\"Department=Anthropology\\u003cbr\\u003eLevel of Difficulty=%{y}\\u003cextra\\u003e\\u003c\\u002fextra\\u003e\",\"legendgroup\":\"Anthropology\",\"marker\":{\"color\":\"#636efa\"},\"name\":\"Anthropology\",\"offsetgroup\":\"Anthropology\",\"orientation\":\"v\",\"scalegroup\":\"True\",\"showlegend\":true,\"x0\":\" \",\"xaxis\":\"x\",\"y\":[2.5,2.1,2.4],\"y0\":\" \",\"yaxis\":\"y\",\"type\":\"violin\"},{\"alignmentgroup\":\"True\",\"box\":{\"visible\":false},\"hovertemplate\":\"Department=History\\u003cbr\\u003eLevel of Difficulty=%{y}\\u003cextra\\u003e\\u003c\\u002fextra\\u003e\",\"legendgroup\":\"History\",\"marker\":{\"color\":\"#EF553B\"},\"name\":\"History\",\"offsetgroup\":\"History\",\"orientation\":\"v\",\"scalegroup\":\"True\",\"showlegend\":true,\"x0\":\" \",\"xaxis\":\"x\",\"y\":[2.1,3.0],\"y0\":\" \",\"yaxis\":\"y\",\"type\":\"violin\"},{\"alignmentgroup\":\"True\",\"box\":{\"visible\":false},\"hovertemplate\":\"Department=Nutrition\\u003cbr\\u003eLevel of Difficulty=%{y}\\u003cextra\\u003e\\u003c\\u002fextra\\u003e\",\"legendgroup\":\"Nutrition\",\"marker\":{\"color\":\"#00cc96\"},\"name\":\"Nutrition\",\"offsetgroup\":\"Nutrition\",\"orientation\":\"v\",\"scalegroup\":\"True\",\"showlegend\":true,\"x0\":\" \",\"xaxis\":\"x\",\"y\":[2.0,1.8],\"y0\":\" \",\"yaxis\":\"y\",\"type\":\"violin\"},{\"alignmentgroup\":\"True\",\"box\":{\"visible\":false},\"hovertemplate\":\"Department=Chemistry\\u003cbr\\u003eLevel of Difficulty=%{y}\\u003cextra\\u003e\\u003c\\u002fextra\\u003e\",\"legendgroup\":\"Chemistry\",\"marker\":{\"color\":\"#ab63fa\"},\"name\":\"Chemistry\",\"offsetgroup\":\"Chemistry\",\"orientation\":\"v\",\"scalegroup\":\"True\",\"showlegend\":true,\"x0\":\" \",\"xaxis\":\"x\",\"y\":[3.0,3.3,3.2,3.1,3.1,3.7,3.4,3.3,3.6,3.6,3.7,3.6,4.2,3.6,3.0,3.9,3.3,3.1,3.6,4.0,4.5,3.4,4.2],\"y0\":\" \",\"yaxis\":\"y\",\"type\":\"violin\"},{\"alignmentgroup\":\"True\",\"box\":{\"visible\":false},\"hovertemplate\":\"Department=Economics\\u003cbr\\u003eLevel of Difficulty=%{y}\\u003cextra\\u003e\\u003c\\u002fextra\\u003e\",\"legendgroup\":\"Economics\",\"marker\":{\"color\":\"#FFA15A\"},\"name\":\"Economics\",\"offsetgroup\":\"Economics\",\"orientation\":\"v\",\"scalegroup\":\"True\",\"showlegend\":true,\"x0\":\" \",\"xaxis\":\"x\",\"y\":[3.1,2.9,3.0,2.7,3.9,3.5,3.6,3.1,3.4,3.2,3.2],\"y0\":\" \",\"yaxis\":\"y\",\"type\":\"violin\"},{\"alignmentgroup\":\"True\",\"box\":{\"visible\":false},\"hovertemplate\":\"Department=Animal Science\\u003cbr\\u003eLevel of Difficulty=%{y}\\u003cextra\\u003e\\u003c\\u002fextra\\u003e\",\"legendgroup\":\"Animal Science\",\"marker\":{\"color\":\"#19d3f3\"},\"name\":\"Animal Science\",\"offsetgroup\":\"Animal Science\",\"orientation\":\"v\",\"scalegroup\":\"True\",\"showlegend\":true,\"x0\":\" \",\"xaxis\":\"x\",\"y\":[2.2],\"y0\":\" \",\"yaxis\":\"y\",\"type\":\"violin\"},{\"alignmentgroup\":\"True\",\"box\":{\"visible\":false},\"hovertemplate\":\"Department=Psychology\\u003cbr\\u003eLevel of Difficulty=%{y}\\u003cextra\\u003e\\u003c\\u002fextra\\u003e\",\"legendgroup\":\"Psychology\",\"marker\":{\"color\":\"#FF6692\"},\"name\":\"Psychology\",\"offsetgroup\":\"Psychology\",\"orientation\":\"v\",\"scalegroup\":\"True\",\"showlegend\":true,\"x0\":\" \",\"xaxis\":\"x\",\"y\":[2.4,2.4,2.8,1.8,2.8,2.1,2.5,2.9],\"y0\":\" \",\"yaxis\":\"y\",\"type\":\"violin\"},{\"alignmentgroup\":\"True\",\"box\":{\"visible\":false},\"hovertemplate\":\"Department=Political Science\\u003cbr\\u003eLevel of Difficulty=%{y}\\u003cextra\\u003e\\u003c\\u002fextra\\u003e\",\"legendgroup\":\"Political Science\",\"marker\":{\"color\":\"#B6E880\"},\"name\":\"Political Science\",\"offsetgroup\":\"Political Science\",\"orientation\":\"v\",\"scalegroup\":\"True\",\"showlegend\":true,\"x0\":\" \",\"xaxis\":\"x\",\"y\":[3.0,3.1],\"y0\":\" \",\"yaxis\":\"y\",\"type\":\"violin\"},{\"alignmentgroup\":\"True\",\"box\":{\"visible\":false},\"hovertemplate\":\"Department=Science\\u003cbr\\u003eLevel of Difficulty=%{y}\\u003cextra\\u003e\\u003c\\u002fextra\\u003e\",\"legendgroup\":\"Science\",\"marker\":{\"color\":\"#FF97FF\"},\"name\":\"Science\",\"offsetgroup\":\"Science\",\"orientation\":\"v\",\"scalegroup\":\"True\",\"showlegend\":true,\"x0\":\" \",\"xaxis\":\"x\",\"y\":[2.3,3.3,2.9,3.0,4.2,4.3],\"y0\":\" \",\"yaxis\":\"y\",\"type\":\"violin\"},{\"alignmentgroup\":\"True\",\"box\":{\"visible\":false},\"hovertemplate\":\"Department=English\\u003cbr\\u003eLevel of Difficulty=%{y}\\u003cextra\\u003e\\u003c\\u002fextra\\u003e\",\"legendgroup\":\"English\",\"marker\":{\"color\":\"#FECB52\"},\"name\":\"English\",\"offsetgroup\":\"English\",\"orientation\":\"v\",\"scalegroup\":\"True\",\"showlegend\":true,\"x0\":\" \",\"xaxis\":\"x\",\"y\":[2.0],\"y0\":\" \",\"yaxis\":\"y\",\"type\":\"violin\"},{\"alignmentgroup\":\"True\",\"box\":{\"visible\":false},\"hovertemplate\":\"Department=Mathematics\\u003cbr\\u003eLevel of Difficulty=%{y}\\u003cextra\\u003e\\u003c\\u002fextra\\u003e\",\"legendgroup\":\"Mathematics\",\"marker\":{\"color\":\"#636efa\"},\"name\":\"Mathematics\",\"offsetgroup\":\"Mathematics\",\"orientation\":\"v\",\"scalegroup\":\"True\",\"showlegend\":true,\"x0\":\" \",\"xaxis\":\"x\",\"y\":[3.1,3.6,3.5,3.0,1.9,2.8,2.9,2.6,3.3,4.0,3.1,3.2,3.8,3.3,4.3,3.7,4.0,3.7,3.9,3.7,4.1,3.8,4.4,3.1],\"y0\":\" \",\"yaxis\":\"y\",\"type\":\"violin\"},{\"alignmentgroup\":\"True\",\"box\":{\"visible\":false},\"hovertemplate\":\"Department=Microbiology\\u003cbr\\u003eLevel of Difficulty=%{y}\\u003cextra\\u003e\\u003c\\u002fextra\\u003e\",\"legendgroup\":\"Microbiology\",\"marker\":{\"color\":\"#EF553B\"},\"name\":\"Microbiology\",\"offsetgroup\":\"Microbiology\",\"orientation\":\"v\",\"scalegroup\":\"True\",\"showlegend\":true,\"x0\":\" \",\"xaxis\":\"x\",\"y\":[4.4],\"y0\":\" \",\"yaxis\":\"y\",\"type\":\"violin\"},{\"alignmentgroup\":\"True\",\"box\":{\"visible\":false},\"hovertemplate\":\"Department=Entomology\\u003cbr\\u003eLevel of Difficulty=%{y}\\u003cextra\\u003e\\u003c\\u002fextra\\u003e\",\"legendgroup\":\"Entomology\",\"marker\":{\"color\":\"#00cc96\"},\"name\":\"Entomology\",\"offsetgroup\":\"Entomology\",\"orientation\":\"v\",\"scalegroup\":\"True\",\"showlegend\":true,\"x0\":\" \",\"xaxis\":\"x\",\"y\":[3.3],\"y0\":\" \",\"yaxis\":\"y\",\"type\":\"violin\"},{\"alignmentgroup\":\"True\",\"box\":{\"visible\":false},\"hovertemplate\":\"Department=Biology\\u003cbr\\u003eLevel of Difficulty=%{y}\\u003cextra\\u003e\\u003c\\u002fextra\\u003e\",\"legendgroup\":\"Biology\",\"marker\":{\"color\":\"#ab63fa\"},\"name\":\"Biology\",\"offsetgroup\":\"Biology\",\"orientation\":\"v\",\"scalegroup\":\"True\",\"showlegend\":true,\"x0\":\" \",\"xaxis\":\"x\",\"y\":[3.8,3.2,4.0,3.2],\"y0\":\" \",\"yaxis\":\"y\",\"type\":\"violin\"},{\"alignmentgroup\":\"True\",\"box\":{\"visible\":false},\"hovertemplate\":\"Department=Statistics\\u003cbr\\u003eLevel of Difficulty=%{y}\\u003cextra\\u003e\\u003c\\u002fextra\\u003e\",\"legendgroup\":\"Statistics\",\"marker\":{\"color\":\"#FFA15A\"},\"name\":\"Statistics\",\"offsetgroup\":\"Statistics\",\"orientation\":\"v\",\"scalegroup\":\"True\",\"showlegend\":true,\"x0\":\" \",\"xaxis\":\"x\",\"y\":[2.8,3.1,3.8,3.3,3.5],\"y0\":\" \",\"yaxis\":\"y\",\"type\":\"violin\"},{\"alignmentgroup\":\"True\",\"box\":{\"visible\":false},\"hovertemplate\":\"Department=Food Science & Technology\\u003cbr\\u003eLevel of Difficulty=%{y}\\u003cextra\\u003e\\u003c\\u002fextra\\u003e\",\"legendgroup\":\"Food Science & Technology\",\"marker\":{\"color\":\"#19d3f3\"},\"name\":\"Food Science & Technology\",\"offsetgroup\":\"Food Science & Technology\",\"orientation\":\"v\",\"scalegroup\":\"True\",\"showlegend\":true,\"x0\":\" \",\"xaxis\":\"x\",\"y\":[2.3],\"y0\":\" \",\"yaxis\":\"y\",\"type\":\"violin\"},{\"alignmentgroup\":\"True\",\"box\":{\"visible\":false},\"hovertemplate\":\"Department=Sociology\\u003cbr\\u003eLevel of Difficulty=%{y}\\u003cextra\\u003e\\u003c\\u002fextra\\u003e\",\"legendgroup\":\"Sociology\",\"marker\":{\"color\":\"#FF6692\"},\"name\":\"Sociology\",\"offsetgroup\":\"Sociology\",\"orientation\":\"v\",\"scalegroup\":\"True\",\"showlegend\":true,\"x0\":\" \",\"xaxis\":\"x\",\"y\":[3.2,3.6],\"y0\":\" \",\"yaxis\":\"y\",\"type\":\"violin\"},{\"alignmentgroup\":\"True\",\"box\":{\"visible\":false},\"hovertemplate\":\"Department=Physical Ed\\u003cbr\\u003eLevel of Difficulty=%{y}\\u003cextra\\u003e\\u003c\\u002fextra\\u003e\",\"legendgroup\":\"Physical Ed\",\"marker\":{\"color\":\"#B6E880\"},\"name\":\"Physical Ed\",\"offsetgroup\":\"Physical Ed\",\"orientation\":\"v\",\"scalegroup\":\"True\",\"showlegend\":true,\"x0\":\" \",\"xaxis\":\"x\",\"y\":[3.6],\"y0\":\" \",\"yaxis\":\"y\",\"type\":\"violin\"},{\"alignmentgroup\":\"True\",\"box\":{\"visible\":false},\"hovertemplate\":\"Department=Accounting\\u003cbr\\u003eLevel of Difficulty=%{y}\\u003cextra\\u003e\\u003c\\u002fextra\\u003e\",\"legendgroup\":\"Accounting\",\"marker\":{\"color\":\"#FF97FF\"},\"name\":\"Accounting\",\"offsetgroup\":\"Accounting\",\"orientation\":\"v\",\"scalegroup\":\"True\",\"showlegend\":true,\"x0\":\" \",\"xaxis\":\"x\",\"y\":[2.7],\"y0\":\" \",\"yaxis\":\"y\",\"type\":\"violin\"},{\"alignmentgroup\":\"True\",\"box\":{\"visible\":false},\"hovertemplate\":\"Department=Biological Sciences\\u003cbr\\u003eLevel of Difficulty=%{y}\\u003cextra\\u003e\\u003c\\u002fextra\\u003e\",\"legendgroup\":\"Biological Sciences\",\"marker\":{\"color\":\"#FECB52\"},\"name\":\"Biological Sciences\",\"offsetgroup\":\"Biological Sciences\",\"orientation\":\"v\",\"scalegroup\":\"True\",\"showlegend\":true,\"x0\":\" \",\"xaxis\":\"x\",\"y\":[3.7,3.7,3.4,2.9,3.1,3.4],\"y0\":\" \",\"yaxis\":\"y\",\"type\":\"violin\"},{\"alignmentgroup\":\"True\",\"box\":{\"visible\":false},\"hovertemplate\":\"Department=Human Development\\u003cbr\\u003eLevel of Difficulty=%{y}\\u003cextra\\u003e\\u003c\\u002fextra\\u003e\",\"legendgroup\":\"Human Development\",\"marker\":{\"color\":\"#636efa\"},\"name\":\"Human Development\",\"offsetgroup\":\"Human Development\",\"orientation\":\"v\",\"scalegroup\":\"True\",\"showlegend\":true,\"x0\":\" \",\"xaxis\":\"x\",\"y\":[2.5,2.6],\"y0\":\" \",\"yaxis\":\"y\",\"type\":\"violin\"},{\"alignmentgroup\":\"True\",\"box\":{\"visible\":false},\"hovertemplate\":\"Department=Design\\u003cbr\\u003eLevel of Difficulty=%{y}\\u003cextra\\u003e\\u003c\\u002fextra\\u003e\",\"legendgroup\":\"Design\",\"marker\":{\"color\":\"#EF553B\"},\"name\":\"Design\",\"offsetgroup\":\"Design\",\"orientation\":\"v\",\"scalegroup\":\"True\",\"showlegend\":true,\"x0\":\" \",\"xaxis\":\"x\",\"y\":[2.8],\"y0\":\" \",\"yaxis\":\"y\",\"type\":\"violin\"},{\"alignmentgroup\":\"True\",\"box\":{\"visible\":false},\"hovertemplate\":\"Department=Geology\\u003cbr\\u003eLevel of Difficulty=%{y}\\u003cextra\\u003e\\u003c\\u002fextra\\u003e\",\"legendgroup\":\"Geology\",\"marker\":{\"color\":\"#00cc96\"},\"name\":\"Geology\",\"offsetgroup\":\"Geology\",\"orientation\":\"v\",\"scalegroup\":\"True\",\"showlegend\":true,\"x0\":\" \",\"xaxis\":\"x\",\"y\":[2.8],\"y0\":\" \",\"yaxis\":\"y\",\"type\":\"violin\"},{\"alignmentgroup\":\"True\",\"box\":{\"visible\":false},\"hovertemplate\":\"Department=Social Science\\u003cbr\\u003eLevel of Difficulty=%{y}\\u003cextra\\u003e\\u003c\\u002fextra\\u003e\",\"legendgroup\":\"Social Science\",\"marker\":{\"color\":\"#ab63fa\"},\"name\":\"Social Science\",\"offsetgroup\":\"Social Science\",\"orientation\":\"v\",\"scalegroup\":\"True\",\"showlegend\":true,\"x0\":\" \",\"xaxis\":\"x\",\"y\":[2.5,3.7],\"y0\":\" \",\"yaxis\":\"y\",\"type\":\"violin\"},{\"alignmentgroup\":\"True\",\"box\":{\"visible\":false},\"hovertemplate\":\"Department=Philosophy\\u003cbr\\u003eLevel of Difficulty=%{y}\\u003cextra\\u003e\\u003c\\u002fextra\\u003e\",\"legendgroup\":\"Philosophy\",\"marker\":{\"color\":\"#FFA15A\"},\"name\":\"Philosophy\",\"offsetgroup\":\"Philosophy\",\"orientation\":\"v\",\"scalegroup\":\"True\",\"showlegend\":true,\"x0\":\" \",\"xaxis\":\"x\",\"y\":[2.4],\"y0\":\" \",\"yaxis\":\"y\",\"type\":\"violin\"},{\"alignmentgroup\":\"True\",\"box\":{\"visible\":false},\"hovertemplate\":\"Department=Writing\\u003cbr\\u003eLevel of Difficulty=%{y}\\u003cextra\\u003e\\u003c\\u002fextra\\u003e\",\"legendgroup\":\"Writing\",\"marker\":{\"color\":\"#19d3f3\"},\"name\":\"Writing\",\"offsetgroup\":\"Writing\",\"orientation\":\"v\",\"scalegroup\":\"True\",\"showlegend\":true,\"x0\":\" \",\"xaxis\":\"x\",\"y\":[3.4],\"y0\":\" \",\"yaxis\":\"y\",\"type\":\"violin\"},{\"alignmentgroup\":\"True\",\"box\":{\"visible\":false},\"hovertemplate\":\"Department=Biomedical Engineering\\u003cbr\\u003eLevel of Difficulty=%{y}\\u003cextra\\u003e\\u003c\\u002fextra\\u003e\",\"legendgroup\":\"Biomedical Engineering\",\"marker\":{\"color\":\"#FF6692\"},\"name\":\"Biomedical Engineering\",\"offsetgroup\":\"Biomedical Engineering\",\"orientation\":\"v\",\"scalegroup\":\"True\",\"showlegend\":true,\"x0\":\" \",\"xaxis\":\"x\",\"y\":[3.8],\"y0\":\" \",\"yaxis\":\"y\",\"type\":\"violin\"},{\"alignmentgroup\":\"True\",\"box\":{\"visible\":false},\"hovertemplate\":\"Department=Classics\\u003cbr\\u003eLevel of Difficulty=%{y}\\u003cextra\\u003e\\u003c\\u002fextra\\u003e\",\"legendgroup\":\"Classics\",\"marker\":{\"color\":\"#B6E880\"},\"name\":\"Classics\",\"offsetgroup\":\"Classics\",\"orientation\":\"v\",\"scalegroup\":\"True\",\"showlegend\":true,\"x0\":\" \",\"xaxis\":\"x\",\"y\":[3.2,2.6,2.4],\"y0\":\" \",\"yaxis\":\"y\",\"type\":\"violin\"},{\"alignmentgroup\":\"True\",\"box\":{\"visible\":false},\"hovertemplate\":\"Department=Computer Science\\u003cbr\\u003eLevel of Difficulty=%{y}\\u003cextra\\u003e\\u003c\\u002fextra\\u003e\",\"legendgroup\":\"Computer Science\",\"marker\":{\"color\":\"#FF97FF\"},\"name\":\"Computer Science\",\"offsetgroup\":\"Computer Science\",\"orientation\":\"v\",\"scalegroup\":\"True\",\"showlegend\":true,\"x0\":\" \",\"xaxis\":\"x\",\"y\":[3.6,3.1,3.9,4.3,3.6,4.0,2.9,4.1],\"y0\":\" \",\"yaxis\":\"y\",\"type\":\"violin\"},{\"alignmentgroup\":\"True\",\"box\":{\"visible\":false},\"hovertemplate\":\"Department=Religious Studies\\u003cbr\\u003eLevel of Difficulty=%{y}\\u003cextra\\u003e\\u003c\\u002fextra\\u003e\",\"legendgroup\":\"Religious Studies\",\"marker\":{\"color\":\"#FECB52\"},\"name\":\"Religious Studies\",\"offsetgroup\":\"Religious Studies\",\"orientation\":\"v\",\"scalegroup\":\"True\",\"showlegend\":true,\"x0\":\" \",\"xaxis\":\"x\",\"y\":[3.0],\"y0\":\" \",\"yaxis\":\"y\",\"type\":\"violin\"},{\"alignmentgroup\":\"True\",\"box\":{\"visible\":false},\"hovertemplate\":\"Department=Agriculture\\u003cbr\\u003eLevel of Difficulty=%{y}\\u003cextra\\u003e\\u003c\\u002fextra\\u003e\",\"legendgroup\":\"Agriculture\",\"marker\":{\"color\":\"#636efa\"},\"name\":\"Agriculture\",\"offsetgroup\":\"Agriculture\",\"orientation\":\"v\",\"scalegroup\":\"True\",\"showlegend\":true,\"x0\":\" \",\"xaxis\":\"x\",\"y\":[3.4],\"y0\":\" \",\"yaxis\":\"y\",\"type\":\"violin\"},{\"alignmentgroup\":\"True\",\"box\":{\"visible\":false},\"hovertemplate\":\"Department=Asian Studies\\u003cbr\\u003eLevel of Difficulty=%{y}\\u003cextra\\u003e\\u003c\\u002fextra\\u003e\",\"legendgroup\":\"Asian Studies\",\"marker\":{\"color\":\"#EF553B\"},\"name\":\"Asian Studies\",\"offsetgroup\":\"Asian Studies\",\"orientation\":\"v\",\"scalegroup\":\"True\",\"showlegend\":true,\"x0\":\" \",\"xaxis\":\"x\",\"y\":[2.9,2.6],\"y0\":\" \",\"yaxis\":\"y\",\"type\":\"violin\"},{\"alignmentgroup\":\"True\",\"box\":{\"visible\":false},\"hovertemplate\":\"Department=Communication\\u003cbr\\u003eLevel of Difficulty=%{y}\\u003cextra\\u003e\\u003c\\u002fextra\\u003e\",\"legendgroup\":\"Communication\",\"marker\":{\"color\":\"#00cc96\"},\"name\":\"Communication\",\"offsetgroup\":\"Communication\",\"orientation\":\"v\",\"scalegroup\":\"True\",\"showlegend\":true,\"x0\":\" \",\"xaxis\":\"x\",\"y\":[3.0,3.1,2.9,2.2,3.9],\"y0\":\" \",\"yaxis\":\"y\",\"type\":\"violin\"},{\"alignmentgroup\":\"True\",\"box\":{\"visible\":false},\"hovertemplate\":\"Department=Molecular\\u002fCellular Biology\\u003cbr\\u003eLevel of Difficulty=%{y}\\u003cextra\\u003e\\u003c\\u002fextra\\u003e\",\"legendgroup\":\"Molecular\\u002fCellular Biology\",\"marker\":{\"color\":\"#ab63fa\"},\"name\":\"Molecular\\u002fCellular Biology\",\"offsetgroup\":\"Molecular\\u002fCellular Biology\",\"orientation\":\"v\",\"scalegroup\":\"True\",\"showlegend\":true,\"x0\":\" \",\"xaxis\":\"x\",\"y\":[3.1],\"y0\":\" \",\"yaxis\":\"y\",\"type\":\"violin\"},{\"alignmentgroup\":\"True\",\"box\":{\"visible\":false},\"hovertemplate\":\"Department=Physics\\u003cbr\\u003eLevel of Difficulty=%{y}\\u003cextra\\u003e\\u003c\\u002fextra\\u003e\",\"legendgroup\":\"Physics\",\"marker\":{\"color\":\"#FFA15A\"},\"name\":\"Physics\",\"offsetgroup\":\"Physics\",\"orientation\":\"v\",\"scalegroup\":\"True\",\"showlegend\":true,\"x0\":\" \",\"xaxis\":\"x\",\"y\":[4.3,4.4],\"y0\":\" \",\"yaxis\":\"y\",\"type\":\"violin\"},{\"alignmentgroup\":\"True\",\"box\":{\"visible\":false},\"hovertemplate\":\"Department=Food Science  Technology\\u003cbr\\u003eLevel of Difficulty=%{y}\\u003cextra\\u003e\\u003c\\u002fextra\\u003e\",\"legendgroup\":\"Food Science  Technology\",\"marker\":{\"color\":\"#19d3f3\"},\"name\":\"Food Science  Technology\",\"offsetgroup\":\"Food Science  Technology\",\"orientation\":\"v\",\"scalegroup\":\"True\",\"showlegend\":true,\"x0\":\" \",\"xaxis\":\"x\",\"y\":[2.7],\"y0\":\" \",\"yaxis\":\"y\",\"type\":\"violin\"},{\"alignmentgroup\":\"True\",\"box\":{\"visible\":false},\"hovertemplate\":\"Department=Film\\u003cbr\\u003eLevel of Difficulty=%{y}\\u003cextra\\u003e\\u003c\\u002fextra\\u003e\",\"legendgroup\":\"Film\",\"marker\":{\"color\":\"#FF6692\"},\"name\":\"Film\",\"offsetgroup\":\"Film\",\"orientation\":\"v\",\"scalegroup\":\"True\",\"showlegend\":true,\"x0\":\" \",\"xaxis\":\"x\",\"y\":[3.0],\"y0\":\" \",\"yaxis\":\"y\",\"type\":\"violin\"},{\"alignmentgroup\":\"True\",\"box\":{\"visible\":false},\"hovertemplate\":\"Department=Engineering\\u003cbr\\u003eLevel of Difficulty=%{y}\\u003cextra\\u003e\\u003c\\u002fextra\\u003e\",\"legendgroup\":\"Engineering\",\"marker\":{\"color\":\"#B6E880\"},\"name\":\"Engineering\",\"offsetgroup\":\"Engineering\",\"orientation\":\"v\",\"scalegroup\":\"True\",\"showlegend\":true,\"x0\":\" \",\"xaxis\":\"x\",\"y\":[3.6],\"y0\":\" \",\"yaxis\":\"y\",\"type\":\"violin\"},{\"alignmentgroup\":\"True\",\"box\":{\"visible\":false},\"hovertemplate\":\"Department=Management\\u003cbr\\u003eLevel of Difficulty=%{y}\\u003cextra\\u003e\\u003c\\u002fextra\\u003e\",\"legendgroup\":\"Management\",\"marker\":{\"color\":\"#FF97FF\"},\"name\":\"Management\",\"offsetgroup\":\"Management\",\"orientation\":\"v\",\"scalegroup\":\"True\",\"showlegend\":true,\"x0\":\" \",\"xaxis\":\"x\",\"y\":[4.1],\"y0\":\" \",\"yaxis\":\"y\",\"type\":\"violin\"}],                        {\"template\":{\"data\":{\"histogram2dcontour\":[{\"type\":\"histogram2dcontour\",\"colorbar\":{\"outlinewidth\":0,\"ticks\":\"\"},\"colorscale\":[[0.0,\"#0d0887\"],[0.1111111111111111,\"#46039f\"],[0.2222222222222222,\"#7201a8\"],[0.3333333333333333,\"#9c179e\"],[0.4444444444444444,\"#bd3786\"],[0.5555555555555556,\"#d8576b\"],[0.6666666666666666,\"#ed7953\"],[0.7777777777777778,\"#fb9f3a\"],[0.8888888888888888,\"#fdca26\"],[1.0,\"#f0f921\"]]}],\"choropleth\":[{\"type\":\"choropleth\",\"colorbar\":{\"outlinewidth\":0,\"ticks\":\"\"}}],\"histogram2d\":[{\"type\":\"histogram2d\",\"colorbar\":{\"outlinewidth\":0,\"ticks\":\"\"},\"colorscale\":[[0.0,\"#0d0887\"],[0.1111111111111111,\"#46039f\"],[0.2222222222222222,\"#7201a8\"],[0.3333333333333333,\"#9c179e\"],[0.4444444444444444,\"#bd3786\"],[0.5555555555555556,\"#d8576b\"],[0.6666666666666666,\"#ed7953\"],[0.7777777777777778,\"#fb9f3a\"],[0.8888888888888888,\"#fdca26\"],[1.0,\"#f0f921\"]]}],\"heatmap\":[{\"type\":\"heatmap\",\"colorbar\":{\"outlinewidth\":0,\"ticks\":\"\"},\"colorscale\":[[0.0,\"#0d0887\"],[0.1111111111111111,\"#46039f\"],[0.2222222222222222,\"#7201a8\"],[0.3333333333333333,\"#9c179e\"],[0.4444444444444444,\"#bd3786\"],[0.5555555555555556,\"#d8576b\"],[0.6666666666666666,\"#ed7953\"],[0.7777777777777778,\"#fb9f3a\"],[0.8888888888888888,\"#fdca26\"],[1.0,\"#f0f921\"]]}],\"heatmapgl\":[{\"type\":\"heatmapgl\",\"colorbar\":{\"outlinewidth\":0,\"ticks\":\"\"},\"colorscale\":[[0.0,\"#0d0887\"],[0.1111111111111111,\"#46039f\"],[0.2222222222222222,\"#7201a8\"],[0.3333333333333333,\"#9c179e\"],[0.4444444444444444,\"#bd3786\"],[0.5555555555555556,\"#d8576b\"],[0.6666666666666666,\"#ed7953\"],[0.7777777777777778,\"#fb9f3a\"],[0.8888888888888888,\"#fdca26\"],[1.0,\"#f0f921\"]]}],\"contourcarpet\":[{\"type\":\"contourcarpet\",\"colorbar\":{\"outlinewidth\":0,\"ticks\":\"\"}}],\"contour\":[{\"type\":\"contour\",\"colorbar\":{\"outlinewidth\":0,\"ticks\":\"\"},\"colorscale\":[[0.0,\"#0d0887\"],[0.1111111111111111,\"#46039f\"],[0.2222222222222222,\"#7201a8\"],[0.3333333333333333,\"#9c179e\"],[0.4444444444444444,\"#bd3786\"],[0.5555555555555556,\"#d8576b\"],[0.6666666666666666,\"#ed7953\"],[0.7777777777777778,\"#fb9f3a\"],[0.8888888888888888,\"#fdca26\"],[1.0,\"#f0f921\"]]}],\"surface\":[{\"type\":\"surface\",\"colorbar\":{\"outlinewidth\":0,\"ticks\":\"\"},\"colorscale\":[[0.0,\"#0d0887\"],[0.1111111111111111,\"#46039f\"],[0.2222222222222222,\"#7201a8\"],[0.3333333333333333,\"#9c179e\"],[0.4444444444444444,\"#bd3786\"],[0.5555555555555556,\"#d8576b\"],[0.6666666666666666,\"#ed7953\"],[0.7777777777777778,\"#fb9f3a\"],[0.8888888888888888,\"#fdca26\"],[1.0,\"#f0f921\"]]}],\"mesh3d\":[{\"type\":\"mesh3d\",\"colorbar\":{\"outlinewidth\":0,\"ticks\":\"\"}}],\"scatter\":[{\"marker\":{\"line\":{\"color\":\"#283442\"}},\"type\":\"scatter\"}],\"parcoords\":[{\"type\":\"parcoords\",\"line\":{\"colorbar\":{\"outlinewidth\":0,\"ticks\":\"\"}}}],\"scatterpolargl\":[{\"type\":\"scatterpolargl\",\"marker\":{\"colorbar\":{\"outlinewidth\":0,\"ticks\":\"\"}}}],\"bar\":[{\"error_x\":{\"color\":\"#f2f5fa\"},\"error_y\":{\"color\":\"#f2f5fa\"},\"marker\":{\"line\":{\"color\":\"rgb(17,17,17)\",\"width\":0.5},\"pattern\":{\"fillmode\":\"overlay\",\"size\":10,\"solidity\":0.2}},\"type\":\"bar\"}],\"scattergeo\":[{\"type\":\"scattergeo\",\"marker\":{\"colorbar\":{\"outlinewidth\":0,\"ticks\":\"\"}}}],\"scatterpolar\":[{\"type\":\"scatterpolar\",\"marker\":{\"colorbar\":{\"outlinewidth\":0,\"ticks\":\"\"}}}],\"histogram\":[{\"marker\":{\"pattern\":{\"fillmode\":\"overlay\",\"size\":10,\"solidity\":0.2}},\"type\":\"histogram\"}],\"scattergl\":[{\"marker\":{\"line\":{\"color\":\"#283442\"}},\"type\":\"scattergl\"}],\"scatter3d\":[{\"type\":\"scatter3d\",\"line\":{\"colorbar\":{\"outlinewidth\":0,\"ticks\":\"\"}},\"marker\":{\"colorbar\":{\"outlinewidth\":0,\"ticks\":\"\"}}}],\"scattermapbox\":[{\"type\":\"scattermapbox\",\"marker\":{\"colorbar\":{\"outlinewidth\":0,\"ticks\":\"\"}}}],\"scatterternary\":[{\"type\":\"scatterternary\",\"marker\":{\"colorbar\":{\"outlinewidth\":0,\"ticks\":\"\"}}}],\"scattercarpet\":[{\"type\":\"scattercarpet\",\"marker\":{\"colorbar\":{\"outlinewidth\":0,\"ticks\":\"\"}}}],\"carpet\":[{\"aaxis\":{\"endlinecolor\":\"#A2B1C6\",\"gridcolor\":\"#506784\",\"linecolor\":\"#506784\",\"minorgridcolor\":\"#506784\",\"startlinecolor\":\"#A2B1C6\"},\"baxis\":{\"endlinecolor\":\"#A2B1C6\",\"gridcolor\":\"#506784\",\"linecolor\":\"#506784\",\"minorgridcolor\":\"#506784\",\"startlinecolor\":\"#A2B1C6\"},\"type\":\"carpet\"}],\"table\":[{\"cells\":{\"fill\":{\"color\":\"#506784\"},\"line\":{\"color\":\"rgb(17,17,17)\"}},\"header\":{\"fill\":{\"color\":\"#2a3f5f\"},\"line\":{\"color\":\"rgb(17,17,17)\"}},\"type\":\"table\"}],\"barpolar\":[{\"marker\":{\"line\":{\"color\":\"rgb(17,17,17)\",\"width\":0.5},\"pattern\":{\"fillmode\":\"overlay\",\"size\":10,\"solidity\":0.2}},\"type\":\"barpolar\"}],\"pie\":[{\"automargin\":true,\"type\":\"pie\"}]},\"layout\":{\"autotypenumbers\":\"strict\",\"colorway\":[\"#636efa\",\"#EF553B\",\"#00cc96\",\"#ab63fa\",\"#FFA15A\",\"#19d3f3\",\"#FF6692\",\"#B6E880\",\"#FF97FF\",\"#FECB52\"],\"font\":{\"color\":\"#f2f5fa\"},\"hovermode\":\"closest\",\"hoverlabel\":{\"align\":\"left\"},\"paper_bgcolor\":\"rgb(17,17,17)\",\"plot_bgcolor\":\"rgb(17,17,17)\",\"polar\":{\"bgcolor\":\"rgb(17,17,17)\",\"angularaxis\":{\"gridcolor\":\"#506784\",\"linecolor\":\"#506784\",\"ticks\":\"\"},\"radialaxis\":{\"gridcolor\":\"#506784\",\"linecolor\":\"#506784\",\"ticks\":\"\"}},\"ternary\":{\"bgcolor\":\"rgb(17,17,17)\",\"aaxis\":{\"gridcolor\":\"#506784\",\"linecolor\":\"#506784\",\"ticks\":\"\"},\"baxis\":{\"gridcolor\":\"#506784\",\"linecolor\":\"#506784\",\"ticks\":\"\"},\"caxis\":{\"gridcolor\":\"#506784\",\"linecolor\":\"#506784\",\"ticks\":\"\"}},\"coloraxis\":{\"colorbar\":{\"outlinewidth\":0,\"ticks\":\"\"}},\"colorscale\":{\"sequential\":[[0.0,\"#0d0887\"],[0.1111111111111111,\"#46039f\"],[0.2222222222222222,\"#7201a8\"],[0.3333333333333333,\"#9c179e\"],[0.4444444444444444,\"#bd3786\"],[0.5555555555555556,\"#d8576b\"],[0.6666666666666666,\"#ed7953\"],[0.7777777777777778,\"#fb9f3a\"],[0.8888888888888888,\"#fdca26\"],[1.0,\"#f0f921\"]],\"sequentialminus\":[[0.0,\"#0d0887\"],[0.1111111111111111,\"#46039f\"],[0.2222222222222222,\"#7201a8\"],[0.3333333333333333,\"#9c179e\"],[0.4444444444444444,\"#bd3786\"],[0.5555555555555556,\"#d8576b\"],[0.6666666666666666,\"#ed7953\"],[0.7777777777777778,\"#fb9f3a\"],[0.8888888888888888,\"#fdca26\"],[1.0,\"#f0f921\"]],\"diverging\":[[0,\"#8e0152\"],[0.1,\"#c51b7d\"],[0.2,\"#de77ae\"],[0.3,\"#f1b6da\"],[0.4,\"#fde0ef\"],[0.5,\"#f7f7f7\"],[0.6,\"#e6f5d0\"],[0.7,\"#b8e186\"],[0.8,\"#7fbc41\"],[0.9,\"#4d9221\"],[1,\"#276419\"]]},\"xaxis\":{\"gridcolor\":\"#283442\",\"linecolor\":\"#506784\",\"ticks\":\"\",\"title\":{\"standoff\":15},\"zerolinecolor\":\"#283442\",\"automargin\":true,\"zerolinewidth\":2},\"yaxis\":{\"gridcolor\":\"#283442\",\"linecolor\":\"#506784\",\"ticks\":\"\",\"title\":{\"standoff\":15},\"zerolinecolor\":\"#283442\",\"automargin\":true,\"zerolinewidth\":2},\"scene\":{\"xaxis\":{\"backgroundcolor\":\"rgb(17,17,17)\",\"gridcolor\":\"#506784\",\"linecolor\":\"#506784\",\"showbackground\":true,\"ticks\":\"\",\"zerolinecolor\":\"#C8D4E3\",\"gridwidth\":2},\"yaxis\":{\"backgroundcolor\":\"rgb(17,17,17)\",\"gridcolor\":\"#506784\",\"linecolor\":\"#506784\",\"showbackground\":true,\"ticks\":\"\",\"zerolinecolor\":\"#C8D4E3\",\"gridwidth\":2},\"zaxis\":{\"backgroundcolor\":\"rgb(17,17,17)\",\"gridcolor\":\"#506784\",\"linecolor\":\"#506784\",\"showbackground\":true,\"ticks\":\"\",\"zerolinecolor\":\"#C8D4E3\",\"gridwidth\":2}},\"shapedefaults\":{\"line\":{\"color\":\"#f2f5fa\"}},\"annotationdefaults\":{\"arrowcolor\":\"#f2f5fa\",\"arrowhead\":0,\"arrowwidth\":1},\"geo\":{\"bgcolor\":\"rgb(17,17,17)\",\"landcolor\":\"rgb(17,17,17)\",\"subunitcolor\":\"#506784\",\"showland\":true,\"showlakes\":true,\"lakecolor\":\"rgb(17,17,17)\"},\"title\":{\"x\":0.05},\"updatemenudefaults\":{\"bgcolor\":\"#506784\",\"borderwidth\":0},\"sliderdefaults\":{\"bgcolor\":\"#C8D4E3\",\"borderwidth\":1,\"bordercolor\":\"rgb(17,17,17)\",\"tickwidth\":0},\"mapbox\":{\"style\":\"dark\"}}},\"xaxis\":{\"anchor\":\"y\",\"domain\":[0.0,1.0]},\"yaxis\":{\"anchor\":\"x\",\"domain\":[0.0,1.0],\"title\":{\"text\":\"Level of Difficulty\"}},\"legend\":{\"title\":{\"text\":\"Department\"},\"tracegroupgap\":0},\"margin\":{\"t\":60},\"violinmode\":\"overlay\"},                        {\"responsive\": true}                    ).then(function(){\n                            \nvar gd = document.getElementById('79a64518-4820-44f7-9e57-cd20a153a350');\nvar x = new MutationObserver(function (mutations, observer) {{\n        var display = window.getComputedStyle(gd).display;\n        if (!display || display === 'none') {{\n            console.log([gd, 'removed!']);\n            Plotly.purge(gd);\n            observer.disconnect();\n        }}\n}});\n\n// Listen for the removal of the full notebook cells\nvar notebookContainer = gd.closest('#notebook-container');\nif (notebookContainer) {{\n    x.observe(notebookContainer, {childList: true});\n}}\n\n// Listen for the clearing of the current output cell\nvar outputEl = gd.closest('.output');\nif (outputEl) {{\n    x.observe(outputEl, {childList: true});\n}}\n\n                        })                };                });            </script>        </div>"
     },
     "metadata": {},
     "output_type": "display_data"
    }
   ],
   "source": [
    "filtered_prof_diff_df = professors_df[professors_df['Total Ratings'] > 100]\n",
    "fig = px.violin(filtered_prof_diff_df, y='Level of Difficulty', color='Department', violinmode='overlay')\n",
    "fig.show()"
   ],
   "metadata": {
    "collapsed": false,
    "ExecuteTime": {
     "end_time": "2024-03-19T22:31:35.277020900Z",
     "start_time": "2024-03-19T22:31:35.012524800Z"
    }
   },
   "id": "79835fe000cebef2"
  },
  {
   "cell_type": "code",
   "execution_count": 92,
   "outputs": [
    {
     "ename": "ValueError",
     "evalue": "The truth value of a Series is ambiguous. Use a.empty, a.bool(), a.item(), a.any() or a.all().",
     "output_type": "error",
     "traceback": [
      "\u001B[1;31m---------------------------------------------------------------------------\u001B[0m",
      "\u001B[1;31mValueError\u001B[0m                                Traceback (most recent call last)",
      "\u001B[1;32m~\\AppData\\Local\\Temp\\ipykernel_103436\\3363583479.py\u001B[0m in \u001B[0;36m?\u001B[1;34m()\u001B[0m\n\u001B[1;32m----> 1\u001B[1;33m \u001B[0mfiltered_prof_df\u001B[0m \u001B[1;33m=\u001B[0m \u001B[0mprofessors_df\u001B[0m\u001B[1;33m[\u001B[0m\u001B[0mprofessors_df\u001B[0m\u001B[1;33m[\u001B[0m\u001B[1;34m'Department'\u001B[0m\u001B[1;33m]\u001B[0m \u001B[1;32min\u001B[0m \u001B[0mlist\u001B[0m\u001B[1;33m(\u001B[0m\u001B[0mdeps_dict\u001B[0m\u001B[1;33m.\u001B[0m\u001B[0mkeys\u001B[0m\u001B[1;33m(\u001B[0m\u001B[1;33m)\u001B[0m\u001B[1;33m)\u001B[0m\u001B[1;33m[\u001B[0m\u001B[1;33m:\u001B[0m\u001B[1;36m5\u001B[0m\u001B[1;33m]\u001B[0m\u001B[1;33m]\u001B[0m\u001B[1;33m\u001B[0m\u001B[1;33m\u001B[0m\u001B[0m\n\u001B[0m\u001B[0;32m      2\u001B[0m \u001B[0mprof_course_diff_df\u001B[0m \u001B[1;33m=\u001B[0m \u001B[0mpd\u001B[0m\u001B[1;33m.\u001B[0m\u001B[0mmerge\u001B[0m\u001B[1;33m(\u001B[0m\u001B[0mfiltered_prof_df\u001B[0m\u001B[1;33m,\u001B[0m \u001B[0mcourses\u001B[0m\u001B[1;33m,\u001B[0m \u001B[0mleft_on\u001B[0m\u001B[1;33m=\u001B[0m\u001B[1;33m[\u001B[0m\u001B[1;34m'Department'\u001B[0m\u001B[1;33m,\u001B[0m \u001B[1;34m'Professor'\u001B[0m\u001B[1;33m]\u001B[0m\u001B[1;33m,\u001B[0m \u001B[0mright_on\u001B[0m\u001B[1;33m=\u001B[0m\u001B[1;33m[\u001B[0m\u001B[1;34m'Subject Name'\u001B[0m\u001B[1;33m,\u001B[0m \u001B[1;34m'ProfName'\u001B[0m\u001B[1;33m]\u001B[0m\u001B[1;33m,\u001B[0m \u001B[0mhow\u001B[0m\u001B[1;33m=\u001B[0m\u001B[1;34m'left'\u001B[0m\u001B[1;33m)\u001B[0m\u001B[1;33m\u001B[0m\u001B[1;33m\u001B[0m\u001B[0m\n",
      "\u001B[1;32m~\\Downloads\\SmartAggie\\venv\\Lib\\site-packages\\pandas\\core\\generic.py\u001B[0m in \u001B[0;36m?\u001B[1;34m(self)\u001B[0m\n\u001B[0;32m   1574\u001B[0m     \u001B[1;33m@\u001B[0m\u001B[0mfinal\u001B[0m\u001B[1;33m\u001B[0m\u001B[1;33m\u001B[0m\u001B[0m\n\u001B[0;32m   1575\u001B[0m     \u001B[1;32mdef\u001B[0m \u001B[0m__nonzero__\u001B[0m\u001B[1;33m(\u001B[0m\u001B[0mself\u001B[0m\u001B[1;33m)\u001B[0m \u001B[1;33m->\u001B[0m \u001B[0mNoReturn\u001B[0m\u001B[1;33m:\u001B[0m\u001B[1;33m\u001B[0m\u001B[1;33m\u001B[0m\u001B[0m\n\u001B[1;32m-> 1576\u001B[1;33m         raise ValueError(\n\u001B[0m\u001B[0;32m   1577\u001B[0m             \u001B[1;33mf\"\u001B[0m\u001B[1;33mThe truth value of a \u001B[0m\u001B[1;33m{\u001B[0m\u001B[0mtype\u001B[0m\u001B[1;33m(\u001B[0m\u001B[0mself\u001B[0m\u001B[1;33m)\u001B[0m\u001B[1;33m.\u001B[0m\u001B[0m__name__\u001B[0m\u001B[1;33m}\u001B[0m\u001B[1;33m is ambiguous. \u001B[0m\u001B[1;33m\"\u001B[0m\u001B[1;33m\u001B[0m\u001B[1;33m\u001B[0m\u001B[0m\n\u001B[0;32m   1578\u001B[0m             \u001B[1;34m\"Use a.empty, a.bool(), a.item(), a.any() or a.all().\"\u001B[0m\u001B[1;33m\u001B[0m\u001B[1;33m\u001B[0m\u001B[0m\n\u001B[0;32m   1579\u001B[0m         \u001B[1;33m)\u001B[0m\u001B[1;33m\u001B[0m\u001B[1;33m\u001B[0m\u001B[0m\n",
      "\u001B[1;31mValueError\u001B[0m: The truth value of a Series is ambiguous. Use a.empty, a.bool(), a.item(), a.any() or a.all()."
     ]
    }
   ],
   "source": [
    "filtered_prof_df = professors_df.filter(like)\n",
    "prof_course_diff_df = pd.merge(filtered_prof_df, courses, left_on=['Department', 'Professor'], right_on=['Subject Name', 'ProfName'], how='left')"
   ],
   "metadata": {
    "collapsed": false,
    "ExecuteTime": {
     "end_time": "2024-03-19T22:37:16.434815700Z",
     "start_time": "2024-03-19T22:37:16.394923600Z"
    }
   },
   "id": "8721c85cf284c1a"
  },
  {
   "cell_type": "code",
   "execution_count": null,
   "outputs": [],
   "source": [],
   "metadata": {
    "collapsed": false
   },
   "id": "588030db8b642018"
  }
 ],
 "metadata": {
  "kernelspec": {
   "display_name": "Python 3",
   "language": "python",
   "name": "python3"
  },
  "language_info": {
   "codemirror_mode": {
    "name": "ipython",
    "version": 2
   },
   "file_extension": ".py",
   "mimetype": "text/x-python",
   "name": "python",
   "nbconvert_exporter": "python",
   "pygments_lexer": "ipython2",
   "version": "2.7.6"
  }
 },
 "nbformat": 4,
 "nbformat_minor": 5
}
